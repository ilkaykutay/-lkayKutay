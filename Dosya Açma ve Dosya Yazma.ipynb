{
 "cells": [
  {
   "cell_type": "markdown",
   "id": "30a4a548",
   "metadata": {},
   "source": [
    "Bir dosyayı acmak ıcın open fonksıyonuny kullanıyoruz. open(dosya_adı,dosya_erişme_kipi)\n",
    "w kipi:Dosyalarımızı acmak ve yazmak ıcın write anlamına gelen w kipini kullanırız.w kipi eger dosya yoksa o dosyayı olusturur.\n",
    "Eger o dosya önceden olusturulmussa eski dosyanın üstüne o dosya yazılır.\n"
   ]
  },
  {
   "cell_type": "code",
   "execution_count": 1,
   "id": "9a4732dd",
   "metadata": {},
   "outputs": [
    {
     "data": {
      "text/plain": [
       "<_io.TextIOWrapper name='bilgiler.txt' mode='w' encoding='cp1254'>"
      ]
     },
     "execution_count": 1,
     "metadata": {},
     "output_type": "execute_result"
    }
   ],
   "source": [
    "open(\"bilgiler.txt\",\"w\")"
   ]
  },
  {
   "cell_type": "code",
   "execution_count": 2,
   "id": "b47bab18",
   "metadata": {},
   "outputs": [],
   "source": [
    "file=open(\"bilgiler.txt\",\"w\")"
   ]
  },
  {
   "cell_type": "markdown",
   "id": "6894e933",
   "metadata": {},
   "source": [
    "Eger bız dosyaları ozel olarak kapatmassak sistemi gereksiz kullanabılır.O yüzden kapatmamız lazım.Bunun için de close\n",
    "metodunu kullanırız."
   ]
  },
  {
   "cell_type": "code",
   "execution_count": 4,
   "id": "29b6376d",
   "metadata": {},
   "outputs": [],
   "source": [
    "file.close()#dosyamızı kapattık."
   ]
  },
  {
   "cell_type": "code",
   "execution_count": 23,
   "id": "70a7c40e",
   "metadata": {},
   "outputs": [],
   "source": [
    "file=open(\"D:/bilgiler.txt\",\"w\")#Boyle yaparak hedefledıgımız yere ıstedıgımız dosyayı kurduk."
   ]
  },
  {
   "cell_type": "code",
   "execution_count": 40,
   "id": "93ea9d3b",
   "metadata": {},
   "outputs": [],
   "source": [
    "file=open(\"bilgiler.txt\",\"w\",encoding=\"utf-8\")"
   ]
  },
  {
   "cell_type": "code",
   "execution_count": 41,
   "id": "00e35697",
   "metadata": {},
   "outputs": [
    {
     "data": {
      "text/plain": [
       "11"
      ]
     },
     "execution_count": 41,
     "metadata": {},
     "output_type": "execute_result"
    }
   ],
   "source": [
    "file.write(\"İlkay Kutay\")#11 karakterlik string yazdırcagımız soyluyoruz.Her bir karakter bir bayt eder."
   ]
  },
  {
   "cell_type": "code",
   "execution_count": 42,
   "id": "11fb2f1c",
   "metadata": {},
   "outputs": [],
   "source": [
    "file.close()#Türkce karakter oldugu ıcın sıkıntı cıkardı.Ancak encodingi kullanarak bunun önune gecebiliriz."
   ]
  },
  {
   "cell_type": "markdown",
   "id": "c4e5de05",
   "metadata": {},
   "source": [
    "w kipi durmadan yeni dosya acıp kapadıgı ıcın o dosyadakı bılgılerı koruyamıyabılırız.Bu yüzden ekleme anlamına gelen append\n",
    "kullanılır.\"a\"şeklinde yazılır."
   ]
  },
  {
   "cell_type": "code",
   "execution_count": 43,
   "id": "61ca6e43",
   "metadata": {},
   "outputs": [],
   "source": [
    "file=open(\"bilgiler.txt\",\"a\",encoding=\"utf-8\")"
   ]
  },
  {
   "cell_type": "code",
   "execution_count": 44,
   "id": "412dc1ac",
   "metadata": {},
   "outputs": [
    {
     "data": {
      "text/plain": [
       "6"
      ]
     },
     "execution_count": 44,
     "metadata": {},
     "output_type": "execute_result"
    }
   ],
   "source": [
    "file.write(\"Mehmet\")"
   ]
  },
  {
   "cell_type": "code",
   "execution_count": 45,
   "id": "84786265",
   "metadata": {},
   "outputs": [],
   "source": [
    "file.close()"
   ]
  },
  {
   "cell_type": "code",
   "execution_count": 46,
   "id": "325de6cc",
   "metadata": {},
   "outputs": [],
   "source": [
    "file=open(\"bilgiler.txt\",\"a\",encoding=\"utf-8\")"
   ]
  },
  {
   "cell_type": "code",
   "execution_count": 47,
   "id": "3472072e",
   "metadata": {},
   "outputs": [
    {
     "data": {
      "text/plain": [
       "6"
      ]
     },
     "execution_count": 47,
     "metadata": {},
     "output_type": "execute_result"
    }
   ],
   "source": [
    "file.write(\"\\nAslan\")"
   ]
  },
  {
   "cell_type": "code",
   "execution_count": 48,
   "id": "49a1a099",
   "metadata": {},
   "outputs": [],
   "source": [
    "file.close()"
   ]
  },
  {
   "cell_type": "code",
   "execution_count": 49,
   "id": "269411b4",
   "metadata": {},
   "outputs": [],
   "source": [
    "file=open(\"bilgiler.txt\",\"a\",encoding=\"utf-8\")"
   ]
  },
  {
   "cell_type": "code",
   "execution_count": 50,
   "id": "db7404a5",
   "metadata": {},
   "outputs": [
    {
     "data": {
      "text/plain": [
       "12"
      ]
     },
     "execution_count": 50,
     "metadata": {},
     "output_type": "execute_result"
    }
   ],
   "source": [
    "file.write(\"İlkay Kutay\\n\")"
   ]
  },
  {
   "cell_type": "code",
   "execution_count": 51,
   "id": "a7b8eb0e",
   "metadata": {},
   "outputs": [
    {
     "data": {
      "text/plain": [
       "6"
      ]
     },
     "execution_count": 51,
     "metadata": {},
     "output_type": "execute_result"
    }
   ],
   "source": [
    "file.write(\"MEHMET\")"
   ]
  },
  {
   "cell_type": "code",
   "execution_count": 52,
   "id": "54e59276",
   "metadata": {},
   "outputs": [],
   "source": [
    "file.close()"
   ]
  },
  {
   "cell_type": "code",
   "execution_count": null,
   "id": "238dae6c",
   "metadata": {},
   "outputs": [],
   "source": []
  }
 ],
 "metadata": {
  "kernelspec": {
   "display_name": "Python 3 (ipykernel)",
   "language": "python",
   "name": "python3"
  },
  "language_info": {
   "codemirror_mode": {
    "name": "ipython",
    "version": 3
   },
   "file_extension": ".py",
   "mimetype": "text/x-python",
   "name": "python",
   "nbconvert_exporter": "python",
   "pygments_lexer": "ipython3",
   "version": "3.9.13"
  }
 },
 "nbformat": 4,
 "nbformat_minor": 5
}
