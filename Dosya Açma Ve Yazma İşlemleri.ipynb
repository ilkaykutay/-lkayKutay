{
 "cells": [
  {
   "cell_type": "markdown",
   "id": "c69524e5",
   "metadata": {},
   "source": [
    "Bir dosyayı acmak icin open fonksıyonunu kullanırız.Formatı open(dosya_adı,dosya_erişme_kipi) şeklindedir.Burda dosya erişme kipi denılen sey bizim o dosya uzerınde yapıcagımız işlemi belirtiyor.\n",
    "w dosya kipi:Dosyalarımızı acmak ve dosyalarımıza yazmak icin write anlamına gelen w kipini kullanırız.Eger olusturmak ıstedıgımız dosya yok ise o dosyayı olusturur ancak o isimde farklı bır dosya var ise dosyayı silip,bizim yazdıgımız dosyayı olusturur."
   ]
  },
  {
   "cell_type": "code",
   "execution_count": 1,
   "id": "776c3bd2",
   "metadata": {},
   "outputs": [
    {
     "data": {
      "text/plain": [
       "<_io.TextIOWrapper name='bilgiler.txt' mode='w' encoding='cp1254'>"
      ]
     },
     "execution_count": 1,
     "metadata": {},
     "output_type": "execute_result"
    }
   ],
   "source": [
    "open(\"bilgiler.txt\",\"w\")# dosya objemız olustu."
   ]
  },
  {
   "cell_type": "code",
   "execution_count": 8,
   "id": "97a468f2",
   "metadata": {},
   "outputs": [],
   "source": [
    "file=open(\"bilgiler.txt\",\"w\")# artık butun dosya ıslemlerımı file degıskenı uzerınden gerceklestırebılırız."
   ]
  },
  {
   "cell_type": "code",
   "execution_count": 3,
   "id": "aea874b5",
   "metadata": {},
   "outputs": [],
   "source": [
    "file.close()# dosyaları ozellıkle kapatmalıyız.Eger kapatmazsak sistemimizi gereksiz yere yorabılır. "
   ]
  },
  {
   "cell_type": "code",
   "execution_count": 21,
   "id": "63837460",
   "metadata": {},
   "outputs": [
    {
     "ename": "PermissionError",
     "evalue": "[Errno 13] Permission denied: 'C:/bilgiler.txt'",
     "output_type": "error",
     "traceback": [
      "\u001b[1;31m---------------------------------------------------------------------------\u001b[0m",
      "\u001b[1;31mPermissionError\u001b[0m                           Traceback (most recent call last)",
      "Input \u001b[1;32mIn [21]\u001b[0m, in \u001b[0;36m<cell line: 1>\u001b[1;34m()\u001b[0m\n\u001b[1;32m----> 1\u001b[0m file \u001b[38;5;241m=\u001b[39m\u001b[38;5;28;43mopen\u001b[39;49m\u001b[43m(\u001b[49m\u001b[38;5;124;43m\"\u001b[39;49m\u001b[38;5;124;43mC:/bilgiler.txt\u001b[39;49m\u001b[38;5;124;43m\"\u001b[39;49m\u001b[43m,\u001b[49m\u001b[38;5;124;43m\"\u001b[39;49m\u001b[38;5;124;43mw\u001b[39;49m\u001b[38;5;124;43m\"\u001b[39;49m\u001b[43m)\u001b[49m\n",
      "\u001b[1;31mPermissionError\u001b[0m: [Errno 13] Permission denied: 'C:/bilgiler.txt'"
     ]
    }
   ],
   "source": [
    "file =open(\"C:/bilgiler.txt\",\"w\")\n",
    "#open fonkunu kullanarak bu klasorun ıcınde dosya oto olarak olustu.Eger farklı bır klasorde acmak ıstersek belırtmemız lazım."
   ]
  },
  {
   "cell_type": "code",
   "execution_count": 25,
   "id": "866d925f",
   "metadata": {},
   "outputs": [],
   "source": [
    "file1=open(\"bilgiler1.txt\",\"w\")"
   ]
  },
  {
   "cell_type": "code",
   "execution_count": 26,
   "id": "626f9597",
   "metadata": {},
   "outputs": [],
   "source": [
    "file1.close()"
   ]
  },
  {
   "cell_type": "code",
   "execution_count": 33,
   "id": "2e34e1f3",
   "metadata": {},
   "outputs": [],
   "source": [
    "file=open(\"bilgiler.txt\",\"w\",encoding=\"utf-8\")"
   ]
  },
  {
   "cell_type": "code",
   "execution_count": 34,
   "id": "6c2906f3",
   "metadata": {},
   "outputs": [
    {
     "data": {
      "text/plain": [
       "11"
      ]
     },
     "execution_count": 34,
     "metadata": {},
     "output_type": "execute_result"
    }
   ],
   "source": [
    "file.write(\"İlkay kutay\")\n",
    "#Burda kodumuzu calıstırdıgımızda kodumuz hata verıcek dosyada,bunun sebebı utf-8 ile kodlanmamasından kaynaklanıyor.\n",
    "#utf-8 elmanları ıle kodlamamız lazım.Bu hatadan kurtulmak ıcın encodıng utf-8 yapıcaz."
   ]
  },
  {
   "cell_type": "code",
   "execution_count": 35,
   "id": "7a3520a6",
   "metadata": {},
   "outputs": [],
   "source": [
    "file.close()"
   ]
  },
  {
   "cell_type": "markdown",
   "id": "323ca414",
   "metadata": {},
   "source": [
    "Eger bız durmadan calıstırıp durdurursak bır dosyayı sureklı sılınıp sonda yazdıgımız kodu gırıcek.Eger bir dosyaya ekleme yapcak isek append anlamına gelen \"a\" kıpını kullanırız."
   ]
  },
  {
   "cell_type": "code",
   "execution_count": 57,
   "id": "5359a213",
   "metadata": {},
   "outputs": [],
   "source": [
    "file=open(\"bilgiler.txt\",\"a\",encoding=\"utf-8\")"
   ]
  },
  {
   "cell_type": "code",
   "execution_count": 58,
   "id": "6aa3461f",
   "metadata": {},
   "outputs": [
    {
     "data": {
      "text/plain": [
       "12"
      ]
     },
     "execution_count": 58,
     "metadata": {},
     "output_type": "execute_result"
    }
   ],
   "source": [
    "file.write(\"İlkay Kutay\\n\")"
   ]
  },
  {
   "cell_type": "code",
   "execution_count": 59,
   "id": "f701a888",
   "metadata": {},
   "outputs": [],
   "source": [
    "file.close()"
   ]
  },
  {
   "cell_type": "code",
   "execution_count": 60,
   "id": "643a8d3f",
   "metadata": {},
   "outputs": [],
   "source": [
    "file=open(\"bilgiler.txt\",\"a\",encoding=\"utf-8\")\n"
   ]
  },
  {
   "cell_type": "code",
   "execution_count": 61,
   "id": "739bfa03",
   "metadata": {},
   "outputs": [
    {
     "data": {
      "text/plain": [
       "12"
      ]
     },
     "execution_count": 61,
     "metadata": {},
     "output_type": "execute_result"
    }
   ],
   "source": [
    "file.write(\"İlkan Kutay\\n\")\n"
   ]
  },
  {
   "cell_type": "code",
   "execution_count": 62,
   "id": "ced0c2f4",
   "metadata": {},
   "outputs": [],
   "source": [
    "file.close()"
   ]
  },
  {
   "cell_type": "code",
   "execution_count": null,
   "id": "666a43fb",
   "metadata": {},
   "outputs": [],
   "source": []
  }
 ],
 "metadata": {
  "kernelspec": {
   "display_name": "Python 3 (ipykernel)",
   "language": "python",
   "name": "python3"
  },
  "language_info": {
   "codemirror_mode": {
    "name": "ipython",
    "version": 3
   },
   "file_extension": ".py",
   "mimetype": "text/x-python",
   "name": "python",
   "nbconvert_exporter": "python",
   "pygments_lexer": "ipython3",
   "version": "3.9.12"
  }
 },
 "nbformat": 4,
 "nbformat_minor": 5
}
