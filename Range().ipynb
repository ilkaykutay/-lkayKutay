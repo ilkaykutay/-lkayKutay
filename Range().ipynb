{
 "cells": [
  {
   "cell_type": "markdown",
   "id": "bd688991",
   "metadata": {},
   "source": [
    "range fonksıyonu baslangıc bıtıs ve artıs mıktarı gırılerek sırasıyla o sayıları yazdırmaya yarıyor.Artıs mıktarını yazdırmaya gerek yok.Ayrıca bıtıs degerı yazılmaz"
   ]
  },
  {
   "cell_type": "code",
   "execution_count": 1,
   "id": "d0b1111f",
   "metadata": {},
   "outputs": [
    {
     "data": {
      "text/plain": [
       "range(0, 20)"
      ]
     },
     "execution_count": 1,
     "metadata": {},
     "output_type": "execute_result"
    }
   ],
   "source": [
    "range(0,20)"
   ]
  },
  {
   "cell_type": "code",
   "execution_count": 2,
   "id": "b010ca50",
   "metadata": {},
   "outputs": [
    {
     "name": "stdout",
     "output_type": "stream",
     "text": [
      "0 1 2 3 4 5 6 7 8 9 10 11 12 13 14 15 16 17 18 19\n"
     ]
    }
   ],
   "source": [
    "print(*range(0,20)) #rangeın ıcındekı degerlerı cıkarmak ıcın yıldız koyarız."
   ]
  },
  {
   "cell_type": "code",
   "execution_count": 3,
   "id": "7e39cb4d",
   "metadata": {},
   "outputs": [
    {
     "name": "stdout",
     "output_type": "stream",
     "text": [
      "0 1 2 3 4 5 6 7 8 9 10 11 12 13 14\n"
     ]
    }
   ],
   "source": [
    "print(*range(15)) # python bunu otomatık olarak 0 dan baslatıyor."
   ]
  },
  {
   "cell_type": "code",
   "execution_count": 6,
   "id": "0ca320a0",
   "metadata": {},
   "outputs": [
    {
     "name": "stdout",
     "output_type": "stream",
     "text": [
      "1 3 5 7 9 11 13 15 17 19 21 23 25 27 29 31 33 35 37 39 41 43 45 47 49 51 53 55 57 59 61 63 65 67 69 71 73 75 77 79 81 83 85 87 89 91 93 95 97 99\n"
     ]
    }
   ],
   "source": [
    "print(*range(1,100,2))"
   ]
  },
  {
   "cell_type": "code",
   "execution_count": 13,
   "id": "96d59a4a",
   "metadata": {},
   "outputs": [
    {
     "name": "stdout",
     "output_type": "stream",
     "text": [
      "20 19 18 17 16 15 14 13 12 11 10 9 8 7 6 5 4 3 2 1\n"
     ]
    }
   ],
   "source": [
    "print(*range(20,0,-1))"
   ]
  },
  {
   "cell_type": "code",
   "execution_count": 14,
   "id": "55d3b1e5",
   "metadata": {},
   "outputs": [
    {
     "name": "stdout",
     "output_type": "stream",
     "text": [
      "0\n",
      "1\n",
      "2\n",
      "3\n",
      "4\n",
      "5\n",
      "6\n",
      "7\n",
      "8\n",
      "9\n",
      "10\n",
      "11\n",
      "12\n",
      "13\n",
      "14\n",
      "15\n",
      "16\n",
      "17\n",
      "18\n",
      "19\n"
     ]
    }
   ],
   "source": [
    "liste=range(0,20)\n",
    "for i in liste:\n",
    "    print(i)"
   ]
  },
  {
   "cell_type": "code",
   "execution_count": 17,
   "id": "cbe22792",
   "metadata": {},
   "outputs": [
    {
     "name": "stdout",
     "output_type": "stream",
     "text": [
      "*\n",
      "**\n",
      "***\n",
      "****\n",
      "*****\n",
      "******\n",
      "*******\n",
      "********\n",
      "*********\n"
     ]
    }
   ],
   "source": [
    "for i in range(1,10):\n",
    "    print(\"*\"*i)"
   ]
  },
  {
   "cell_type": "code",
   "execution_count": null,
   "id": "28e15c27",
   "metadata": {},
   "outputs": [],
   "source": []
  },
  {
   "cell_type": "code",
   "execution_count": null,
   "id": "52e6543d",
   "metadata": {},
   "outputs": [],
   "source": []
  }
 ],
 "metadata": {
  "kernelspec": {
   "display_name": "Python 3 (ipykernel)",
   "language": "python",
   "name": "python3"
  },
  "language_info": {
   "codemirror_mode": {
    "name": "ipython",
    "version": 3
   },
   "file_extension": ".py",
   "mimetype": "text/x-python",
   "name": "python",
   "nbconvert_exporter": "python",
   "pygments_lexer": "ipython3",
   "version": "3.9.12"
  }
 },
 "nbformat": 4,
 "nbformat_minor": 5
}
