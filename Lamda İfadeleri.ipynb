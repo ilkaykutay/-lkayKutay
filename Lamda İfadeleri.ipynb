{
 "cells": [
  {
   "cell_type": "markdown",
   "id": "3bee2a05",
   "metadata": {},
   "source": [
    "Lambda ifadeleri fonksiyonlarımızı oluşturmak için pythonda bulunan pratik bir yöntemdir ve gerektiği yerlerde bu ifadeleri kullanabiliriz."
   ]
  },
  {
   "cell_type": "code",
   "execution_count": 1,
   "id": "cb08a275",
   "metadata": {},
   "outputs": [],
   "source": [
    "liste1=[1,2,3,4,5]\n",
    "liste2=[i*2 for i in liste1]"
   ]
  },
  {
   "cell_type": "code",
   "execution_count": 2,
   "id": "d9bbec87",
   "metadata": {},
   "outputs": [
    {
     "data": {
      "text/plain": [
       "[2, 4, 6, 8, 10]"
      ]
     },
     "execution_count": 2,
     "metadata": {},
     "output_type": "execute_result"
    }
   ],
   "source": [
    "liste2"
   ]
  },
  {
   "cell_type": "code",
   "execution_count": 3,
   "id": "213ba42a",
   "metadata": {},
   "outputs": [
    {
     "name": "stdout",
     "output_type": "stream",
     "text": [
      "4\n"
     ]
    }
   ],
   "source": [
    "def ikiylecarp(x):\n",
    "    return x*2\n",
    "print(ikiylecarp(2))"
   ]
  },
  {
   "cell_type": "code",
   "execution_count": 4,
   "id": "104a6d54",
   "metadata": {},
   "outputs": [
    {
     "data": {
      "text/plain": [
       "6"
      ]
     },
     "execution_count": 4,
     "metadata": {},
     "output_type": "execute_result"
    }
   ],
   "source": [
    "ikiylecarp=lambda x:x*2\n",
    "ikiylecarp(3)"
   ]
  },
  {
   "cell_type": "code",
   "execution_count": 5,
   "id": "89ff5354",
   "metadata": {},
   "outputs": [
    {
     "name": "stdout",
     "output_type": "stream",
     "text": [
      "33\n"
     ]
    }
   ],
   "source": [
    "def toplama(x,y,z):\n",
    "    return x+y+z\n",
    "print(toplama(10,11,12))\n"
   ]
  },
  {
   "cell_type": "code",
   "execution_count": 6,
   "id": "f6641494",
   "metadata": {},
   "outputs": [
    {
     "data": {
      "text/plain": [
       "33"
      ]
     },
     "execution_count": 6,
     "metadata": {},
     "output_type": "execute_result"
    }
   ],
   "source": [
    "toplama=lambda x,y,z:x+y+z\n",
    "toplama(10,11,12)"
   ]
  },
  {
   "cell_type": "code",
   "execution_count": 7,
   "id": "805a201c",
   "metadata": {},
   "outputs": [
    {
     "name": "stdout",
     "output_type": "stream",
     "text": [
      "amalmargorp nohtyp\n"
     ]
    }
   ],
   "source": [
    "def terscevir(s):\n",
    "    return s[::-1]\n",
    "print(terscevir(\"python programlama\"))"
   ]
  },
  {
   "cell_type": "code",
   "execution_count": 8,
   "id": "f39c02c8",
   "metadata": {},
   "outputs": [
    {
     "name": "stdout",
     "output_type": "stream",
     "text": [
      "amalmargorp nohtyp\n"
     ]
    }
   ],
   "source": [
    "ters=lambda s:s[::-1]\n",
    "print(ters(\"python programlama\"))"
   ]
  },
  {
   "cell_type": "code",
   "execution_count": 12,
   "id": "44303574",
   "metadata": {},
   "outputs": [
    {
     "name": "stdout",
     "output_type": "stream",
     "text": [
      "False\n"
     ]
    }
   ],
   "source": [
    "def çifttek(a):\n",
    "    return a%2==0\n",
    "print(çifttek(13))"
   ]
  },
  {
   "cell_type": "code",
   "execution_count": 13,
   "id": "cd4951d8",
   "metadata": {},
   "outputs": [],
   "source": [
    "cifttek=lambda x:x%2==0"
   ]
  },
  {
   "cell_type": "code",
   "execution_count": 15,
   "id": "9d72d64d",
   "metadata": {},
   "outputs": [
    {
     "data": {
      "text/plain": [
       "True"
      ]
     },
     "execution_count": 15,
     "metadata": {},
     "output_type": "execute_result"
    }
   ],
   "source": [
    "cifttek(14)"
   ]
  },
  {
   "cell_type": "code",
   "execution_count": null,
   "id": "efb44bd9",
   "metadata": {},
   "outputs": [],
   "source": []
  }
 ],
 "metadata": {
  "kernelspec": {
   "display_name": "Python 3 (ipykernel)",
   "language": "python",
   "name": "python3"
  },
  "language_info": {
   "codemirror_mode": {
    "name": "ipython",
    "version": 3
   },
   "file_extension": ".py",
   "mimetype": "text/x-python",
   "name": "python",
   "nbconvert_exporter": "python",
   "pygments_lexer": "ipython3",
   "version": "3.9.12"
  }
 },
 "nbformat": 4,
 "nbformat_minor": 5
}
