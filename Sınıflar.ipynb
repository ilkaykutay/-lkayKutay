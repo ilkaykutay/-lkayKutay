{
 "cells": [
  {
   "cell_type": "code",
   "execution_count": 2,
   "id": "fa3d3689",
   "metadata": {},
   "outputs": [],
   "source": [
    "class araba():\n",
    "    model=\"Renault Megane\"\n",
    "    renk=\"Gümüş\"\n",
    "    beygir=110\n",
    "    silindir=4"
   ]
  },
  {
   "cell_type": "code",
   "execution_count": 3,
   "id": "5ff73384",
   "metadata": {},
   "outputs": [],
   "source": [
    "araba1=araba()"
   ]
  },
  {
   "cell_type": "code",
   "execution_count": 4,
   "id": "4decf652",
   "metadata": {},
   "outputs": [
    {
     "data": {
      "text/plain": [
       "110"
      ]
     },
     "execution_count": 4,
     "metadata": {},
     "output_type": "execute_result"
    }
   ],
   "source": [
    "araba1.beygir"
   ]
  },
  {
   "cell_type": "code",
   "execution_count": 5,
   "id": "caac9b23",
   "metadata": {},
   "outputs": [],
   "source": [
    "araba2=araba()"
   ]
  },
  {
   "cell_type": "code",
   "execution_count": 6,
   "id": "2e3cd3d9",
   "metadata": {},
   "outputs": [
    {
     "data": {
      "text/plain": [
       "110"
      ]
     },
     "execution_count": 6,
     "metadata": {},
     "output_type": "execute_result"
    }
   ],
   "source": [
    "araba2.beygir"
   ]
  },
  {
   "cell_type": "code",
   "execution_count": 7,
   "id": "b92a38fe",
   "metadata": {},
   "outputs": [
    {
     "data": {
      "text/plain": [
       "'Gümüş'"
      ]
     },
     "execution_count": 7,
     "metadata": {},
     "output_type": "execute_result"
    }
   ],
   "source": [
    "#Eger bız sadece bır sınıf ıcındekı ozellıklerı tanımlarsak o sınıftakı butun objelerın ozellıklerı de aynı olur.\n",
    "araba.renk"
   ]
  },
  {
   "cell_type": "code",
   "execution_count": 7,
   "id": "1de36afe",
   "metadata": {},
   "outputs": [
    {
     "data": {
      "text/plain": [
       "['__class__',\n",
       " '__delattr__',\n",
       " '__dict__',\n",
       " '__dir__',\n",
       " '__doc__',\n",
       " '__eq__',\n",
       " '__format__',\n",
       " '__ge__',\n",
       " '__getattribute__',\n",
       " '__gt__',\n",
       " '__hash__',\n",
       " '__init__',\n",
       " '__init_subclass__',\n",
       " '__le__',\n",
       " '__lt__',\n",
       " '__module__',\n",
       " '__ne__',\n",
       " '__new__',\n",
       " '__reduce__',\n",
       " '__reduce_ex__',\n",
       " '__repr__',\n",
       " '__setattr__',\n",
       " '__sizeof__',\n",
       " '__str__',\n",
       " '__subclasshook__',\n",
       " '__weakref__',\n",
       " 'beygir',\n",
       " 'model',\n",
       " 'renk',\n",
       " 'silindir']"
      ]
     },
     "execution_count": 7,
     "metadata": {},
     "output_type": "execute_result"
    }
   ],
   "source": [
    "dir(araba1)\n"
   ]
  },
  {
   "cell_type": "code",
   "execution_count": 8,
   "id": "12782607",
   "metadata": {},
   "outputs": [],
   "source": [
    "class bilgisayar():\n",
    "    ekran_kartı=\"AMD 560\"\n",
    "    RAM=\"8 GB\"\n",
    "    fan_sayısı=4\n",
    "    "
   ]
  },
  {
   "cell_type": "code",
   "execution_count": 9,
   "id": "a60021ac",
   "metadata": {},
   "outputs": [],
   "source": [
    "bilgisayar1=bilgisayar()"
   ]
  },
  {
   "cell_type": "code",
   "execution_count": 10,
   "id": "25ee9189",
   "metadata": {},
   "outputs": [
    {
     "data": {
      "text/plain": [
       "'AMD 560'"
      ]
     },
     "execution_count": 10,
     "metadata": {},
     "output_type": "execute_result"
    }
   ],
   "source": [
    "bilgisayar1.ekran_kartı"
   ]
  },
  {
   "cell_type": "code",
   "execution_count": 11,
   "id": "e8c82dd9",
   "metadata": {},
   "outputs": [
    {
     "data": {
      "text/plain": [
       "4"
      ]
     },
     "execution_count": 11,
     "metadata": {},
     "output_type": "execute_result"
    }
   ],
   "source": [
    "bilgisayar1.fan_sayısı"
   ]
  },
  {
   "cell_type": "code",
   "execution_count": 12,
   "id": "4a06418b",
   "metadata": {},
   "outputs": [
    {
     "data": {
      "text/plain": [
       "'8 GB'"
      ]
     },
     "execution_count": 12,
     "metadata": {},
     "output_type": "execute_result"
    }
   ],
   "source": [
    "bilgisayar1.RAM"
   ]
  },
  {
   "cell_type": "code",
   "execution_count": 9,
   "id": "31d4b8a8",
   "metadata": {},
   "outputs": [],
   "source": [
    "class araba():\n",
    "    def __init__(self):\n",
    "        print(\"init fonksioynu çağrıldı..\")"
   ]
  },
  {
   "cell_type": "code",
   "execution_count": 10,
   "id": "8f5fc704",
   "metadata": {},
   "outputs": [
    {
     "name": "stdout",
     "output_type": "stream",
     "text": [
      "init fonksioynu çağrıldı..\n"
     ]
    }
   ],
   "source": [
    "araba1=araba()"
   ]
  },
  {
   "cell_type": "code",
   "execution_count": 13,
   "id": "98f954ca",
   "metadata": {},
   "outputs": [],
   "source": [
    "class bilgisayar():\n",
    "    def __init__(self,ekran_kartı,RAM,fan_sayısı):\n",
    "        self.ekran_kartı=ekran_kartı\n",
    "        self.RAM=RAM\n",
    "        self.fan_sayısı=fan_sayısı\n",
    "        "
   ]
  },
  {
   "cell_type": "code",
   "execution_count": 14,
   "id": "4477f580",
   "metadata": {},
   "outputs": [],
   "source": [
    "bilgisayar1=bilgisayar(\"AMD 560\",\"8 GB\",4)"
   ]
  },
  {
   "cell_type": "code",
   "execution_count": 17,
   "id": "46038b88",
   "metadata": {},
   "outputs": [
    {
     "data": {
      "text/plain": [
       "4"
      ]
     },
     "execution_count": 17,
     "metadata": {},
     "output_type": "execute_result"
    }
   ],
   "source": [
    "bilgisayar1.fan_sayısı"
   ]
  },
  {
   "cell_type": "code",
   "execution_count": 18,
   "id": "7ff0f464",
   "metadata": {},
   "outputs": [],
   "source": [
    "bilgisayar2=bilgisayar(\"İntel\",\"4 GB\",6)"
   ]
  },
  {
   "cell_type": "code",
   "execution_count": 19,
   "id": "ac427482",
   "metadata": {},
   "outputs": [
    {
     "data": {
      "text/plain": [
       "'İntel'"
      ]
     },
     "execution_count": 19,
     "metadata": {},
     "output_type": "execute_result"
    }
   ],
   "source": [
    "bilgisayar2.ekran_kartı"
   ]
  },
  {
   "cell_type": "code",
   "execution_count": 20,
   "id": "c4f50d91",
   "metadata": {},
   "outputs": [
    {
     "data": {
      "text/plain": [
       "'AMD 560'"
      ]
     },
     "execution_count": 20,
     "metadata": {},
     "output_type": "execute_result"
    }
   ],
   "source": [
    "bilgisayar1.ekran_kartı"
   ]
  },
  {
   "cell_type": "code",
   "execution_count": 17,
   "id": "aa1c78a8",
   "metadata": {},
   "outputs": [],
   "source": [
    "class basketbolcu():\n",
    "    def __init__(self,takım=\"bilgi yok\",boy=\"bilgi yok\",kulaç_uzunluğu=\"bilgi yok\"):\n",
    "        self.takım=takım\n",
    "        self.boy=boy\n",
    "        self.kulaç_uzunluğu=kulaç_uzunluğu\n",
    "\n",
    "        "
   ]
  },
  {
   "cell_type": "code",
   "execution_count": 20,
   "id": "16bc7479",
   "metadata": {},
   "outputs": [],
   "source": [
    "basketbolcu1=basketbolcu(boy=\"185 cm\",kulaç_uzunluğu=\"190 cm\")"
   ]
  },
  {
   "cell_type": "code",
   "execution_count": 21,
   "id": "42d65513",
   "metadata": {},
   "outputs": [
    {
     "data": {
      "text/plain": [
       "'bilgi yok'"
      ]
     },
     "execution_count": 21,
     "metadata": {},
     "output_type": "execute_result"
    }
   ],
   "source": [
    "basketbolcu1.takım"
   ]
  },
  {
   "cell_type": "code",
   "execution_count": 25,
   "id": "a0beee23",
   "metadata": {},
   "outputs": [],
   "source": [
    "basketbolcu2=basketbolcu(takım=\"Fenerbahçe\")"
   ]
  },
  {
   "cell_type": "code",
   "execution_count": 26,
   "id": "dc0d6fd6",
   "metadata": {},
   "outputs": [
    {
     "data": {
      "text/plain": [
       "'Fenerbahçe'"
      ]
     },
     "execution_count": 26,
     "metadata": {},
     "output_type": "execute_result"
    }
   ],
   "source": [
    "basketbolcu2.takım"
   ]
  },
  {
   "cell_type": "code",
   "execution_count": null,
   "id": "d3273b78",
   "metadata": {},
   "outputs": [],
   "source": []
  }
 ],
 "metadata": {
  "kernelspec": {
   "display_name": "Python 3 (ipykernel)",
   "language": "python",
   "name": "python3"
  },
  "language_info": {
   "codemirror_mode": {
    "name": "ipython",
    "version": 3
   },
   "file_extension": ".py",
   "mimetype": "text/x-python",
   "name": "python",
   "nbconvert_exporter": "python",
   "pygments_lexer": "ipython3",
   "version": "3.9.12"
  }
 },
 "nbformat": 4,
 "nbformat_minor": 5
}
