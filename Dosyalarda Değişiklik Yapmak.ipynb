{
 "cells": [
  {
   "cell_type": "markdown",
   "id": "b6aa6235",
   "metadata": {},
   "source": [
    "Eger bir dosyanın hem okunmasını hem de yazmasını ıstıyorsak \"r+\" kıpını kullanırız."
   ]
  },
  {
   "cell_type": "code",
   "execution_count": 1,
   "id": "72201976",
   "metadata": {},
   "outputs": [
    {
     "name": "stdout",
     "output_type": "stream",
     "text": [
      "İlkay Kutay\n",
      "MEHMET\n"
     ]
    }
   ],
   "source": [
    "with open(\"bilgiler.txt\",\"r+\",encoding=\"utf-8\") as file:\n",
    "    print(file.read())"
   ]
  },
  {
   "cell_type": "code",
   "execution_count": 2,
   "id": "6947d5a2",
   "metadata": {},
   "outputs": [],
   "source": [
    "with open(\"bilgiler.txt\",\"r+\",encoding=\"utf-8\") as file:\n",
    "    file.seek(10)\n",
    "    file.write(\"Deneme\")"
   ]
  },
  {
   "cell_type": "code",
   "execution_count": 3,
   "id": "2933d89a",
   "metadata": {},
   "outputs": [
    {
     "name": "stdout",
     "output_type": "stream",
     "text": [
      "İlkay KutDenemeHMET\n"
     ]
    }
   ],
   "source": [
    "with open(\"bilgiler.txt\",\"r+\",encoding=\"utf-8\") as file:\n",
    "    print(file.read())"
   ]
  },
  {
   "cell_type": "code",
   "execution_count": 4,
   "id": "e4221c03",
   "metadata": {},
   "outputs": [
    {
     "name": "stdout",
     "output_type": "stream",
     "text": [
      "İlkay Kutay\n",
      "MEHMET\n"
     ]
    }
   ],
   "source": [
    "with open(\"bilgiler.txt\",\"r+\",encoding=\"utf-8\") as file:\n",
    "    print(file.read())"
   ]
  },
  {
   "cell_type": "code",
   "execution_count": 13,
   "id": "1763d5c1",
   "metadata": {},
   "outputs": [],
   "source": [
    "with open(\"bilgiler.txt\",\"a\",encoding=\"utf-8\") as file:\n",
    "    file.write(\"\\nMert Erarslan\")#a kipini kullanarak dosyanın sonunda degısıklık yapmıs olduk."
   ]
  },
  {
   "cell_type": "code",
   "execution_count": 14,
   "id": "7ef5f9d8",
   "metadata": {},
   "outputs": [
    {
     "name": "stdout",
     "output_type": "stream",
     "text": [
      "İlkay Kutay\n",
      "MEHMET\n",
      "Mert Erarslan\n",
      "Mert Erarslan\n"
     ]
    }
   ],
   "source": [
    "with open(\"bilgiler.txt\",\"r+\",encoding=\"utf-8\") as file:\n",
    "    print(file.read())"
   ]
  },
  {
   "cell_type": "code",
   "execution_count": 18,
   "id": "b77246fa",
   "metadata": {},
   "outputs": [],
   "source": [
    "with open(\"bilgiler.txt\",\"r+\",encoding=\"utf-8\") as file:\n",
    "    icerik=file.read()\n",
    "    icerik=\"Mehmet Keper\\n\"+icerik\n",
    "    file.seek(0)\n",
    "    file.write(icerik)\n",
    "#Eger bız dosyamızın basına eleman eklemek ıstıyorsak ılk once butun dosyayı strıng seklınde alıyoruz.Daha sonra eklemek\n",
    "#istedigimiz elemanı seek ve writeı kullanarak elemanı eklıyoruz."
   ]
  },
  {
   "cell_type": "code",
   "execution_count": 19,
   "id": "b6adfefa",
   "metadata": {},
   "outputs": [
    {
     "name": "stdout",
     "output_type": "stream",
     "text": [
      "Mehmet Keper\n",
      "Mehmet Keper\n",
      "İlkay Kutay\n",
      "MEHMET\n",
      "Mert Erarslan\n",
      "Mert Erarslan\n"
     ]
    }
   ],
   "source": [
    "with open(\"bilgiler.txt\",\"r+\",encoding=\"utf-8\") as file:\n",
    "    print(file.read())"
   ]
  },
  {
   "cell_type": "code",
   "execution_count": 20,
   "id": "cd4a7c14",
   "metadata": {},
   "outputs": [
    {
     "name": "stdout",
     "output_type": "stream",
     "text": [
      "['Mehmet Keper\\n', 'Mehmet Keper\\n', 'İlkay Kutay\\n', 'MEHMET\\n', 'Mert Erarslan\\n', 'Mert Erarslan']\n"
     ]
    }
   ],
   "source": [
    "with open(\"bilgiler.txt\",\"r+\",encoding=\"utf-8\") as file:#dosyamızın ortasına eleman eklemek ıstersek readlınesı kullanıyoruz.\n",
    "    liste=file.readlines()\n",
    "    print(liste)"
   ]
  },
  {
   "cell_type": "code",
   "execution_count": 29,
   "id": "1c222f19",
   "metadata": {},
   "outputs": [],
   "source": [
    "with open(\"bilgiler.txt\",\"r+\",encoding=\"utf-8\") as file:\n",
    "    liste=file.readlines()\n",
    "    liste.insert(3,\"Ahmet Baltacı\\n\")\n",
    "    file.seek(0)\n",
    "    for i in liste:\n",
    "        file.write(i)"
   ]
  },
  {
   "cell_type": "code",
   "execution_count": 30,
   "id": "382f13d7",
   "metadata": {},
   "outputs": [
    {
     "name": "stdout",
     "output_type": "stream",
     "text": [
      "Mehmet Keper\n",
      "Mehmet Keper\n",
      "İlkay Kutay\n",
      "Ahmet Baltacı\n",
      "MEHMET\n",
      "Mert Erarslan\n",
      "Mert ErarslanMehmet Keper\n",
      "Mehmet Keper\n",
      "\n"
     ]
    }
   ],
   "source": [
    "with open(\"bilgiler.txt\",\"r+\",encoding=\"utf-8\") as file:\n",
    "    print(file.read())"
   ]
  },
  {
   "cell_type": "code",
   "execution_count": 31,
   "id": "3899190d",
   "metadata": {},
   "outputs": [],
   "source": [
    "with open(\"bilgiler.txt\",\"r+\",encoding=\"utf-8\") as file:\n",
    "    liste=file.readlines()\n",
    "    liste.insert(3,\"Eşref Sezer\\n\")\n",
    "    file.seek(0)\n",
    "    file.writelines(liste) #writelinesı da kullanarak listeyı dosyanın ıcındekı elemanlara cevırdık."
   ]
  },
  {
   "cell_type": "code",
   "execution_count": 32,
   "id": "b4f17cd3",
   "metadata": {},
   "outputs": [
    {
     "name": "stdout",
     "output_type": "stream",
     "text": [
      "Mehmet Keper\n",
      "Mehmet Keper\n",
      "İlkay Kutay\n",
      "Eşref Sezer\n",
      "Ahmet Baltacı\n",
      "MEHMET\n",
      "Mert Erarslan\n",
      "Mert ErarslanMehmet Keper\n",
      "Mehmet Keper\n",
      "\n"
     ]
    }
   ],
   "source": [
    "with open(\"bilgiler.txt\",\"r+\",encoding=\"utf-8\") as file:\n",
    "    print(file.read())"
   ]
  },
  {
   "cell_type": "code",
   "execution_count": null,
   "id": "761f4acb",
   "metadata": {},
   "outputs": [],
   "source": []
  }
 ],
 "metadata": {
  "kernelspec": {
   "display_name": "Python 3 (ipykernel)",
   "language": "python",
   "name": "python3"
  },
  "language_info": {
   "codemirror_mode": {
    "name": "ipython",
    "version": 3
   },
   "file_extension": ".py",
   "mimetype": "text/x-python",
   "name": "python",
   "nbconvert_exporter": "python",
   "pygments_lexer": "ipython3",
   "version": "3.9.13"
  }
 },
 "nbformat": 4,
 "nbformat_minor": 5
}
