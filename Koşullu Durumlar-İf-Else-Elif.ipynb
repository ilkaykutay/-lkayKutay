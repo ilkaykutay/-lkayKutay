{
 "cells": [
  {
   "cell_type": "code",
   "execution_count": 2,
   "id": "fb93944e",
   "metadata": {},
   "outputs": [
    {
     "name": "stdout",
     "output_type": "stream",
     "text": [
      "Yaşınızı Girin:17\n",
      "Bu Mekana Giremezsiniz\n"
     ]
    }
   ],
   "source": [
    "yaş=int(input(\"Yaşınızı Girin:\"))\n",
    "if yaş<18:\n",
    "    print(\"Bu Mekana Giremezsiniz\")\n",
    "else:\n",
    "    print(\"Girebilirsiniz.\")"
   ]
  },
  {
   "cell_type": "code",
   "execution_count": 5,
   "id": "21d79777",
   "metadata": {},
   "outputs": [
    {
     "name": "stdout",
     "output_type": "stream",
     "text": [
      "Bir sayı girin:0\n",
      "Pozitif sayı veya sıfır.\n"
     ]
    }
   ],
   "source": [
    "sayı=int(input(\"Bir sayı girin:\"))\n",
    "if sayı<0:\n",
    "    print(\"Negatif sayı\")\n",
    "else:\n",
    "    print(\"Pozitif sayı veya sıfır.\")"
   ]
  },
  {
   "cell_type": "code",
   "execution_count": 8,
   "id": "728256d7",
   "metadata": {},
   "outputs": [
    {
     "name": "stdout",
     "output_type": "stream",
     "text": [
      "İşlem giriniz:5\n",
      "Tanımlanmayan işlem\n"
     ]
    }
   ],
   "source": [
    "işlem=input(\"İşlem giriniz:\")\n",
    "if işlem==\"1\":\n",
    "    print(\"Birinci işlem seçildi.\")\n",
    "elif işlem==\"2\":\n",
    "    print(\"İkinci işlem seçildi.\")\n",
    "elif işlem==\"3\":\n",
    "    print(\"Üçüncü işlem seçildi.\")\n",
    "elif işlem==\"4\":\n",
    "    print(\"Dört işlem seçildi.\")\n",
    "else:\n",
    "    print(\"Tanımlanmayan işlem\")\n"
   ]
  },
  {
   "cell_type": "code",
   "execution_count": 9,
   "id": "801a5397",
   "metadata": {},
   "outputs": [
    {
     "name": "stdout",
     "output_type": "stream",
     "text": [
      "1.Notu Giriniz:30\n",
      "2.Notu Giriniz:50\n",
      "Final Notunu Giriniz:40\n",
      "DC\n"
     ]
    }
   ],
   "source": [
    "note=float(input(\"1.Notu Giriniz:\"))\n",
    "note1=float(input(\"2.Notu Giriniz:\"))\n",
    "note2=float(input(\"Final Notunu Giriniz:\"))\n",
    "ort=(note+note1+note2)/3\n",
    "if 90<=ort<=100:\n",
    "    print(\"AA\")\n",
    "elif 80<=ort<90:\n",
    "    print(\"BA\")\n",
    "elif 70<=ort<80:\n",
    "    print(\"BB\")\n",
    "elif 60<=ort<70:\n",
    "    print(\"CB\")    \n",
    "elif 50<=ort<60:\n",
    "    print(\"CC\")    \n",
    "elif 40<=ort<50:\n",
    "    print(\"DC\")    \n",
    "elif 30<=ort<40:\n",
    "    print(\"DD\")    \n",
    "elif 0<=ort<30 :\n",
    "    print(\"FF\")\n",
    "else:\n",
    "    print(\"Tanımlanmayan Değer\")\n",
    "    \n",
    "    "
   ]
  },
  {
   "cell_type": "code",
   "execution_count": null,
   "id": "0177c359",
   "metadata": {},
   "outputs": [],
   "source": []
  }
 ],
 "metadata": {
  "kernelspec": {
   "display_name": "Python 3 (ipykernel)",
   "language": "python",
   "name": "python3"
  },
  "language_info": {
   "codemirror_mode": {
    "name": "ipython",
    "version": 3
   },
   "file_extension": ".py",
   "mimetype": "text/x-python",
   "name": "python",
   "nbconvert_exporter": "python",
   "pygments_lexer": "ipython3",
   "version": "3.9.12"
  }
 },
 "nbformat": 4,
 "nbformat_minor": 5
}
