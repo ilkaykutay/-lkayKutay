{
 "cells": [
  {
   "cell_type": "markdown",
   "id": "ecdbe765",
   "metadata": {},
   "source": [
    "Return:Return degerlerı dıs dunyaya o degerı cıkarmaya yarar."
   ]
  },
  {
   "cell_type": "code",
   "execution_count": 1,
   "id": "06bbfc29",
   "metadata": {},
   "outputs": [],
   "source": [
    "def toplama(a,b,c):\n",
    "    print(\"Toplamları\",a,b,c)\n",
    "def ikiylecarp(i):\n",
    "    print(\"İkiyle carp:\",i*2)\n",
    "    "
   ]
  },
  {
   "cell_type": "code",
   "execution_count": 2,
   "id": "3aa54985",
   "metadata": {},
   "outputs": [
    {
     "name": "stdout",
     "output_type": "stream",
     "text": [
      "Toplamları 3 4 5\n"
     ]
    },
    {
     "ename": "TypeError",
     "evalue": "unsupported operand type(s) for *: 'NoneType' and 'int'",
     "output_type": "error",
     "traceback": [
      "\u001b[1;31m---------------------------------------------------------------------------\u001b[0m",
      "\u001b[1;31mTypeError\u001b[0m                                 Traceback (most recent call last)",
      "Input \u001b[1;32mIn [2]\u001b[0m, in \u001b[0;36m<cell line: 2>\u001b[1;34m()\u001b[0m\n\u001b[0;32m      1\u001b[0m toplam\u001b[38;5;241m=\u001b[39mtoplama(\u001b[38;5;241m3\u001b[39m,\u001b[38;5;241m4\u001b[39m,\u001b[38;5;241m5\u001b[39m)\n\u001b[1;32m----> 2\u001b[0m \u001b[43mikiylecarp\u001b[49m\u001b[43m(\u001b[49m\u001b[43mtoplam\u001b[49m\u001b[43m)\u001b[49m\n",
      "Input \u001b[1;32mIn [1]\u001b[0m, in \u001b[0;36mikiylecarp\u001b[1;34m(i)\u001b[0m\n\u001b[0;32m      3\u001b[0m \u001b[38;5;28;01mdef\u001b[39;00m \u001b[38;5;21mikiylecarp\u001b[39m(i):\n\u001b[1;32m----> 4\u001b[0m     \u001b[38;5;28mprint\u001b[39m(\u001b[38;5;124m\"\u001b[39m\u001b[38;5;124mİkiyle carp:\u001b[39m\u001b[38;5;124m\"\u001b[39m,\u001b[43mi\u001b[49m\u001b[38;5;241;43m*\u001b[39;49m\u001b[38;5;241;43m2\u001b[39;49m)\n",
      "\u001b[1;31mTypeError\u001b[0m: unsupported operand type(s) for *: 'NoneType' and 'int'"
     ]
    }
   ],
   "source": [
    "toplam=toplama(3,4,5)\n",
    "ikiylecarp(toplam)"
   ]
  },
  {
   "cell_type": "code",
   "execution_count": 3,
   "id": "c16e5b2a",
   "metadata": {},
   "outputs": [
    {
     "data": {
      "text/plain": [
       "NoneType"
      ]
     },
     "execution_count": 3,
     "metadata": {},
     "output_type": "execute_result"
    }
   ],
   "source": [
    "type(toplam)"
   ]
  },
  {
   "cell_type": "code",
   "execution_count": 12,
   "id": "9ca552f0",
   "metadata": {},
   "outputs": [],
   "source": [
    "def toplama(a,b,c):\n",
    "    return a+b+c\n",
    "def ikiylecarp(i):\n",
    "    return i*2\n",
    "    "
   ]
  },
  {
   "cell_type": "code",
   "execution_count": 13,
   "id": "289e4222",
   "metadata": {},
   "outputs": [
    {
     "name": "stdout",
     "output_type": "stream",
     "text": [
      "24\n"
     ]
    }
   ],
   "source": [
    "toplam=toplama(3,4,5)\n",
    "print(ikiylecarp(toplam))"
   ]
  },
  {
   "cell_type": "code",
   "execution_count": 19,
   "id": "42faadd7",
   "metadata": {},
   "outputs": [],
   "source": [
    "def üçleçarp(a):\n",
    "    print(\"1.Fonksiyon çalıştı...\")\n",
    "    return a*3"
   ]
  },
  {
   "cell_type": "code",
   "execution_count": 17,
   "id": "02861039",
   "metadata": {},
   "outputs": [],
   "source": [
    "def ikiyletopla(a):\n",
    "    print(\"2.Fonksiyon çalıştı...\")\n",
    "    return a+2"
   ]
  },
  {
   "cell_type": "code",
   "execution_count": 18,
   "id": "c8753392",
   "metadata": {},
   "outputs": [],
   "source": [
    "def dördeböl(a):\n",
    "    print(\"3.Fonksiyon çalıştı...\")\n",
    "    return a/4"
   ]
  },
  {
   "cell_type": "code",
   "execution_count": 23,
   "id": "f5d40f40",
   "metadata": {},
   "outputs": [
    {
     "name": "stdout",
     "output_type": "stream",
     "text": [
      "1.Fonksiyon çalıştı...\n",
      "2.Fonksiyon çalıştı...\n",
      "3.Fonksiyon çalıştı...\n",
      "4.25\n"
     ]
    }
   ],
   "source": [
    "print(dördeböl(ikiyletopla(üçleçarp(5))))"
   ]
  },
  {
   "cell_type": "code",
   "execution_count": 24,
   "id": "e72b39c4",
   "metadata": {},
   "outputs": [],
   "source": [
    "def toplama(a,b,c):# return dırekt fonku sıfırladıgı ıcın returnden sonra gelen hıcbır deger calısmaz.\n",
    "    return a+b+c\n",
    "    print(\"TOPLAMA FONKSİYONU\")"
   ]
  },
  {
   "cell_type": "code",
   "execution_count": 25,
   "id": "cc356c6d",
   "metadata": {},
   "outputs": [
    {
     "data": {
      "text/plain": [
       "12"
      ]
     },
     "execution_count": 25,
     "metadata": {},
     "output_type": "execute_result"
    }
   ],
   "source": [
    "toplama(3,4,5)"
   ]
  },
  {
   "cell_type": "markdown",
   "id": "0313b19e",
   "metadata": {},
   "source": [
    "Fonksiyonlarda çağrıldıgı yere herhangi bir deger dondurmeyen yanı return olmayan fonksıyonlara voıd fonksıyonları denır.\n"
   ]
  },
  {
   "cell_type": "code",
   "execution_count": null,
   "id": "fec186ca",
   "metadata": {},
   "outputs": [],
   "source": []
  }
 ],
 "metadata": {
  "kernelspec": {
   "display_name": "Python 3 (ipykernel)",
   "language": "python",
   "name": "python3"
  },
  "language_info": {
   "codemirror_mode": {
    "name": "ipython",
    "version": 3
   },
   "file_extension": ".py",
   "mimetype": "text/x-python",
   "name": "python",
   "nbconvert_exporter": "python",
   "pygments_lexer": "ipython3",
   "version": "3.9.12"
  }
 },
 "nbformat": 4,
 "nbformat_minor": 5
}
