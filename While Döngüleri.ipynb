{
 "cells": [
  {
   "cell_type": "markdown",
   "id": "7f2f0184",
   "metadata": {},
   "source": [
    "While dongulerı bellı bır kosul saglandıgı surece  blogundakı ıslemı gerceklestırmeye devam eder.While dongusunun sona ermesı ıcın kosul durumunun bellı zamandan sonra False olması lazım\n"
   ]
  },
  {
   "cell_type": "code",
   "execution_count": 3,
   "id": "800407f4",
   "metadata": {},
   "outputs": [
    {
     "name": "stdout",
     "output_type": "stream",
     "text": [
      "i nin değeri:0\n",
      "i nin değeri:1\n",
      "i nin değeri:2\n",
      "i nin değeri:3\n",
      "i nin değeri:4\n",
      "i nin değeri:5\n",
      "i nin değeri:6\n",
      "i nin değeri:7\n",
      "i nin değeri:8\n",
      "i nin değeri:9\n"
     ]
    }
   ],
   "source": [
    "i=0\n",
    "while i<10:\n",
    "    print(\"i nin değeri:{}\".format(i))\n",
    "    i+=1"
   ]
  },
  {
   "cell_type": "code",
   "execution_count": 5,
   "id": "8791c82b",
   "metadata": {},
   "outputs": [
    {
     "name": "stdout",
     "output_type": "stream",
     "text": [
      "i nin değeri:0\n",
      "i nin değeri:2\n",
      "i nin değeri:4\n",
      "i nin değeri:6\n",
      "i nin değeri:8\n",
      "i nin değeri:10\n",
      "i nin değeri:12\n",
      "i nin değeri:14\n",
      "i nin değeri:16\n",
      "i nin değeri:18\n"
     ]
    }
   ],
   "source": [
    "i=0\n",
    "while i<20:\n",
    "    print(\"i nin değeri:{}\".format(i))\n",
    "    i+=2"
   ]
  },
  {
   "cell_type": "code",
   "execution_count": 7,
   "id": "c0d2c006",
   "metadata": {},
   "outputs": [
    {
     "name": "stdout",
     "output_type": "stream",
     "text": [
      "indeks:0  elemanı: 1\n",
      "indeks:1  elemanı: 2\n",
      "indeks:2  elemanı: 3\n",
      "indeks:3  elemanı: 4\n",
      "indeks:4  elemanı: 5\n",
      "indeks:5  elemanı: 6\n"
     ]
    }
   ],
   "source": [
    "liste=[1,2,3,4,5,6]\n",
    "index=0\n",
    "while index<len(liste):\n",
    "    print(\"indeks:{}  elemanı: {}\".format(index,liste[index]))\n",
    "    index+=1"
   ]
  },
  {
   "cell_type": "code",
   "execution_count": null,
   "id": "e3687d01",
   "metadata": {},
   "outputs": [],
   "source": []
  }
 ],
 "metadata": {
  "kernelspec": {
   "display_name": "Python 3 (ipykernel)",
   "language": "python",
   "name": "python3"
  },
  "language_info": {
   "codemirror_mode": {
    "name": "ipython",
    "version": 3
   },
   "file_extension": ".py",
   "mimetype": "text/x-python",
   "name": "python",
   "nbconvert_exporter": "python",
   "pygments_lexer": "ipython3",
   "version": "3.9.12"
  }
 },
 "nbformat": 4,
 "nbformat_minor": 5
}
