{
 "cells": [
  {
   "cell_type": "markdown",
   "id": "e2accc38",
   "metadata": {},
   "source": [
    "Map Fonksiyonu:Map fonksıyonunda ılk once bır fonksıyon objesı yazıyoruz daha sonra bir veri tipi girerek o veri tipindeki\n",
    "her bir elemanı fonksıyon objesınde yerıne koyup bıze map objesı verıcek.\n"
   ]
  },
  {
   "cell_type": "code",
   "execution_count": 1,
   "id": "8efffa0b",
   "metadata": {},
   "outputs": [],
   "source": [
    "def double(x):\n",
    "    return x*2\n"
   ]
  },
  {
   "cell_type": "code",
   "execution_count": 2,
   "id": "0bc330f2",
   "metadata": {},
   "outputs": [
    {
     "data": {
      "text/plain": [
       "<map at 0x21a980469d0>"
      ]
     },
     "execution_count": 2,
     "metadata": {},
     "output_type": "execute_result"
    }
   ],
   "source": [
    "map(double,[1,2,3,4,5,6])"
   ]
  },
  {
   "cell_type": "code",
   "execution_count": 3,
   "id": "f05a8f26",
   "metadata": {},
   "outputs": [
    {
     "data": {
      "text/plain": [
       "[2, 4, 6, 8, 10, 12]"
      ]
     },
     "execution_count": 3,
     "metadata": {},
     "output_type": "execute_result"
    }
   ],
   "source": [
    "list(map(double,[1,2,3,4,5,6]))"
   ]
  },
  {
   "cell_type": "code",
   "execution_count": 4,
   "id": "8b7cba6f",
   "metadata": {},
   "outputs": [
    {
     "data": {
      "text/plain": [
       "[1, 4, 9, 16, 25, 36]"
      ]
     },
     "execution_count": 4,
     "metadata": {},
     "output_type": "execute_result"
    }
   ],
   "source": [
    "list(map(lambda x:x**2,[1,2,3,4,5,6]))"
   ]
  },
  {
   "cell_type": "code",
   "execution_count": 5,
   "id": "9971fa5c",
   "metadata": {},
   "outputs": [],
   "source": [
    "liste1=[1,2,3,4]\n",
    "liste2=[5,6,7,8]\n",
    "liste3=[9,10,11,12,13]"
   ]
  },
  {
   "cell_type": "code",
   "execution_count": 9,
   "id": "6175d321",
   "metadata": {},
   "outputs": [
    {
     "data": {
      "text/plain": [
       "[5, 12, 21, 32]"
      ]
     },
     "execution_count": 9,
     "metadata": {},
     "output_type": "execute_result"
    }
   ],
   "source": [
    "list(map(lambda x,y:x*y,liste1,liste2))#burda x lıste1 degerlerıne y ıse lıste2 degerlerıne esıt oluyor."
   ]
  },
  {
   "cell_type": "code",
   "execution_count": 10,
   "id": "f7949bb1",
   "metadata": {},
   "outputs": [
    {
     "data": {
      "text/plain": [
       "[45, 120, 231, 384]"
      ]
     },
     "execution_count": 10,
     "metadata": {},
     "output_type": "execute_result"
    }
   ],
   "source": [
    "list(map(lambda x,y,z:x*y*z,liste1,liste2,liste3))"
   ]
  },
  {
   "cell_type": "code",
   "execution_count": null,
   "id": "c1d9c32b",
   "metadata": {},
   "outputs": [],
   "source": []
  },
  {
   "cell_type": "markdown",
   "id": "94c856c4",
   "metadata": {},
   "source": [
    "Reduce Fonksiyonu:Map fonksiyonu gıbı bır fonksıyon ve ıterasyon yapılacak bır veri tipi girilr.Bunlardan sonra deger olarak aldıgı fonksiyonu soldan baslayarak ilk 2 elemanına uygular ve daha sonra cıkan sonucu listenin 3.elemanına uygular ve bu sekılde devam ederek liste bitince bir tane deger doner."
   ]
  },
  {
   "cell_type": "code",
   "execution_count": 12,
   "id": "0bb8975d",
   "metadata": {},
   "outputs": [],
   "source": [
    "from functools import reduce"
   ]
  },
  {
   "cell_type": "code",
   "execution_count": 13,
   "id": "5b2a239b",
   "metadata": {},
   "outputs": [],
   "source": [
    "def toplama(x,y):\n",
    "    return x+y"
   ]
  },
  {
   "cell_type": "code",
   "execution_count": 14,
   "id": "06219cbe",
   "metadata": {},
   "outputs": [
    {
     "data": {
      "text/plain": [
       "60"
      ]
     },
     "execution_count": 14,
     "metadata": {},
     "output_type": "execute_result"
    }
   ],
   "source": [
    "reduce(toplama,[12,18,20,10])"
   ]
  },
  {
   "cell_type": "code",
   "execution_count": 15,
   "id": "60e2465f",
   "metadata": {},
   "outputs": [
    {
     "data": {
      "text/plain": [
       "120"
      ]
     },
     "execution_count": 15,
     "metadata": {},
     "output_type": "execute_result"
    }
   ],
   "source": [
    "reduce(lambda x,y:x*y,[1,2,3,4,5])"
   ]
  },
  {
   "cell_type": "code",
   "execution_count": 16,
   "id": "c26fce12",
   "metadata": {},
   "outputs": [],
   "source": [
    "def maks(x,y):\n",
    "    if x>y:\n",
    "        return x\n",
    "    else:\n",
    "        return y"
   ]
  },
  {
   "cell_type": "code",
   "execution_count": 17,
   "id": "63e2293f",
   "metadata": {},
   "outputs": [
    {
     "data": {
      "text/plain": [
       "4"
      ]
     },
     "execution_count": 17,
     "metadata": {},
     "output_type": "execute_result"
    }
   ],
   "source": [
    "maks(3,4)"
   ]
  },
  {
   "cell_type": "code",
   "execution_count": 18,
   "id": "ab3f1ee1",
   "metadata": {},
   "outputs": [
    {
     "data": {
      "text/plain": [
       "4"
      ]
     },
     "execution_count": 18,
     "metadata": {},
     "output_type": "execute_result"
    }
   ],
   "source": [
    "reduce(maks,[-2,3,1,4])"
   ]
  },
  {
   "cell_type": "markdown",
   "id": "94a61f34",
   "metadata": {},
   "source": [
    "Filter Fonksiyonu:Birinci parametre olarak mutlaka mantıksal deger donen (True,False) bir fonksiyon alır ve liste gibi veritiplerinin her bir elemanına bu fonksiyonu uygular.Filter sadece true sonuc cıkaran degerleri alarak bir filter objesı doner."
   ]
  },
  {
   "cell_type": "code",
   "execution_count": 19,
   "id": "4c6d78a8",
   "metadata": {},
   "outputs": [
    {
     "data": {
      "text/plain": [
       "<filter at 0x21a984b8310>"
      ]
     },
     "execution_count": 19,
     "metadata": {},
     "output_type": "execute_result"
    }
   ],
   "source": [
    "filter(lambda x:x%2==0,[1,2,3,4,5,6,7,8])"
   ]
  },
  {
   "cell_type": "code",
   "execution_count": 20,
   "id": "75d40801",
   "metadata": {},
   "outputs": [
    {
     "data": {
      "text/plain": [
       "[2, 4, 6, 8]"
      ]
     },
     "execution_count": 20,
     "metadata": {},
     "output_type": "execute_result"
    }
   ],
   "source": [
    "list(filter(lambda x:x%2==0,[1,2,3,4,5,6,7,8]))"
   ]
  },
  {
   "cell_type": "code",
   "execution_count": 21,
   "id": "f160e7c5",
   "metadata": {},
   "outputs": [],
   "source": [
    "def asal_mi(x):\n",
    "    i=2\n",
    "    if x==1:\n",
    "        return False\n",
    "    if x==2:\n",
    "        return True\n",
    "    else:\n",
    "        while i<x:\n",
    "            if x%i==0:\n",
    "                return False\n",
    "            i+=1\n",
    "        return True"
   ]
  },
  {
   "cell_type": "code",
   "execution_count": 25,
   "id": "9c32becc",
   "metadata": {},
   "outputs": [
    {
     "data": {
      "text/plain": [
       "False"
      ]
     },
     "execution_count": 25,
     "metadata": {},
     "output_type": "execute_result"
    }
   ],
   "source": [
    "asal_mi(4)"
   ]
  },
  {
   "cell_type": "code",
   "execution_count": 26,
   "id": "0b9a9a31",
   "metadata": {},
   "outputs": [
    {
     "data": {
      "text/plain": [
       "[2,\n",
       " 3,\n",
       " 5,\n",
       " 7,\n",
       " 11,\n",
       " 13,\n",
       " 17,\n",
       " 19,\n",
       " 23,\n",
       " 29,\n",
       " 31,\n",
       " 37,\n",
       " 41,\n",
       " 43,\n",
       " 47,\n",
       " 53,\n",
       " 59,\n",
       " 61,\n",
       " 67,\n",
       " 71,\n",
       " 73,\n",
       " 79,\n",
       " 83,\n",
       " 89,\n",
       " 97]"
      ]
     },
     "execution_count": 26,
     "metadata": {},
     "output_type": "execute_result"
    }
   ],
   "source": [
    "list(filter(asal_mi,range(1,100)))"
   ]
  },
  {
   "cell_type": "code",
   "execution_count": null,
   "id": "162cdd77",
   "metadata": {},
   "outputs": [],
   "source": []
  },
  {
   "cell_type": "markdown",
   "id": "a2f5e0b1",
   "metadata": {},
   "source": [
    "Zip Fonksiyonu:İki tane veri tipi girdıgımızde onları zip objesı halıne getırır."
   ]
  },
  {
   "cell_type": "code",
   "execution_count": 30,
   "id": "4a4fc6cf",
   "metadata": {},
   "outputs": [],
   "source": [
    "liste1=[1,2,3,4,5]\n",
    "liste2=[6,7,8,9,10,11]\n"
   ]
  },
  {
   "cell_type": "code",
   "execution_count": 32,
   "id": "051687b2",
   "metadata": {},
   "outputs": [
    {
     "name": "stdout",
     "output_type": "stream",
     "text": [
      "[(1, 6), (2, 7), (3, 8), (4, 9), (5, 10)]\n"
     ]
    }
   ],
   "source": [
    "i=0\n",
    "sonuç=list()\n",
    "while(i<len(liste1) and i<len(liste2)):\n",
    "    sonuç.append((liste1[i],liste2[i]))\n",
    "    i+=1\n",
    "print(sonuç)"
   ]
  },
  {
   "cell_type": "code",
   "execution_count": 33,
   "id": "bb36c092",
   "metadata": {},
   "outputs": [
    {
     "data": {
      "text/plain": [
       "<zip at 0x21a9a472c40>"
      ]
     },
     "execution_count": 33,
     "metadata": {},
     "output_type": "execute_result"
    }
   ],
   "source": [
    "zip(liste1,liste2)"
   ]
  },
  {
   "cell_type": "code",
   "execution_count": 34,
   "id": "cbfaed2d",
   "metadata": {},
   "outputs": [
    {
     "data": {
      "text/plain": [
       "[(1, 6), (2, 7), (3, 8), (4, 9), (5, 10)]"
      ]
     },
     "execution_count": 34,
     "metadata": {},
     "output_type": "execute_result"
    }
   ],
   "source": [
    "list(zip(liste1,liste2))"
   ]
  },
  {
   "cell_type": "code",
   "execution_count": 35,
   "id": "ad6d0f14",
   "metadata": {},
   "outputs": [
    {
     "data": {
      "text/plain": [
       "[(1, 6, 'Python'), (2, 7, 'php'), (3, 8, 'Java'), (4, 9, 'Javascript')]"
      ]
     },
     "execution_count": 35,
     "metadata": {},
     "output_type": "execute_result"
    }
   ],
   "source": [
    "liste1=[1,2,3,4,5]\n",
    "liste2=[6,7,8,9,10,11]\n",
    "liste3=[\"Python\",\"php\",\"Java\",\"Javascript\"]\n",
    "list(zip(liste1,liste2,liste3))"
   ]
  },
  {
   "cell_type": "code",
   "execution_count": 36,
   "id": "ff6c507b",
   "metadata": {},
   "outputs": [
    {
     "name": "stdout",
     "output_type": "stream",
     "text": [
      "1 Python\n",
      "2 php\n",
      "3 Java\n",
      "4 Javascript\n"
     ]
    }
   ],
   "source": [
    "liste1=[1,2,3,4]#zip sayesınde ıkı kere for dongusu kullanmaktan kurtulduk.\n",
    "liste2=[\"Python\",\"php\",\"Java\",\"Javascript\"]\n",
    "for i,j in zip(liste1,liste2):\n",
    "    print(i,j)"
   ]
  },
  {
   "cell_type": "code",
   "execution_count": 37,
   "id": "f57b2d4f",
   "metadata": {},
   "outputs": [
    {
     "data": {
      "text/plain": [
       "<zip at 0x21a97eeb4c0>"
      ]
     },
     "execution_count": 37,
     "metadata": {},
     "output_type": "execute_result"
    }
   ],
   "source": [
    "sözlük1={\"Elma\":1,\"Armut\":2,\"Kiraz\":3}\n",
    "sözlük2={\"Sıfır\":0,\"Bir\":1,\"iki\":2}\n",
    "zip(sözlük1,sözlük2)"
   ]
  },
  {
   "cell_type": "code",
   "execution_count": 38,
   "id": "f6861527",
   "metadata": {},
   "outputs": [
    {
     "data": {
      "text/plain": [
       "[('Elma', 'Sıfır'), ('Armut', 'Bir'), ('Kiraz', 'iki')]"
      ]
     },
     "execution_count": 38,
     "metadata": {},
     "output_type": "execute_result"
    }
   ],
   "source": [
    "list(zip(sözlük1,sözlük2))"
   ]
  },
  {
   "cell_type": "code",
   "execution_count": 39,
   "id": "8473f921",
   "metadata": {},
   "outputs": [
    {
     "data": {
      "text/plain": [
       "[(1, 0), (2, 1), (3, 2)]"
      ]
     },
     "execution_count": 39,
     "metadata": {},
     "output_type": "execute_result"
    }
   ],
   "source": [
    "list(zip(sözlük1.values(),sözlük2.values()))"
   ]
  },
  {
   "cell_type": "code",
   "execution_count": null,
   "id": "25b8ce74",
   "metadata": {},
   "outputs": [],
   "source": []
  },
  {
   "cell_type": "markdown",
   "id": "6939f643",
   "metadata": {},
   "source": [
    "Enumerate fonksiyonu:Eger bız bır lıstenın elemanıyla bırlıkte ındeksını de yazdırmak ıstıyorsak enumerate fonkunu kullanırız."
   ]
  },
  {
   "cell_type": "code",
   "execution_count": 44,
   "id": "60f8a988",
   "metadata": {},
   "outputs": [
    {
     "name": "stdout",
     "output_type": "stream",
     "text": [
      "[(0, 'Elma'), (1, 'Armut'), (2, 'Muz'), (3, 'Kiraz')]\n"
     ]
    }
   ],
   "source": [
    "liste=[\"Elma\",\"Armut\",\"Muz\",\"Kiraz\"]\n",
    "i=0\n",
    "sonuc=list()\n",
    "while i<len(liste):\n",
    "    sonuc.append((i,liste[i]))\n",
    "    i+=1\n",
    "print(sonuc)"
   ]
  },
  {
   "cell_type": "code",
   "execution_count": 45,
   "id": "141e7bdc",
   "metadata": {},
   "outputs": [
    {
     "data": {
      "text/plain": [
       "<enumerate at 0x21a9a4e4d40>"
      ]
     },
     "execution_count": 45,
     "metadata": {},
     "output_type": "execute_result"
    }
   ],
   "source": [
    "enumerate(liste)"
   ]
  },
  {
   "cell_type": "code",
   "execution_count": 46,
   "id": "e87c1a9a",
   "metadata": {},
   "outputs": [
    {
     "data": {
      "text/plain": [
       "[(0, 'Elma'), (1, 'Armut'), (2, 'Muz'), (3, 'Kiraz')]"
      ]
     },
     "execution_count": 46,
     "metadata": {},
     "output_type": "execute_result"
    }
   ],
   "source": [
    "list(enumerate(liste))"
   ]
  },
  {
   "cell_type": "code",
   "execution_count": 47,
   "id": "86ebe82a",
   "metadata": {},
   "outputs": [
    {
     "name": "stdout",
     "output_type": "stream",
     "text": [
      "0 Elma\n",
      "1 Armut\n",
      "2 Muz\n",
      "3 Kiraz\n"
     ]
    }
   ],
   "source": [
    "for i,j in enumerate(liste):\n",
    "    print(i,j)"
   ]
  },
  {
   "cell_type": "code",
   "execution_count": 48,
   "id": "7935191a",
   "metadata": {},
   "outputs": [],
   "source": [
    "liste=[\"a\",\"b\",\"c\",\"d\",\"e\",\"f\",\"g\"]"
   ]
  },
  {
   "cell_type": "code",
   "execution_count": 49,
   "id": "d94d1ef2",
   "metadata": {},
   "outputs": [
    {
     "name": "stdout",
     "output_type": "stream",
     "text": [
      "a\n",
      "c\n",
      "e\n",
      "g\n"
     ]
    }
   ],
   "source": [
    "for i,j in enumerate(liste):\n",
    "    if i%2==0:\n",
    "        print(j)"
   ]
  },
  {
   "cell_type": "markdown",
   "id": "c8f0acb8",
   "metadata": {},
   "source": [
    "All Fonksiyonu:Bütün degerler true ıse true bır tanesı bıle false ıse false dondurur."
   ]
  },
  {
   "cell_type": "markdown",
   "id": "790a86ba",
   "metadata": {},
   "source": [
    "Any Fonksiyonu:Bütün degerler false ise false bir tanesi bile true ise true dondurur."
   ]
  },
  {
   "cell_type": "code",
   "execution_count": 50,
   "id": "a08c1d9d",
   "metadata": {},
   "outputs": [],
   "source": [
    "def hepsi(liste):\n",
    "    for i in liste:\n",
    "        if not i:\n",
    "            return False\n",
    "    return True"
   ]
  },
  {
   "cell_type": "code",
   "execution_count": 51,
   "id": "56327f68",
   "metadata": {},
   "outputs": [],
   "source": [
    "liste=[True,False,True,False,True]"
   ]
  },
  {
   "cell_type": "code",
   "execution_count": 52,
   "id": "5c6fcc5d",
   "metadata": {},
   "outputs": [
    {
     "data": {
      "text/plain": [
       "False"
      ]
     },
     "execution_count": 52,
     "metadata": {},
     "output_type": "execute_result"
    }
   ],
   "source": [
    "hepsi(liste)"
   ]
  },
  {
   "cell_type": "code",
   "execution_count": 53,
   "id": "070721fc",
   "metadata": {},
   "outputs": [
    {
     "data": {
      "text/plain": [
       "True"
      ]
     },
     "execution_count": 53,
     "metadata": {},
     "output_type": "execute_result"
    }
   ],
   "source": [
    "liste=[1,2,3,4,5]#Sadece sayılarda 0 False.\n",
    "hepsi(liste)"
   ]
  },
  {
   "cell_type": "code",
   "execution_count": 54,
   "id": "dd15a894",
   "metadata": {},
   "outputs": [],
   "source": [
    "def herhangi(liste):\n",
    "    for i in liste:\n",
    "        if i:\n",
    "            return True\n",
    "    return False"
   ]
  },
  {
   "cell_type": "code",
   "execution_count": 56,
   "id": "9e809675",
   "metadata": {},
   "outputs": [
    {
     "data": {
      "text/plain": [
       "True"
      ]
     },
     "execution_count": 56,
     "metadata": {},
     "output_type": "execute_result"
    }
   ],
   "source": [
    "herhangi(liste)"
   ]
  },
  {
   "cell_type": "code",
   "execution_count": 57,
   "id": "8bc6dd8c",
   "metadata": {},
   "outputs": [
    {
     "data": {
      "text/plain": [
       "False"
      ]
     },
     "execution_count": 57,
     "metadata": {},
     "output_type": "execute_result"
    }
   ],
   "source": [
    "liste1=[0,0,0,0,0]\n",
    "herhangi(liste1)"
   ]
  },
  {
   "cell_type": "code",
   "execution_count": 59,
   "id": "6a852251",
   "metadata": {},
   "outputs": [
    {
     "data": {
      "text/plain": [
       "False"
      ]
     },
     "execution_count": 59,
     "metadata": {},
     "output_type": "execute_result"
    }
   ],
   "source": [
    "liste=[True,False,True,False,True]\n",
    "all(liste)"
   ]
  },
  {
   "cell_type": "code",
   "execution_count": 60,
   "id": "da38baee",
   "metadata": {},
   "outputs": [
    {
     "data": {
      "text/plain": [
       "True"
      ]
     },
     "execution_count": 60,
     "metadata": {},
     "output_type": "execute_result"
    }
   ],
   "source": [
    "all([True,True,True])"
   ]
  },
  {
   "cell_type": "code",
   "execution_count": 62,
   "id": "2e3f20d4",
   "metadata": {},
   "outputs": [
    {
     "data": {
      "text/plain": [
       "True"
      ]
     },
     "execution_count": 62,
     "metadata": {},
     "output_type": "execute_result"
    }
   ],
   "source": [
    "any(liste)"
   ]
  },
  {
   "cell_type": "code",
   "execution_count": 63,
   "id": "0a683b53",
   "metadata": {},
   "outputs": [
    {
     "data": {
      "text/plain": [
       "False"
      ]
     },
     "execution_count": 63,
     "metadata": {},
     "output_type": "execute_result"
    }
   ],
   "source": [
    "any([False,False])"
   ]
  },
  {
   "cell_type": "code",
   "execution_count": null,
   "id": "45820e60",
   "metadata": {},
   "outputs": [],
   "source": []
  }
 ],
 "metadata": {
  "kernelspec": {
   "display_name": "Python 3 (ipykernel)",
   "language": "python",
   "name": "python3"
  },
  "language_info": {
   "codemirror_mode": {
    "name": "ipython",
    "version": 3
   },
   "file_extension": ".py",
   "mimetype": "text/x-python",
   "name": "python",
   "nbconvert_exporter": "python",
   "pygments_lexer": "ipython3",
   "version": "3.9.13"
  }
 },
 "nbformat": 4,
 "nbformat_minor": 5
}
