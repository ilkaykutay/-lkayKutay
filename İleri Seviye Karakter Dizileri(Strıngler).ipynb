{
 "cells": [
  {
   "cell_type": "markdown",
   "id": "23f20914",
   "metadata": {},
   "source": [
    "Upper metodu:Uyguladıgımız strıngı buyuk harflerle yazar. \n",
    "\n",
    "Lower metodu:Uyguladıgımız strıngı kucuk harflerle yazar."
   ]
  },
  {
   "cell_type": "code",
   "execution_count": 4,
   "id": "2bad8fed",
   "metadata": {},
   "outputs": [
    {
     "data": {
      "text/plain": [
       "'PYTHON'"
      ]
     },
     "execution_count": 4,
     "metadata": {},
     "output_type": "execute_result"
    }
   ],
   "source": [
    "\"python\".upper()"
   ]
  },
  {
   "cell_type": "code",
   "execution_count": 5,
   "id": "199173c2",
   "metadata": {},
   "outputs": [
    {
     "data": {
      "text/plain": [
       "'python'"
      ]
     },
     "execution_count": 5,
     "metadata": {},
     "output_type": "execute_result"
    }
   ],
   "source": [
    "\"PYTHON\".lower()"
   ]
  },
  {
   "cell_type": "markdown",
   "id": "6ba27a59",
   "metadata": {},
   "source": [
    "replace metodu:girilen strıngdekı herhangı bır harf vb. seyleri degıstırmeye yarar."
   ]
  },
  {
   "cell_type": "code",
   "execution_count": 7,
   "id": "61c9c564",
   "metadata": {},
   "outputs": [
    {
     "data": {
      "text/plain": [
       "'Herkes ono bocı gordoş.'"
      ]
     },
     "execution_count": 7,
     "metadata": {},
     "output_type": "execute_result"
    }
   ],
   "source": [
    "\"Herkes ana bacı gardaş.\".replace(\"a\",\"o\")#a ile o yu degıstır dedık."
   ]
  },
  {
   "cell_type": "code",
   "execution_count": 9,
   "id": "f44a22e3",
   "metadata": {},
   "outputs": [
    {
     "data": {
      "text/plain": [
       "'Python.programlama.dili'"
      ]
     },
     "execution_count": 9,
     "metadata": {},
     "output_type": "execute_result"
    }
   ],
   "source": [
    "\"Python programlama dili\".replace(\" \",\".\")"
   ]
  },
  {
   "cell_type": "code",
   "execution_count": 10,
   "id": "461cd05d",
   "metadata": {},
   "outputs": [
    {
     "data": {
      "text/plain": [
       "'Kunzun'"
      ]
     },
     "execution_count": 10,
     "metadata": {},
     "output_type": "execute_result"
    }
   ],
   "source": [
    "\"Kunduz\".replace(\"duz\",\"zun\")"
   ]
  },
  {
   "cell_type": "markdown",
   "id": "9cd4f61a",
   "metadata": {},
   "source": [
    "startswith metodu:Hangı deger ıle baslıyorsa true baslamıyorsa false dondurur.\n",
    "\n",
    "endswith metodu:Hangı deger ıle bıtıyorsa True baslamıyorsa False dondurur."
   ]
  },
  {
   "cell_type": "code",
   "execution_count": 11,
   "id": "47573005",
   "metadata": {},
   "outputs": [
    {
     "data": {
      "text/plain": [
       "False"
      ]
     },
     "execution_count": 11,
     "metadata": {},
     "output_type": "execute_result"
    }
   ],
   "source": [
    "\"Python\".startswith(\"p\")"
   ]
  },
  {
   "cell_type": "code",
   "execution_count": 12,
   "id": "a2113f1d",
   "metadata": {},
   "outputs": [
    {
     "data": {
      "text/plain": [
       "True"
      ]
     },
     "execution_count": 12,
     "metadata": {},
     "output_type": "execute_result"
    }
   ],
   "source": [
    "\"Python\".startswith(\"Py\")"
   ]
  },
  {
   "cell_type": "code",
   "execution_count": 13,
   "id": "5ec06feb",
   "metadata": {},
   "outputs": [
    {
     "data": {
      "text/plain": [
       "True"
      ]
     },
     "execution_count": 13,
     "metadata": {},
     "output_type": "execute_result"
    }
   ],
   "source": [
    "\"Python\".endswith(\"on\")"
   ]
  },
  {
   "cell_type": "markdown",
   "id": "a0df79b3",
   "metadata": {},
   "source": [
    "split(a): Verilen bir a değerine göre string parçalara ayrılarak herbir parça listeye atılır."
   ]
  },
  {
   "cell_type": "code",
   "execution_count": 15,
   "id": "17dc5d87",
   "metadata": {},
   "outputs": [],
   "source": [
    "liste=\"Python programlama dili\".split(\" \")"
   ]
  },
  {
   "cell_type": "code",
   "execution_count": 17,
   "id": "d380b6cb",
   "metadata": {},
   "outputs": [
    {
     "name": "stdout",
     "output_type": "stream",
     "text": [
      "['Python', 'programlama', 'dili']\n"
     ]
    }
   ],
   "source": [
    "print(liste)#bosluk karakterıne gore ayırdı."
   ]
  },
  {
   "cell_type": "code",
   "execution_count": 19,
   "id": "53dd0ca5",
   "metadata": {},
   "outputs": [],
   "source": [
    "liste2=\"Python-Php-Javascript-C-Java\".split(\"-\")"
   ]
  },
  {
   "cell_type": "code",
   "execution_count": 20,
   "id": "d8733383",
   "metadata": {},
   "outputs": [
    {
     "name": "stdout",
     "output_type": "stream",
     "text": [
      "['Python', 'Php', 'Javascript', 'C', 'Java']\n"
     ]
    }
   ],
   "source": [
    "print(liste2)"
   ]
  },
  {
   "cell_type": "markdown",
   "id": "612df4eb",
   "metadata": {},
   "source": [
    "strip(x) : Stringin başında ve sonunda bulunan x değerlerini siler.\n",
    "\n",
    "lstrip(x) : Stringin sadece başında bulunan x değerlerini siler.\n",
    "\n",
    "rstrip(x) : Stringin sadece sonunda bulunan x değerlerini siler."
   ]
  },
  {
   "cell_type": "code",
   "execution_count": 21,
   "id": "d76525e2",
   "metadata": {},
   "outputs": [
    {
     "data": {
      "text/plain": [
       "'python'"
      ]
     },
     "execution_count": 21,
     "metadata": {},
     "output_type": "execute_result"
    }
   ],
   "source": [
    "\"                   python                          \".strip() # değer göndermezsek varsayılan olarak boşluk karakteri görülür."
   ]
  },
  {
   "cell_type": "code",
   "execution_count": 22,
   "id": "728a216f",
   "metadata": {},
   "outputs": [
    {
     "data": {
      "text/plain": [
       "'python                          '"
      ]
     },
     "execution_count": 22,
     "metadata": {},
     "output_type": "execute_result"
    }
   ],
   "source": [
    "\"                   python                          \".lstrip()"
   ]
  },
  {
   "cell_type": "code",
   "execution_count": 23,
   "id": "3c2e9b3f",
   "metadata": {},
   "outputs": [
    {
     "data": {
      "text/plain": [
       "'                   python'"
      ]
     },
     "execution_count": 23,
     "metadata": {},
     "output_type": "execute_result"
    }
   ],
   "source": [
    "\"                   python                          \".rstrip()"
   ]
  },
  {
   "cell_type": "code",
   "execution_count": 24,
   "id": "0287df91",
   "metadata": {},
   "outputs": [
    {
     "data": {
      "text/plain": [
       "'Mustafa'"
      ]
     },
     "execution_count": 24,
     "metadata": {},
     "output_type": "execute_result"
    }
   ],
   "source": [
    "\">>>>>>>>>>>>>>Mustafa>>>>>>>>>>>>>>>>>>>>>>>>>>\".strip(\">\")"
   ]
  },
  {
   "cell_type": "markdown",
   "id": "0670a92c",
   "metadata": {},
   "source": [
    "join metodu:Listenin elemanlarını bir string degerıyle bırlestırmemızı saglar."
   ]
  },
  {
   "cell_type": "code",
   "execution_count": 25,
   "id": "0f09936e",
   "metadata": {},
   "outputs": [],
   "source": [
    "liste = [\"21\",\"02\",\"2014\"]"
   ]
  },
  {
   "cell_type": "code",
   "execution_count": 26,
   "id": "47488f85",
   "metadata": {},
   "outputs": [
    {
     "data": {
      "text/plain": [
       "'21/02/2014'"
      ]
     },
     "execution_count": 26,
     "metadata": {},
     "output_type": "execute_result"
    }
   ],
   "source": [
    "\"/\".join(liste)"
   ]
  },
  {
   "cell_type": "code",
   "execution_count": 27,
   "id": "d2ac28bf",
   "metadata": {},
   "outputs": [],
   "source": [
    "liste2=[\"T\",\"B\",\"M\",\"M\"]"
   ]
  },
  {
   "cell_type": "code",
   "execution_count": 28,
   "id": "523cacd8",
   "metadata": {},
   "outputs": [
    {
     "data": {
      "text/plain": [
       "'T.B.M.M'"
      ]
     },
     "execution_count": 28,
     "metadata": {},
     "output_type": "execute_result"
    }
   ],
   "source": [
    "\".\".join(liste2)"
   ]
  },
  {
   "cell_type": "markdown",
   "id": "e4612816",
   "metadata": {},
   "source": [
    "count(x): Stringin içindeki x değerlerini sayar.\n",
    "\n",
    "count(x,index): Stringin içindeki x değerlerini verilen index değerinden başlayarak saymaya başlar."
   ]
  },
  {
   "cell_type": "code",
   "execution_count": 30,
   "id": "6f760035",
   "metadata": {},
   "outputs": [
    {
     "data": {
      "text/plain": [
       "6"
      ]
     },
     "execution_count": 30,
     "metadata": {},
     "output_type": "execute_result"
    }
   ],
   "source": [
    "\"ada kapısı yandan çarklı\".count(\"a\")"
   ]
  },
  {
   "cell_type": "code",
   "execution_count": 31,
   "id": "fc8dbe1e",
   "metadata": {},
   "outputs": [
    {
     "data": {
      "text/plain": [
       "3"
      ]
     },
     "execution_count": 31,
     "metadata": {},
     "output_type": "execute_result"
    }
   ],
   "source": [
    "\"ada kapısı yandan çarklı\".count(\" \")"
   ]
  },
  {
   "cell_type": "code",
   "execution_count": 32,
   "id": "5b808acf",
   "metadata": {},
   "outputs": [
    {
     "data": {
      "text/plain": [
       "5"
      ]
     },
     "execution_count": 32,
     "metadata": {},
     "output_type": "execute_result"
    }
   ],
   "source": [
    "\"ada kapısı yandan çarklı\".count(\"a\",2)"
   ]
  },
  {
   "cell_type": "markdown",
   "id": "8f1e3bbd",
   "metadata": {},
   "source": [
    "find(x) : x değerini baştan itibaren string içinde arar ve bulursa ilk bulduğu indeksi döndürür. Bulamazsa \"-1\" değerini verir.\n",
    "\n",
    "rfind(x) : x değerini sondan itibaren string içinde arar ve bulursa ilk bulduğu indeksi döndürür. Bulamazsa \"-1\" değerini verir."
   ]
  },
  {
   "cell_type": "code",
   "execution_count": 33,
   "id": "8d62270f",
   "metadata": {},
   "outputs": [
    {
     "data": {
      "text/plain": [
       "0"
      ]
     },
     "execution_count": 33,
     "metadata": {},
     "output_type": "execute_result"
    }
   ],
   "source": [
    "\"araba\".find(\"a\")"
   ]
  },
  {
   "cell_type": "code",
   "execution_count": 34,
   "id": "42440a94",
   "metadata": {},
   "outputs": [
    {
     "data": {
      "text/plain": [
       "4"
      ]
     },
     "execution_count": 34,
     "metadata": {},
     "output_type": "execute_result"
    }
   ],
   "source": [
    "\"araba\".rfind(\"a\")"
   ]
  },
  {
   "cell_type": "code",
   "execution_count": 35,
   "id": "934e4db5",
   "metadata": {},
   "outputs": [
    {
     "data": {
      "text/plain": [
       "-1"
      ]
     },
     "execution_count": 35,
     "metadata": {},
     "output_type": "execute_result"
    }
   ],
   "source": [
    "\"araba\".find(\"s\")"
   ]
  },
  {
   "cell_type": "code",
   "execution_count": 36,
   "id": "3c16a8b3",
   "metadata": {},
   "outputs": [
    {
     "data": {
      "text/plain": [
       "-1"
      ]
     },
     "execution_count": 36,
     "metadata": {},
     "output_type": "execute_result"
    }
   ],
   "source": [
    "\"araba\".rfind(\"s\")"
   ]
  },
  {
   "cell_type": "code",
   "execution_count": null,
   "id": "d2cf4c87",
   "metadata": {},
   "outputs": [],
   "source": []
  }
 ],
 "metadata": {
  "kernelspec": {
   "display_name": "Python 3 (ipykernel)",
   "language": "python",
   "name": "python3"
  },
  "language_info": {
   "codemirror_mode": {
    "name": "ipython",
    "version": 3
   },
   "file_extension": ".py",
   "mimetype": "text/x-python",
   "name": "python",
   "nbconvert_exporter": "python",
   "pygments_lexer": "ipython3",
   "version": "3.9.13"
  }
 },
 "nbformat": 4,
 "nbformat_minor": 5
}
