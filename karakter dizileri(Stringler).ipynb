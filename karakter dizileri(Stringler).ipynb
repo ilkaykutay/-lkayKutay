{
 "cells": [
  {
   "cell_type": "code",
   "execution_count": 1,
   "id": "1458a35d",
   "metadata": {},
   "outputs": [
    {
     "data": {
      "text/plain": [
       "'İlkay kutay'"
      ]
     },
     "execution_count": 1,
     "metadata": {},
     "output_type": "execute_result"
    }
   ],
   "source": [
    "#Tek tırnak ile olusturma\n",
    "'İlkay kutay'"
   ]
  },
  {
   "cell_type": "code",
   "execution_count": 4,
   "id": "b52171d3",
   "metadata": {},
   "outputs": [
    {
     "data": {
      "text/plain": [
       "'İlkay kutay'"
      ]
     },
     "execution_count": 4,
     "metadata": {},
     "output_type": "execute_result"
    }
   ],
   "source": [
    "#cıft tırnak ile olusturma\n",
    "\"İlkay kutay\""
   ]
  },
  {
   "cell_type": "code",
   "execution_count": 5,
   "id": "11ca839f",
   "metadata": {},
   "outputs": [
    {
     "data": {
      "text/plain": [
       "'İlkay Kutay '"
      ]
     },
     "execution_count": 5,
     "metadata": {},
     "output_type": "execute_result"
    }
   ],
   "source": [
    "#üç tırnak ile olusturma\n",
    "\"\"\"İlkay Kutay \"\"\""
   ]
  },
  {
   "cell_type": "code",
   "execution_count": 6,
   "id": "aeed3c01",
   "metadata": {},
   "outputs": [
    {
     "data": {
      "text/plain": [
       "\"İlkay'ın dersi var.\""
      ]
     },
     "execution_count": 6,
     "metadata": {},
     "output_type": "execute_result"
    }
   ],
   "source": [
    "\"İlkay'ın dersi var.\""
   ]
  },
  {
   "cell_type": "code",
   "execution_count": 9,
   "id": "d515063f",
   "metadata": {},
   "outputs": [
    {
     "data": {
      "text/plain": [
       "\"İlkay'ın dersi var\""
      ]
     },
     "execution_count": 9,
     "metadata": {},
     "output_type": "execute_result"
    }
   ],
   "source": [
    "'İlkay\\'ın dersi var'\n",
    "# \\ pythonda kacıs dızılerı vardır.Bu aslında bu degıl demek burda da tek tırnak bu anlama gelmıyo demek."
   ]
  },
  {
   "cell_type": "code",
   "execution_count": 10,
   "id": "91e6be99",
   "metadata": {},
   "outputs": [
    {
     "data": {
      "text/plain": [
       "'Merhaba'"
      ]
     },
     "execution_count": 10,
     "metadata": {},
     "output_type": "execute_result"
    }
   ],
   "source": [
    "a=\"Merhaba\"\n",
    "a"
   ]
  },
  {
   "cell_type": "markdown",
   "id": "e719527d",
   "metadata": {},
   "source": [
    "Stringler birer karakter dizileri oldugu ıcın hepsının bir yeri vardır."
   ]
  },
  {
   "cell_type": "code",
   "execution_count": 11,
   "id": "70a0eaa8",
   "metadata": {},
   "outputs": [
    {
     "data": {
      "text/plain": [
       "'İ'"
      ]
     },
     "execution_count": 11,
     "metadata": {},
     "output_type": "execute_result"
    }
   ],
   "source": [
    "a=\"İlkay\"\n",
    "a[0]"
   ]
  },
  {
   "cell_type": "code",
   "execution_count": 12,
   "id": "11d2f680",
   "metadata": {},
   "outputs": [
    {
     "data": {
      "text/plain": [
       "'l'"
      ]
     },
     "execution_count": 12,
     "metadata": {},
     "output_type": "execute_result"
    }
   ],
   "source": [
    "a[1]"
   ]
  },
  {
   "cell_type": "code",
   "execution_count": 13,
   "id": "9e657f8c",
   "metadata": {},
   "outputs": [
    {
     "data": {
      "text/plain": [
       "'k'"
      ]
     },
     "execution_count": 13,
     "metadata": {},
     "output_type": "execute_result"
    }
   ],
   "source": [
    "a[2]"
   ]
  },
  {
   "cell_type": "code",
   "execution_count": 14,
   "id": "fd4cfdde",
   "metadata": {},
   "outputs": [
    {
     "data": {
      "text/plain": [
       "'a'"
      ]
     },
     "execution_count": 14,
     "metadata": {},
     "output_type": "execute_result"
    }
   ],
   "source": [
    "a[3]"
   ]
  },
  {
   "cell_type": "code",
   "execution_count": 15,
   "id": "6d948efc",
   "metadata": {},
   "outputs": [
    {
     "data": {
      "text/plain": [
       "'y'"
      ]
     },
     "execution_count": 15,
     "metadata": {},
     "output_type": "execute_result"
    }
   ],
   "source": [
    "a[4]"
   ]
  },
  {
   "cell_type": "code",
   "execution_count": 17,
   "id": "c802d8aa",
   "metadata": {},
   "outputs": [
    {
     "ename": "IndexError",
     "evalue": "string index out of range",
     "output_type": "error",
     "traceback": [
      "\u001b[1;31m---------------------------------------------------------------------------\u001b[0m",
      "\u001b[1;31mIndexError\u001b[0m                                Traceback (most recent call last)",
      "Input \u001b[1;32mIn [17]\u001b[0m, in \u001b[0;36m<cell line: 1>\u001b[1;34m()\u001b[0m\n\u001b[1;32m----> 1\u001b[0m \u001b[43ma\u001b[49m\u001b[43m[\u001b[49m\u001b[38;5;241;43m5\u001b[39;49m\u001b[43m]\u001b[49m\n",
      "\u001b[1;31mIndexError\u001b[0m: string index out of range"
     ]
    }
   ],
   "source": [
    "a[5]#oyle bırsey olmadıgı ıcın hata verdı."
   ]
  },
  {
   "cell_type": "markdown",
   "id": "b85a60dc",
   "metadata": {},
   "source": [
    "Stringler bastan indekslendıgı gıbı tersten de indekslenebilir."
   ]
  },
  {
   "cell_type": "code",
   "execution_count": 18,
   "id": "b6ef5e22",
   "metadata": {},
   "outputs": [
    {
     "data": {
      "text/plain": [
       "'y'"
      ]
     },
     "execution_count": 18,
     "metadata": {},
     "output_type": "execute_result"
    }
   ],
   "source": [
    "a[-1]"
   ]
  },
  {
   "cell_type": "code",
   "execution_count": 22,
   "id": "d1899229",
   "metadata": {},
   "outputs": [
    {
     "data": {
      "text/plain": [
       "'a'"
      ]
     },
     "execution_count": 22,
     "metadata": {},
     "output_type": "execute_result"
    }
   ],
   "source": [
    "a[-2]"
   ]
  },
  {
   "cell_type": "code",
   "execution_count": 23,
   "id": "faf6ea3f",
   "metadata": {},
   "outputs": [
    {
     "data": {
      "text/plain": [
       "'k'"
      ]
     },
     "execution_count": 23,
     "metadata": {},
     "output_type": "execute_result"
    }
   ],
   "source": [
    "a[-3]"
   ]
  },
  {
   "cell_type": "code",
   "execution_count": 24,
   "id": "f3228b9f",
   "metadata": {},
   "outputs": [
    {
     "data": {
      "text/plain": [
       "'l'"
      ]
     },
     "execution_count": 24,
     "metadata": {},
     "output_type": "execute_result"
    }
   ],
   "source": [
    "a[-4]"
   ]
  },
  {
   "cell_type": "code",
   "execution_count": 25,
   "id": "a3ea7908",
   "metadata": {},
   "outputs": [
    {
     "data": {
      "text/plain": [
       "'İ'"
      ]
     },
     "execution_count": 25,
     "metadata": {},
     "output_type": "execute_result"
    }
   ],
   "source": [
    "a[-5]"
   ]
  },
  {
   "cell_type": "markdown",
   "id": "e992fc22",
   "metadata": {},
   "source": [
    "uzun bir stringimiz oldugunda belirli bir kısmını almak istersek ne yaparız.\n",
    "Bunun içinde [],: kullanırız.\n",
    "[Başlama indeksş:bitiş indeksi:atlama değeri]"
   ]
  },
  {
   "cell_type": "code",
   "execution_count": 26,
   "id": "aa7c987a",
   "metadata": {},
   "outputs": [],
   "source": [
    "b=\"Python programlama dili\"\n"
   ]
  },
  {
   "cell_type": "code",
   "execution_count": 28,
   "id": "f6af0a15",
   "metadata": {},
   "outputs": [
    {
     "data": {
      "text/plain": [
       "'Pytho'"
      ]
     },
     "execution_count": 28,
     "metadata": {},
     "output_type": "execute_result"
    }
   ],
   "source": [
    "b[0:5]#atlama indeksini koymazsan kendisi onu 1 olarak kabul eder.Bitiş indeksi dahil edilmez."
   ]
  },
  {
   "cell_type": "code",
   "execution_count": 29,
   "id": "47f5149a",
   "metadata": {},
   "outputs": [
    {
     "data": {
      "text/plain": [
       "'Pytho'"
      ]
     },
     "execution_count": 29,
     "metadata": {},
     "output_type": "execute_result"
    }
   ],
   "source": [
    "b[:5]"
   ]
  },
  {
   "cell_type": "code",
   "execution_count": 30,
   "id": "74118906",
   "metadata": {},
   "outputs": [
    {
     "data": {
      "text/plain": [
       "'thon programlama dili'"
      ]
     },
     "execution_count": 30,
     "metadata": {},
     "output_type": "execute_result"
    }
   ],
   "source": [
    "b[2:]"
   ]
  },
  {
   "cell_type": "code",
   "execution_count": 31,
   "id": "bdedf7ef",
   "metadata": {},
   "outputs": [
    {
     "data": {
      "text/plain": [
       "'Python programlama dili'"
      ]
     },
     "execution_count": 31,
     "metadata": {},
     "output_type": "execute_result"
    }
   ],
   "source": [
    "b[:]"
   ]
  },
  {
   "cell_type": "code",
   "execution_count": 32,
   "id": "867b0365",
   "metadata": {},
   "outputs": [
    {
     "data": {
      "text/plain": [
       "'Python programlama dil'"
      ]
     },
     "execution_count": 32,
     "metadata": {},
     "output_type": "execute_result"
    }
   ],
   "source": [
    "b[:-1]#-1 son indeks oldugu ıcın onu alma demıs gıbı oldu."
   ]
  },
  {
   "cell_type": "code",
   "execution_count": 33,
   "id": "c47a8922",
   "metadata": {},
   "outputs": [
    {
     "data": {
      "text/plain": [
       "'Pto rgalm ii'"
      ]
     },
     "execution_count": 33,
     "metadata": {},
     "output_type": "execute_result"
    }
   ],
   "source": [
    "b[::2]"
   ]
  },
  {
   "cell_type": "code",
   "execution_count": 34,
   "id": "ac65d80d",
   "metadata": {},
   "outputs": [
    {
     "data": {
      "text/plain": [
       "'Ph oaa l'"
      ]
     },
     "execution_count": 34,
     "metadata": {},
     "output_type": "execute_result"
    }
   ],
   "source": [
    "b[::3]"
   ]
  },
  {
   "cell_type": "code",
   "execution_count": 35,
   "id": "a2d3bc73",
   "metadata": {},
   "outputs": [
    {
     "data": {
      "text/plain": [
       "'o rg'"
      ]
     },
     "execution_count": 35,
     "metadata": {},
     "output_type": "execute_result"
    }
   ],
   "source": [
    "b[4:12:2]"
   ]
  },
  {
   "cell_type": "code",
   "execution_count": 36,
   "id": "37822f33",
   "metadata": {},
   "outputs": [
    {
     "data": {
      "text/plain": [
       "'ilid amalmargorp nohtyP'"
      ]
     },
     "execution_count": 36,
     "metadata": {},
     "output_type": "execute_result"
    }
   ],
   "source": [
    "b[::-1]#Tersden getriyor."
   ]
  },
  {
   "cell_type": "code",
   "execution_count": 37,
   "id": "f7c69b95",
   "metadata": {},
   "outputs": [
    {
     "data": {
      "text/plain": [
       "7"
      ]
     },
     "execution_count": 37,
     "metadata": {},
     "output_type": "execute_result"
    }
   ],
   "source": [
    "c=\"MERHABA\"\n",
    "len(c)#bir stringın uzunlugunu bulmak icin len fonku kullanılır."
   ]
  },
  {
   "cell_type": "code",
   "execution_count": 38,
   "id": "149be472",
   "metadata": {},
   "outputs": [
    {
     "ename": "TypeError",
     "evalue": "'str' object does not support item assignment",
     "output_type": "error",
     "traceback": [
      "\u001b[1;31m---------------------------------------------------------------------------\u001b[0m",
      "\u001b[1;31mTypeError\u001b[0m                                 Traceback (most recent call last)",
      "Input \u001b[1;32mIn [38]\u001b[0m, in \u001b[0;36m<cell line: 1>\u001b[1;34m()\u001b[0m\n\u001b[1;32m----> 1\u001b[0m c[\u001b[38;5;241m2\u001b[39m]\u001b[38;5;241m=\u001b[39ma\n",
      "\u001b[1;31mTypeError\u001b[0m: 'str' object does not support item assignment"
     ]
    }
   ],
   "source": [
    "c[2]=a#Bir stringi direkt olarak degıstıremıyoruz."
   ]
  },
  {
   "cell_type": "code",
   "execution_count": 41,
   "id": "0410cb97",
   "metadata": {},
   "outputs": [
    {
     "data": {
      "text/plain": [
       "'İlkayKutay'"
      ]
     },
     "execution_count": 41,
     "metadata": {},
     "output_type": "execute_result"
    }
   ],
   "source": [
    "a=\"İlkay\"\n",
    "b=\"Kutay\"\n",
    "c=a+b #strıngler bırbırı ıle toplanabılıyor.\n",
    "c"
   ]
  },
  {
   "cell_type": "code",
   "execution_count": 42,
   "id": "8fc35488",
   "metadata": {},
   "outputs": [
    {
     "data": {
      "text/plain": [
       "'İlkayİlkayİlkay'"
      ]
     },
     "execution_count": 42,
     "metadata": {},
     "output_type": "execute_result"
    }
   ],
   "source": [
    "a*3#stringler aynı zamanda carpılabılır.3kere aynısını yazdırdı."
   ]
  },
  {
   "cell_type": "code",
   "execution_count": 43,
   "id": "d6311231",
   "metadata": {},
   "outputs": [
    {
     "data": {
      "text/plain": [
       "'ilkaykutay'"
      ]
     },
     "execution_count": 43,
     "metadata": {},
     "output_type": "execute_result"
    }
   ],
   "source": [
    "a=\"ilkay\" \n",
    "a=a+\"kutay\"\n",
    "a"
   ]
  },
  {
   "cell_type": "code",
   "execution_count": null,
   "id": "808a86a0",
   "metadata": {},
   "outputs": [],
   "source": []
  }
 ],
 "metadata": {
  "kernelspec": {
   "display_name": "Python 3 (ipykernel)",
   "language": "python",
   "name": "python3"
  },
  "language_info": {
   "codemirror_mode": {
    "name": "ipython",
    "version": 3
   },
   "file_extension": ".py",
   "mimetype": "text/x-python",
   "name": "python",
   "nbconvert_exporter": "python",
   "pygments_lexer": "ipython3",
   "version": "3.9.12"
  }
 },
 "nbformat": 4,
 "nbformat_minor": 5
}
