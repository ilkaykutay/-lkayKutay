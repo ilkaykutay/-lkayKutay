{
 "cells": [
  {
   "cell_type": "code",
   "execution_count": 1,
   "id": "9a852181",
   "metadata": {},
   "outputs": [],
   "source": [
    "def selamla():\n",
    "    print(\"merhaba...\")"
   ]
  },
  {
   "cell_type": "code",
   "execution_count": 2,
   "id": "5976fecb",
   "metadata": {},
   "outputs": [
    {
     "data": {
      "text/plain": [
       "function"
      ]
     },
     "execution_count": 2,
     "metadata": {},
     "output_type": "execute_result"
    }
   ],
   "source": [
    "type(selamla)"
   ]
  },
  {
   "cell_type": "code",
   "execution_count": 3,
   "id": "8c040c06",
   "metadata": {},
   "outputs": [
    {
     "name": "stdout",
     "output_type": "stream",
     "text": [
      "merhaba...\n"
     ]
    }
   ],
   "source": [
    "selamla()#yazılımda fonksıyon kullanmak fonksıyonu cagırmakdır.Burda fonksıyonu cagırıyoruz."
   ]
  },
  {
   "cell_type": "code",
   "execution_count": 4,
   "id": "2de30172",
   "metadata": {},
   "outputs": [
    {
     "name": "stdout",
     "output_type": "stream",
     "text": [
      "merhaba...\n",
      "merhaba...\n"
     ]
    }
   ],
   "source": [
    "selamla()\n",
    "selamla()"
   ]
  },
  {
   "cell_type": "code",
   "execution_count": 5,
   "id": "dd602e0a",
   "metadata": {},
   "outputs": [],
   "source": [
    "def selamla(isim):\n",
    "    print(\"İsminiz:\",isim)# burda fonkun ıcıne yazmamızın nedenıfonksıyonun ıcınde alınıcak bır deger var.O yuzden deger vermeliyiz.\n",
    "    #Gonderdıgımız deger arguman dıye gecer."
   ]
  },
  {
   "cell_type": "code",
   "execution_count": 6,
   "id": "363acab1",
   "metadata": {},
   "outputs": [
    {
     "name": "stdout",
     "output_type": "stream",
     "text": [
      "İsminiz: ilkay\n"
     ]
    }
   ],
   "source": [
    "selamla(\"ilkay\")"
   ]
  },
  {
   "cell_type": "code",
   "execution_count": 7,
   "id": "14fad6a2",
   "metadata": {},
   "outputs": [],
   "source": [
    "def toplama(a,b,c):\n",
    "    print(\"Sayıların toplamı\",a+b+c)"
   ]
  },
  {
   "cell_type": "code",
   "execution_count": 8,
   "id": "8ece3def",
   "metadata": {},
   "outputs": [
    {
     "name": "stdout",
     "output_type": "stream",
     "text": [
      "Sayıların toplamı 6\n"
     ]
    }
   ],
   "source": [
    "toplama(1,2,3)"
   ]
  },
  {
   "cell_type": "code",
   "execution_count": 17,
   "id": "ab9eee3d",
   "metadata": {},
   "outputs": [],
   "source": [
    "def faktoriyel(sayı):\n",
    "    carp=1\n",
    "    if sayı>0:\n",
    "        for i in range(1,sayı+1):\n",
    "            carp*=i\n",
    "        print(carp)\n",
    "    elif sayı==0:\n",
    "        print(\"1\")\n",
    "    else:\n",
    "        print(\"Sayınız 0 dan küçük...\")\n",
    "    "
   ]
  },
  {
   "cell_type": "code",
   "execution_count": 22,
   "id": "c5247e26",
   "metadata": {},
   "outputs": [
    {
     "name": "stdout",
     "output_type": "stream",
     "text": [
      "1\n"
     ]
    }
   ],
   "source": [
    "faktoriyel(1)"
   ]
  },
  {
   "cell_type": "code",
   "execution_count": 27,
   "id": "93ed74d5",
   "metadata": {},
   "outputs": [],
   "source": [
    "def carpma(a,b,c):\n",
    "    carp=a*b*c\n",
    "    print(\"Carpımınız:\",carp)"
   ]
  },
  {
   "cell_type": "code",
   "execution_count": 28,
   "id": "46b6f2e7",
   "metadata": {},
   "outputs": [
    {
     "name": "stdout",
     "output_type": "stream",
     "text": [
      "Bir sayı girin:5\n",
      "Bir sayı girin:3\n",
      "Bir sayı girin:2\n",
      "Carpımınız: 30\n"
     ]
    }
   ],
   "source": [
    "a=int(input(\"Bir sayı girin:\"))\n",
    "b=int(input(\"Bir sayı girin:\"))\n",
    "c=int(input(\"Bir sayı girin:\"))\n",
    "carpma(a,b,c)"
   ]
  },
  {
   "cell_type": "code",
   "execution_count": null,
   "id": "d0b74d41",
   "metadata": {},
   "outputs": [],
   "source": []
  }
 ],
 "metadata": {
  "kernelspec": {
   "display_name": "Python 3 (ipykernel)",
   "language": "python",
   "name": "python3"
  },
  "language_info": {
   "codemirror_mode": {
    "name": "ipython",
    "version": 3
   },
   "file_extension": ".py",
   "mimetype": "text/x-python",
   "name": "python",
   "nbconvert_exporter": "python",
   "pygments_lexer": "ipython3",
   "version": "3.9.12"
  }
 },
 "nbformat": 4,
 "nbformat_minor": 5
}
