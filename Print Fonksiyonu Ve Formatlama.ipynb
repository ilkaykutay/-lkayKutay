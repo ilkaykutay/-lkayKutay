{
 "cells": [
  {
   "cell_type": "markdown",
   "id": "7d5162b6",
   "metadata": {},
   "source": [
    "Print() fonksıyonu: Biz işlemlerimizi dosyalarda yapcagımız ıcın gırcegımız degerlrı yazdırcak bır fonksa ıhtıyacımız var.\n",
    "Bu da print fonksıyonudur."
   ]
  },
  {
   "cell_type": "code",
   "execution_count": 1,
   "id": "49c3685f",
   "metadata": {},
   "outputs": [
    {
     "name": "stdout",
     "output_type": "stream",
     "text": [
      "35\n"
     ]
    }
   ],
   "source": [
    "print(35)"
   ]
  },
  {
   "cell_type": "code",
   "execution_count": 2,
   "id": "ce0048aa",
   "metadata": {},
   "outputs": [
    {
     "name": "stdout",
     "output_type": "stream",
     "text": [
      "25\n"
     ]
    }
   ],
   "source": [
    "a=25\n",
    "print(a)"
   ]
  },
  {
   "cell_type": "code",
   "execution_count": 3,
   "id": "2b300530",
   "metadata": {},
   "outputs": [
    {
     "name": "stdout",
     "output_type": "stream",
     "text": [
      "Murat\n"
     ]
    }
   ],
   "source": [
    "print(\"Murat\")"
   ]
  },
  {
   "cell_type": "code",
   "execution_count": 4,
   "id": "c66e33ce",
   "metadata": {},
   "outputs": [
    {
     "name": "stdout",
     "output_type": "stream",
     "text": [
      "19\n"
     ]
    }
   ],
   "source": [
    "a=15\n",
    "b=4\n",
    "print(a+b)"
   ]
  },
  {
   "cell_type": "code",
   "execution_count": 5,
   "id": "687e5ed0",
   "metadata": {},
   "outputs": [
    {
     "name": "stdout",
     "output_type": "stream",
     "text": [
      "35 4.3 ilkay kutay\n"
     ]
    }
   ],
   "source": [
    "print(35,4.3,\"ilkay\",\"kutay\")#virgül ile ayırdıgımızda sıra sıra yazdırabılırız."
   ]
  },
  {
   "cell_type": "markdown",
   "id": "ce769412",
   "metadata": {},
   "source": [
    "Stringlerde özel karakterler mevucttur.En cok kullanılanlar \\n ve \\t dir."
   ]
  },
  {
   "cell_type": "code",
   "execution_count": 6,
   "id": "e65a332e",
   "metadata": {},
   "outputs": [
    {
     "name": "stdout",
     "output_type": "stream",
     "text": [
      "ilkay\n",
      "Kutay\n",
      "391005\n"
     ]
    }
   ],
   "source": [
    "print(\"ilkay\\nKutay\\n391005\")#\\n asagı gec durumunu uygular."
   ]
  },
  {
   "cell_type": "code",
   "execution_count": 7,
   "id": "c5b11eea",
   "metadata": {},
   "outputs": [
    {
     "name": "stdout",
     "output_type": "stream",
     "text": [
      "ilkay\tkutay\n"
     ]
    }
   ],
   "source": [
    "print(\"ilkay\\tkutay\")#\\t yi gordugu zaman bir tablık bosluk bırakır."
   ]
  },
  {
   "cell_type": "code",
   "execution_count": 8,
   "id": "92bdcca6",
   "metadata": {},
   "outputs": [
    {
     "name": "stdout",
     "output_type": "stream",
     "text": [
      "Ocak\tŞubat\tmart\n"
     ]
    }
   ],
   "source": [
    "print(\"Ocak\\tŞubat\\tmart\")"
   ]
  },
  {
   "cell_type": "markdown",
   "id": "a93d961b",
   "metadata": {},
   "source": [
    "type fonksıyonu ıcınde yazdıgımız degıskenın hangı turde oldugunu soyler."
   ]
  },
  {
   "cell_type": "code",
   "execution_count": 10,
   "id": "0d1efb76",
   "metadata": {},
   "outputs": [
    {
     "data": {
      "text/plain": [
       "int"
      ]
     },
     "execution_count": 10,
     "metadata": {},
     "output_type": "execute_result"
    }
   ],
   "source": [
    "type(32)"
   ]
  },
  {
   "cell_type": "code",
   "execution_count": 11,
   "id": "099caaed",
   "metadata": {},
   "outputs": [
    {
     "data": {
      "text/plain": [
       "float"
      ]
     },
     "execution_count": 11,
     "metadata": {},
     "output_type": "execute_result"
    }
   ],
   "source": [
    "type(3.1)"
   ]
  },
  {
   "cell_type": "code",
   "execution_count": 12,
   "id": "f555b201",
   "metadata": {},
   "outputs": [
    {
     "data": {
      "text/plain": [
       "str"
      ]
     },
     "execution_count": 12,
     "metadata": {},
     "output_type": "execute_result"
    }
   ],
   "source": [
    "type(\"İlkay\")"
   ]
  },
  {
   "cell_type": "code",
   "execution_count": 13,
   "id": "f7a7b86a",
   "metadata": {},
   "outputs": [
    {
     "name": "stdout",
     "output_type": "stream",
     "text": [
      "<class 'int'>\n"
     ]
    }
   ],
   "source": [
    "print(type(2))"
   ]
  },
  {
   "cell_type": "markdown",
   "id": "fddb35fb",
   "metadata": {},
   "source": [
    "Sep parametresi:print fonksıyonunda kullanılabılen sep parametresı yazdırdıgımız degerler arasında hangı karakterın olucagını soyler."
   ]
  },
  {
   "cell_type": "code",
   "execution_count": 14,
   "id": "f3d6afb4",
   "metadata": {},
   "outputs": [
    {
     "name": "stdout",
     "output_type": "stream",
     "text": [
      "35 433 56 56\n"
     ]
    }
   ],
   "source": [
    "print(35,433,56,56)# sep kullanmadıgımızda dırekt bosluk ekledı."
   ]
  },
  {
   "cell_type": "code",
   "execution_count": 15,
   "id": "440d3d8a",
   "metadata": {},
   "outputs": [
    {
     "name": "stdout",
     "output_type": "stream",
     "text": [
      "35.34.623.74\n"
     ]
    }
   ],
   "source": [
    "print(35,34,623,74,sep=\".\")"
   ]
  },
  {
   "cell_type": "code",
   "execution_count": 19,
   "id": "09b22955",
   "metadata": {},
   "outputs": [
    {
     "name": "stdout",
     "output_type": "stream",
     "text": [
      "35\t34\t623\t74\n"
     ]
    }
   ],
   "source": [
    "print(35,34,623,74,sep=\"\\t\")"
   ]
  },
  {
   "cell_type": "code",
   "execution_count": 20,
   "id": "23465bf8",
   "metadata": {},
   "outputs": [
    {
     "name": "stdout",
     "output_type": "stream",
     "text": [
      "İlkay\n",
      "Kutay\n",
      "391005\n"
     ]
    }
   ],
   "source": [
    "print(\"İlkay\",\"Kutay\",\"391005\",sep=\"\\n\")"
   ]
  },
  {
   "cell_type": "markdown",
   "id": "83b9345a",
   "metadata": {},
   "source": [
    "* parametresi de stringın ıcındekı herbır elemanı ayırıp yazdırır.\n"
   ]
  },
  {
   "cell_type": "code",
   "execution_count": 21,
   "id": "c84f708a",
   "metadata": {},
   "outputs": [
    {
     "name": "stdout",
     "output_type": "stream",
     "text": [
      "i l k a y\n"
     ]
    }
   ],
   "source": [
    "print(*\"ilkay\")"
   ]
  },
  {
   "cell_type": "code",
   "execution_count": 22,
   "id": "8464c5c0",
   "metadata": {},
   "outputs": [
    {
     "name": "stdout",
     "output_type": "stream",
     "text": [
      "i/l/k/a/y\n"
     ]
    }
   ],
   "source": [
    "print(*\"ilkay\",sep=\"/\")"
   ]
  },
  {
   "cell_type": "code",
   "execution_count": 23,
   "id": "a2b46ed1",
   "metadata": {},
   "outputs": [
    {
     "name": "stdout",
     "output_type": "stream",
     "text": [
      "T.B.M.M\n"
     ]
    }
   ],
   "source": [
    "print(*\"TBMM\",sep=\".\")"
   ]
  },
  {
   "cell_type": "markdown",
   "id": "9c107361",
   "metadata": {},
   "source": [
    "Formatlama:programlama yaparken bazı yerlerde bir stringin icinde daha onceden tanımlı degıskenlerı yerlestırmek ısteyebılırız.Pythonda format() fonksıyonu bulunmaktadır."
   ]
  },
  {
   "cell_type": "code",
   "execution_count": 26,
   "id": "263634d1",
   "metadata": {},
   "outputs": [
    {
     "data": {
      "text/plain": [
       "'3 4.5 6'"
      ]
     },
     "execution_count": 26,
     "metadata": {},
     "output_type": "execute_result"
    }
   ],
   "source": [
    "\"{} {} {}\".format(3,4.5,6)"
   ]
  },
  {
   "cell_type": "code",
   "execution_count": 27,
   "id": "474409d9",
   "metadata": {},
   "outputs": [
    {
     "data": {
      "text/plain": [
       "'3 ve 4 nin toplamı 7 '"
      ]
     },
     "execution_count": 27,
     "metadata": {},
     "output_type": "execute_result"
    }
   ],
   "source": [
    "a=3\n",
    "b=4\n",
    "\"{} ve {} nin toplamı {} \".format(a,b,a+b)"
   ]
  },
  {
   "cell_type": "code",
   "execution_count": 28,
   "id": "fa18aa95",
   "metadata": {},
   "outputs": [
    {
     "data": {
      "text/plain": [
       "'4 3 7 '"
      ]
     },
     "execution_count": 28,
     "metadata": {},
     "output_type": "execute_result"
    }
   ],
   "source": [
    "#süslü parantezin içindeki sayılar format fonksıyonunun icinden hangı sıradakı degerın gelecegını soyler.\n",
    "\"{1} {0} {2} \".format(a,b,a+b)"
   ]
  },
  {
   "cell_type": "code",
   "execution_count": 29,
   "id": "ce4722d4",
   "metadata": {},
   "outputs": [
    {
     "data": {
      "text/plain": [
       "'3.12 4.455 234.5466'"
      ]
     },
     "execution_count": 29,
     "metadata": {},
     "output_type": "execute_result"
    }
   ],
   "source": [
    "#süslü parantezlerimizin içindeki kullanım ondalıklı kısmın sadece 2 basamagına kadar almak ıstedıgımız soyluyor.\n",
    "\"{:.2f} {:.3f} {:.4f}\".format(3.1234,4.455467,234.546567)"
   ]
  },
  {
   "cell_type": "code",
   "execution_count": null,
   "id": "b81fb35b",
   "metadata": {},
   "outputs": [],
   "source": []
  }
 ],
 "metadata": {
  "kernelspec": {
   "display_name": "Python 3 (ipykernel)",
   "language": "python",
   "name": "python3"
  },
  "language_info": {
   "codemirror_mode": {
    "name": "ipython",
    "version": 3
   },
   "file_extension": ".py",
   "mimetype": "text/x-python",
   "name": "python",
   "nbconvert_exporter": "python",
   "pygments_lexer": "ipython3",
   "version": "3.9.12"
  }
 },
 "nbformat": 4,
 "nbformat_minor": 5
}
