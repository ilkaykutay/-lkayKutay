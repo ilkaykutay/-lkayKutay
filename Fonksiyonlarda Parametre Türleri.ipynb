{
 "cells": [
  {
   "cell_type": "code",
   "execution_count": 1,
   "id": "2730a1fd",
   "metadata": {},
   "outputs": [],
   "source": [
    "def selamla(isim):\n",
    "    print(\"İsminiz\",isim)"
   ]
  },
  {
   "cell_type": "code",
   "execution_count": 2,
   "id": "d3782035",
   "metadata": {},
   "outputs": [
    {
     "name": "stdout",
     "output_type": "stream",
     "text": [
      "İsminiz ilkay\n"
     ]
    }
   ],
   "source": [
    "selamla(\"ilkay\")"
   ]
  },
  {
   "cell_type": "code",
   "execution_count": 3,
   "id": "d9fc6b99",
   "metadata": {},
   "outputs": [
    {
     "ename": "TypeError",
     "evalue": "selamla() missing 1 required positional argument: 'isim'",
     "output_type": "error",
     "traceback": [
      "\u001b[1;31m---------------------------------------------------------------------------\u001b[0m",
      "\u001b[1;31mTypeError\u001b[0m                                 Traceback (most recent call last)",
      "Input \u001b[1;32mIn [3]\u001b[0m, in \u001b[0;36m<cell line: 1>\u001b[1;34m()\u001b[0m\n\u001b[1;32m----> 1\u001b[0m \u001b[43mselamla\u001b[49m\u001b[43m(\u001b[49m\u001b[43m)\u001b[49m\n",
      "\u001b[1;31mTypeError\u001b[0m: selamla() missing 1 required positional argument: 'isim'"
     ]
    }
   ],
   "source": [
    "selamla()"
   ]
  },
  {
   "cell_type": "code",
   "execution_count": 5,
   "id": "54bb5781",
   "metadata": {},
   "outputs": [],
   "source": [
    "def selamla(isim=\"İsimsiz\"):\n",
    "    print(\"İsminiz:\",isim)"
   ]
  },
  {
   "cell_type": "code",
   "execution_count": 8,
   "id": "bbe9235d",
   "metadata": {},
   "outputs": [
    {
     "name": "stdout",
     "output_type": "stream",
     "text": [
      "İsminiz: İsimsiz\n"
     ]
    }
   ],
   "source": [
    "selamla()#Normalde parantez ıcını bos bıraktıgımızda hata verır ancak bız fonkda deger gırdıgımız ıcın o degerı vericek.\n",
    "#Bu degerlere de varsayılan degerler denır."
   ]
  },
  {
   "cell_type": "code",
   "execution_count": 9,
   "id": "1bbd291a",
   "metadata": {},
   "outputs": [
    {
     "name": "stdout",
     "output_type": "stream",
     "text": [
      "İsminiz: ilkay\n"
     ]
    }
   ],
   "source": [
    "selamla(\"ilkay\")# ancak ıcıne deger gırdıgımızde bu degerı verıcek."
   ]
  },
  {
   "cell_type": "code",
   "execution_count": 10,
   "id": "05b32a27",
   "metadata": {},
   "outputs": [],
   "source": [
    "def bilgilerigöster(ad,soyad,numara):\n",
    "    print(\"Ad:\",ad,\"Soyad:\",soyad,\"Numara:\",numara)"
   ]
  },
  {
   "cell_type": "code",
   "execution_count": 11,
   "id": "382b3e12",
   "metadata": {},
   "outputs": [
    {
     "name": "stdout",
     "output_type": "stream",
     "text": [
      "Ad: ilkay Soyad: kutay Numara: 12345\n"
     ]
    }
   ],
   "source": [
    "bilgilerigöster(\"ilkay\",\"kutay\",\"12345\")"
   ]
  },
  {
   "cell_type": "code",
   "execution_count": 12,
   "id": "736d2f54",
   "metadata": {},
   "outputs": [],
   "source": [
    "def bilgilerigöster(ad=\"Bilgi yok\",soyad=\"Bilgi yok\",numara=\"Bilgi yok\"):\n",
    "    print(\"Ad:\",ad,\"Soyad:\",soyad,\"Numara:\",numara)"
   ]
  },
  {
   "cell_type": "code",
   "execution_count": 16,
   "id": "34067b77",
   "metadata": {},
   "outputs": [
    {
     "name": "stdout",
     "output_type": "stream",
     "text": [
      "Ad: ilkay Soyad: Bilgi yok Numara: Bilgi yok\n"
     ]
    }
   ],
   "source": [
    "bilgilerigöster(\"ilkay\")"
   ]
  },
  {
   "cell_type": "code",
   "execution_count": 17,
   "id": "35f48a41",
   "metadata": {},
   "outputs": [
    {
     "name": "stdout",
     "output_type": "stream",
     "text": [
      "Ad: Bilgi yok Soyad: Bilgi yok Numara: 12345\n"
     ]
    }
   ],
   "source": [
    "bilgilerigöster(numara=\"12345\")#Bu kullanımda sırayla yazılması lazım oldugu ıcın numarayı ozel olarak belırttık."
   ]
  },
  {
   "cell_type": "code",
   "execution_count": 18,
   "id": "2f51b2f3",
   "metadata": {},
   "outputs": [
    {
     "name": "stdout",
     "output_type": "stream",
     "text": [
      "ilkay kutay\n"
     ]
    }
   ],
   "source": [
    "print(\"ilkay\",\"kutay\")"
   ]
  },
  {
   "cell_type": "code",
   "execution_count": 25,
   "id": "d878b78a",
   "metadata": {},
   "outputs": [
    {
     "name": "stdout",
     "output_type": "stream",
     "text": [
      "ilkay/kutay\n"
     ]
    }
   ],
   "source": [
    "print(\"ilkay\",\"kutay\",sep=\"/\")"
   ]
  },
  {
   "cell_type": "code",
   "execution_count": 26,
   "id": "b18fb86a",
   "metadata": {},
   "outputs": [],
   "source": [
    "def toplama(a,b,c):\n",
    "    print(a+b+c)"
   ]
  },
  {
   "cell_type": "code",
   "execution_count": 27,
   "id": "0648128c",
   "metadata": {},
   "outputs": [
    {
     "name": "stdout",
     "output_type": "stream",
     "text": [
      "12\n"
     ]
    }
   ],
   "source": [
    "toplama(3,4,5) # 3 tane argüman var daha fazlasını veya eksıgını kabul etmez."
   ]
  },
  {
   "cell_type": "code",
   "execution_count": 28,
   "id": "1d4373c1",
   "metadata": {},
   "outputs": [],
   "source": [
    "def toplama(*a): # yıldız kullanıldıgında gırılen degerle bır tuple halıdne tutulur.\n",
    "    print(a)"
   ]
  },
  {
   "cell_type": "code",
   "execution_count": 29,
   "id": "39e41ec5",
   "metadata": {},
   "outputs": [
    {
     "name": "stdout",
     "output_type": "stream",
     "text": [
      "(1, 2, 3)\n"
     ]
    }
   ],
   "source": [
    "toplama(1,2,3)"
   ]
  },
  {
   "cell_type": "code",
   "execution_count": 33,
   "id": "c9c3c6f9",
   "metadata": {},
   "outputs": [],
   "source": [
    "def toplama(*a):\n",
    "    toplam=0\n",
    "    for i in a:\n",
    "        toplam+=i\n",
    "    print(toplam)"
   ]
  },
  {
   "cell_type": "code",
   "execution_count": 34,
   "id": "b138b30b",
   "metadata": {},
   "outputs": [
    {
     "name": "stdout",
     "output_type": "stream",
     "text": [
      "6\n"
     ]
    }
   ],
   "source": [
    "toplama(1,2,3)"
   ]
  },
  {
   "cell_type": "code",
   "execution_count": null,
   "id": "e67ef70c",
   "metadata": {},
   "outputs": [],
   "source": []
  }
 ],
 "metadata": {
  "kernelspec": {
   "display_name": "Python 3 (ipykernel)",
   "language": "python",
   "name": "python3"
  },
  "language_info": {
   "codemirror_mode": {
    "name": "ipython",
    "version": 3
   },
   "file_extension": ".py",
   "mimetype": "text/x-python",
   "name": "python",
   "nbconvert_exporter": "python",
   "pygments_lexer": "ipython3",
   "version": "3.9.12"
  }
 },
 "nbformat": 4,
 "nbformat_minor": 5
}
