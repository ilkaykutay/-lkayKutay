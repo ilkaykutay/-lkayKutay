{
 "cells": [
  {
   "cell_type": "code",
   "execution_count": 1,
   "id": "324df9bb",
   "metadata": {},
   "outputs": [],
   "source": [
    "class Hayvan():\n",
    "    def __init__(self,burun,ağız,göz,kulak,ayak):\n",
    "        self.burun=burun\n",
    "        self.ağız=ağız\n",
    "        self.göz=göz\n",
    "        self.kulak=kulak\n",
    "        self.ayak=ayak\n",
    "    def bilgilerigöster(self):\n",
    "        print(\"Burun miktarı:{}\\nAğız miktarı:{}\\nGöz miktarı:{}\\nKulak miktarı:{}\\nAyak miktarı:{}\".format(self.burun,self.ağız,self.göz,self.kulak,self.ayak))\n",
    "class Köpek(Hayvan):\n",
    "    def __init__(self,kıl,uzunluk,duyum,burun,ağız,göz,kulak,ayak,tür):\n",
    "        super().__init__(burun,ağız,göz,kulak,ayak)\n",
    "        self.kıl=kıl\n",
    "        self.uzunluk=uzunluk\n",
    "        self.duyum=duyum\n",
    "        self.tür=tür\n",
    "    def __len__(self):\n",
    "        return self.uzunluk\n",
    "    def tür_bulma(self):\n",
    "        if self.kıl==\"beyaz\" and 100<self.uzunluk<150:\n",
    "            self.tür=\"Sivas Kangalı\"\n",
    "        elif self.kıl==\"siyah\" and 150<self.uzunluk<200:\n",
    "            self.tür=\"Alman çoban köpeği\"\n",
    "    def Polis_köpeği(self):\n",
    "        if self.ayak==\"4\" and 100<=self.duyum<=400:\n",
    "            print(\"Polis Köpeği olabilir.\")\n",
    "        else:\n",
    "            print(\"Polis köpeği olamaz.\")\n",
    "    def __str__(self):\n",
    "        return \"Burun miktarı:{}\\nAğız miktarı:{}\\nGöz miktarı:{}\\nKulak miktarı:{}\\nAyak miktarı:{}\\nKıl:{}\\nBoyu:\\nTürü:\\n\".format(self.burun,self.ağız,self.göz,self.kulak,self.ayak,self.kıl,self.uzunluk,self.tür)\n",
    "köpek=Köpek(\"beyaz\",101,50,\"1\",\"1\",\"2\",\"2\",\"4\",\"Sivas Kangalı\")\n"
   ]
  },
  {
   "cell_type": "code",
   "execution_count": 3,
   "id": "41ced9bf",
   "metadata": {},
   "outputs": [
    {
     "name": "stdout",
     "output_type": "stream",
     "text": [
      "Polis köpeği olamaz.\n"
     ]
    }
   ],
   "source": [
    "köpek.Polis_köpeği()"
   ]
  },
  {
   "cell_type": "code",
   "execution_count": 4,
   "id": "85e43544",
   "metadata": {},
   "outputs": [
    {
     "data": {
      "text/plain": [
       "101"
      ]
     },
     "execution_count": 4,
     "metadata": {},
     "output_type": "execute_result"
    }
   ],
   "source": [
    "len(köpek)"
   ]
  },
  {
   "cell_type": "code",
   "execution_count": 5,
   "id": "7185452f",
   "metadata": {},
   "outputs": [
    {
     "name": "stdout",
     "output_type": "stream",
     "text": [
      "Burun miktarı:1\n",
      "Ağız miktarı:1\n",
      "Göz miktarı:2\n",
      "Kulak miktarı:2\n",
      "Ayak miktarı:4\n",
      "Kıl:beyaz\n",
      "Boyu:\n",
      "Türü:\n",
      "\n"
     ]
    }
   ],
   "source": [
    "print(köpek)"
   ]
  },
  {
   "cell_type": "code",
   "execution_count": null,
   "id": "5abbd7ac",
   "metadata": {},
   "outputs": [],
   "source": []
  }
 ],
 "metadata": {
  "kernelspec": {
   "display_name": "Python 3 (ipykernel)",
   "language": "python",
   "name": "python3"
  },
  "language_info": {
   "codemirror_mode": {
    "name": "ipython",
    "version": 3
   },
   "file_extension": ".py",
   "mimetype": "text/x-python",
   "name": "python",
   "nbconvert_exporter": "python",
   "pygments_lexer": "ipython3",
   "version": "3.9.12"
  }
 },
 "nbformat": 4,
 "nbformat_minor": 5
}
