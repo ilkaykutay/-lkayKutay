{
 "cells": [
  {
   "cell_type": "markdown",
   "id": "681baa5e",
   "metadata": {},
   "source": [
    "Dosyaları okumak ve verileri almak için \"r\" kipiyle acmamız gerekıyor."
   ]
  },
  {
   "cell_type": "code",
   "execution_count": 3,
   "id": "9603a79d",
   "metadata": {},
   "outputs": [],
   "source": [
    "file=open(\"bilgiler.txt\",\"r\",encoding=\"utf-8\")"
   ]
  },
  {
   "cell_type": "code",
   "execution_count": 4,
   "id": "6a86bac9",
   "metadata": {},
   "outputs": [],
   "source": [
    "file.close()"
   ]
  },
  {
   "cell_type": "code",
   "execution_count": 8,
   "id": "44782598",
   "metadata": {},
   "outputs": [
    {
     "ename": "FileNotFoundError",
     "evalue": "[Errno 2] No such file or directory: 'bilgiler2.txt'",
     "output_type": "error",
     "traceback": [
      "\u001b[1;31m---------------------------------------------------------------------------\u001b[0m",
      "\u001b[1;31mFileNotFoundError\u001b[0m                         Traceback (most recent call last)",
      "\u001b[1;32m~\\AppData\\Local\\Temp\\ipykernel_1576\\1711982390.py\u001b[0m in \u001b[0;36m<module>\u001b[1;34m\u001b[0m\n\u001b[1;32m----> 1\u001b[1;33m \u001b[0mfile\u001b[0m\u001b[1;33m=\u001b[0m\u001b[0mopen\u001b[0m\u001b[1;33m(\u001b[0m\u001b[1;34m\"bilgiler2.txt\"\u001b[0m\u001b[1;33m,\u001b[0m\u001b[1;34m\"r\"\u001b[0m\u001b[1;33m,\u001b[0m\u001b[0mencoding\u001b[0m\u001b[1;33m=\u001b[0m\u001b[1;34m\"utf-8\"\u001b[0m\u001b[1;33m)\u001b[0m\u001b[1;33m\u001b[0m\u001b[1;33m\u001b[0m\u001b[0m\n\u001b[0m",
      "\u001b[1;31mFileNotFoundError\u001b[0m: [Errno 2] No such file or directory: 'bilgiler2.txt'"
     ]
    }
   ],
   "source": [
    "file=open(\"bilgiler2.txt\",\"r\",encoding=\"utf-8\")#Dosya olmadıgı ıcın okuyamadı ve hata dondu."
   ]
  },
  {
   "cell_type": "code",
   "execution_count": 9,
   "id": "4d73895e",
   "metadata": {},
   "outputs": [
    {
     "name": "stdout",
     "output_type": "stream",
     "text": [
      "Dosya Bulunamadı....\n"
     ]
    }
   ],
   "source": [
    "try:\n",
    "    file=open(\"bilgiler2.txt\",\"r\",encoding=\"utf-8\")\n",
    "except FileNotFoundError:\n",
    "    print(\"Dosya Bulunamadı....\")\n",
    "    "
   ]
  },
  {
   "cell_type": "code",
   "execution_count": 13,
   "id": "27a9707b",
   "metadata": {},
   "outputs": [
    {
     "name": "stdout",
     "output_type": "stream",
     "text": [
      "İlkay Kutay\n",
      "\n",
      "MEHMET\n"
     ]
    },
    {
     "data": {
      "text/plain": [
       "<function TextIOWrapper.close()>"
      ]
     },
     "execution_count": 13,
     "metadata": {},
     "output_type": "execute_result"
    }
   ],
   "source": [
    "file=open(\"bilgiler.txt\",\"r\",encoding=\"utf-8\")\n",
    "for i in file:#Aynı lıstelerdekı gıbı her bır satırda gezınıyoruz.\n",
    "    print(i)#Her bir satırı ekrana bastırıyoruz.\n",
    "file.close"
   ]
  },
  {
   "cell_type": "code",
   "execution_count": 14,
   "id": "c793c576",
   "metadata": {},
   "outputs": [
    {
     "name": "stdout",
     "output_type": "stream",
     "text": [
      "İlkay Kutay\n",
      "MEHMET"
     ]
    }
   ],
   "source": [
    "file=open(\"bilgiler.txt\",\"r\",encoding=\"utf-8\")\n",
    "for i in file:#Aynı lıstelerdekı gıbı her bır satırda gezınıyoruz.\n",
    "    print(i,end=\"\")#Her bir satırı ekrana bastırıyoruz.\n",
    "file.close()#dosyamızda biz bilgileri bosluk bırakarak yazdırdık.Ayrıca python kendı ıcınde de bosluk bırakıyor.O yuzden\n",
    "#İki satırlık bosluklar olusuyor bunu engellemek için end parametresini kullandık."
   ]
  },
  {
   "cell_type": "markdown",
   "id": "627d7258",
   "metadata": {},
   "source": [
    "Read fonksiyonu eger icine bır deger verılmezse bütün dosyamızı okuyacaktır."
   ]
  },
  {
   "cell_type": "code",
   "execution_count": 17,
   "id": "5367cd2b",
   "metadata": {},
   "outputs": [
    {
     "name": "stdout",
     "output_type": "stream",
     "text": [
      "Dosyanın içeriği:\n",
      "İlkay Kutay\n",
      "MEHMET\n"
     ]
    }
   ],
   "source": [
    "file=open(\"bilgiler.txt\",\"r\",encoding=\"utf-8\")\n",
    "icerik=file.read()\n",
    "print(\"Dosyanın içeriği:\")\n",
    "print(icerik)"
   ]
  },
  {
   "cell_type": "code",
   "execution_count": 19,
   "id": "9309df97",
   "metadata": {},
   "outputs": [
    {
     "name": "stdout",
     "output_type": "stream",
     "text": [
      "Dosyanın içeriği:\n",
      "İlkay Kutay\n",
      "MEHMET\n",
      "Dosyanın içeriği:\n",
      "\n"
     ]
    }
   ],
   "source": [
    "file=open(\"bilgiler.txt\",\"r\",encoding=\"utf-8\")\n",
    "icerik=file.read()\n",
    "print(\"Dosyanın içeriği:\")\n",
    "print(icerik)\n",
    "icerik2=file.read()\n",
    "print(\"Dosyanın içeriği:\")\n",
    "print(icerik2)\n",
    "#icerik2 olmamasının nedenı ılk basta dosyamız okunup ıcerık seklınde yazılınca dosyamız ımlec gorevı gormeye basladı.\n",
    "#O yuzden icerik2 yazdırılmadı."
   ]
  },
  {
   "cell_type": "markdown",
   "id": "43592833",
   "metadata": {},
   "source": [
    "readline fonksiyonu her cargrıldıgında tek bır satırı okur."
   ]
  },
  {
   "cell_type": "code",
   "execution_count": 25,
   "id": "07a3110d",
   "metadata": {},
   "outputs": [
    {
     "name": "stdout",
     "output_type": "stream",
     "text": [
      "İlkay Kutay\n",
      "MEHMET\n"
     ]
    }
   ],
   "source": [
    "file=open(\"bilgiler.txt\",\"r\",encoding=\"utf-8\")\n",
    "print(file.readline(),end=\"\")\n",
    "print(file.readline())\n",
    "file.close()"
   ]
  },
  {
   "cell_type": "markdown",
   "id": "29693c19",
   "metadata": {},
   "source": [
    "readlines fonksiyonu dosyanın butun satırları bir liste şeklinde döner."
   ]
  },
  {
   "cell_type": "code",
   "execution_count": 28,
   "id": "8abb2305",
   "metadata": {},
   "outputs": [
    {
     "name": "stdout",
     "output_type": "stream",
     "text": [
      "['İlkay Kutay\\n', 'MEHMET']\n"
     ]
    }
   ],
   "source": [
    "file=open(\"bilgiler.txt\",\"r\",encoding=\"utf-8\")\n",
    "liste=file.readlines()\n",
    "print(liste)\n",
    "file.close()"
   ]
  },
  {
   "cell_type": "code",
   "execution_count": null,
   "id": "f176486b",
   "metadata": {},
   "outputs": [],
   "source": []
  }
 ],
 "metadata": {
  "kernelspec": {
   "display_name": "Python 3 (ipykernel)",
   "language": "python",
   "name": "python3"
  },
  "language_info": {
   "codemirror_mode": {
    "name": "ipython",
    "version": 3
   },
   "file_extension": ".py",
   "mimetype": "text/x-python",
   "name": "python",
   "nbconvert_exporter": "python",
   "pygments_lexer": "ipython3",
   "version": "3.9.13"
  }
 },
 "nbformat": 4,
 "nbformat_minor": 5
}
