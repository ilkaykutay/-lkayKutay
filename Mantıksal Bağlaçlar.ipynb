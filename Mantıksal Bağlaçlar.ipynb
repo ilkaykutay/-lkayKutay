{
 "cells": [
  {
   "cell_type": "markdown",
   "id": "8129827a",
   "metadata": {},
   "source": [
    "And operatörü:Her iki onermede dogru olmalı.\n"
   ]
  },
  {
   "cell_type": "code",
   "execution_count": 1,
   "id": "d337dfea",
   "metadata": {},
   "outputs": [
    {
     "data": {
      "text/plain": [
       "True"
      ]
     },
     "execution_count": 1,
     "metadata": {},
     "output_type": "execute_result"
    }
   ],
   "source": [
    "1<2 and \"Murat\"==\"Murat\""
   ]
  },
  {
   "cell_type": "code",
   "execution_count": 2,
   "id": "bbb32f19",
   "metadata": {},
   "outputs": [
    {
     "data": {
      "text/plain": [
       "False"
      ]
     },
     "execution_count": 2,
     "metadata": {},
     "output_type": "execute_result"
    }
   ],
   "source": [
    "1>2 and \"Murat\"==\"Murat\""
   ]
  },
  {
   "cell_type": "code",
   "execution_count": 3,
   "id": "f65a9635",
   "metadata": {},
   "outputs": [
    {
     "data": {
      "text/plain": [
       "True"
      ]
     },
     "execution_count": 3,
     "metadata": {},
     "output_type": "execute_result"
    }
   ],
   "source": [
    "1<2 or \"Murat\"==\"Murat\""
   ]
  },
  {
   "cell_type": "code",
   "execution_count": 5,
   "id": "0f348b5f",
   "metadata": {},
   "outputs": [
    {
     "data": {
      "text/plain": [
       "True"
      ]
     },
     "execution_count": 5,
     "metadata": {},
     "output_type": "execute_result"
    }
   ],
   "source": [
    "1>2 or \"Murat\"==\"Murat\""
   ]
  },
  {
   "cell_type": "code",
   "execution_count": 6,
   "id": "575bf5b3",
   "metadata": {},
   "outputs": [
    {
     "data": {
      "text/plain": [
       "False"
      ]
     },
     "execution_count": 6,
     "metadata": {},
     "output_type": "execute_result"
    }
   ],
   "source": [
    "1>2 and \"Murat\"==\"Mura\""
   ]
  },
  {
   "cell_type": "code",
   "execution_count": 7,
   "id": "9a4ccfe0",
   "metadata": {},
   "outputs": [
    {
     "data": {
      "text/plain": [
       "True"
      ]
     },
     "execution_count": 7,
     "metadata": {},
     "output_type": "execute_result"
    }
   ],
   "source": [
    "1<2 and \"Murat\"==\"Murat\" and 4.2<5.1"
   ]
  },
  {
   "cell_type": "code",
   "execution_count": 8,
   "id": "0506a628",
   "metadata": {},
   "outputs": [
    {
     "data": {
      "text/plain": [
       "False"
      ]
     },
     "execution_count": 8,
     "metadata": {},
     "output_type": "execute_result"
    }
   ],
   "source": [
    "not 2==2 # True ise false, false ise true oluyor."
   ]
  },
  {
   "cell_type": "code",
   "execution_count": 9,
   "id": "3c3bc58d",
   "metadata": {},
   "outputs": [
    {
     "data": {
      "text/plain": [
       "True"
      ]
     },
     "execution_count": 9,
     "metadata": {},
     "output_type": "execute_result"
    }
   ],
   "source": [
    "not 3==2"
   ]
  },
  {
   "cell_type": "code",
   "execution_count": 10,
   "id": "af2b6b14",
   "metadata": {},
   "outputs": [
    {
     "data": {
      "text/plain": [
       "False"
      ]
     },
     "execution_count": 10,
     "metadata": {},
     "output_type": "execute_result"
    }
   ],
   "source": [
    "not(2.14<3.2 and (2!=3 or 3==4 ))"
   ]
  },
  {
   "cell_type": "code",
   "execution_count": null,
   "id": "70a6d65b",
   "metadata": {},
   "outputs": [],
   "source": []
  }
 ],
 "metadata": {
  "kernelspec": {
   "display_name": "Python 3 (ipykernel)",
   "language": "python",
   "name": "python3"
  },
  "language_info": {
   "codemirror_mode": {
    "name": "ipython",
    "version": 3
   },
   "file_extension": ".py",
   "mimetype": "text/x-python",
   "name": "python",
   "nbconvert_exporter": "python",
   "pygments_lexer": "ipython3",
   "version": "3.9.12"
  }
 },
 "nbformat": 4,
 "nbformat_minor": 5
}
