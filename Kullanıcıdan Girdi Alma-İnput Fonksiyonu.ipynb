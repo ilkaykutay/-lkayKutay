{
 "cells": [
  {
   "cell_type": "markdown",
   "id": "666c2f82",
   "metadata": {},
   "source": [
    "Programlama da kullanıcıdan girdi almak onemlıdır.Bu yüzden input fonksıyonu vardır.\n"
   ]
  },
  {
   "cell_type": "code",
   "execution_count": 1,
   "id": "2ae0afbc",
   "metadata": {},
   "outputs": [
    {
     "name": "stdout",
     "output_type": "stream",
     "text": [
      "5\n"
     ]
    },
    {
     "data": {
      "text/plain": [
       "'5'"
      ]
     },
     "execution_count": 1,
     "metadata": {},
     "output_type": "execute_result"
    }
   ],
   "source": [
    "input()#Bizden bir girdi bekler."
   ]
  },
  {
   "cell_type": "code",
   "execution_count": 2,
   "id": "59e9034f",
   "metadata": {},
   "outputs": [
    {
     "name": "stdout",
     "output_type": "stream",
     "text": [
      "Bir sayı girin:5\n"
     ]
    },
    {
     "data": {
      "text/plain": [
       "'5'"
      ]
     },
     "execution_count": 2,
     "metadata": {},
     "output_type": "execute_result"
    }
   ],
   "source": [
    "input(\"Bir sayı girin:\")"
   ]
  },
  {
   "cell_type": "code",
   "execution_count": 3,
   "id": "68d430ba",
   "metadata": {},
   "outputs": [
    {
     "name": "stdout",
     "output_type": "stream",
     "text": [
      "Bir sayı girin:25\n",
      "Kullanıcının girdiği değer: 25\n"
     ]
    }
   ],
   "source": [
    "a=input(\"Bir sayı girin:\")\n",
    "print(\"Kullanıcının girdiği değer:\",a)"
   ]
  },
  {
   "cell_type": "code",
   "execution_count": 4,
   "id": "02681545",
   "metadata": {},
   "outputs": [
    {
     "name": "stdout",
     "output_type": "stream",
     "text": [
      "Bir sayı girin:25\n",
      "Kullanıcının girdiği değer:25\n"
     ]
    }
   ],
   "source": [
    "a=input(\"Bir sayı girin:\")\n",
    "print(\"Kullanıcının girdiği değer:{}\".format(a))"
   ]
  },
  {
   "cell_type": "code",
   "execution_count": 5,
   "id": "c1472983",
   "metadata": {},
   "outputs": [
    {
     "name": "stdout",
     "output_type": "stream",
     "text": [
      "Lütfen Bir sayı giriniz:5\n",
      "<class 'str'>\n"
     ]
    }
   ],
   "source": [
    "b=input(\"Lütfen Bir sayı giriniz:\")#input fonksıyonu degıskenı dırekt strıng olarak kabul edeer.Bu yüzden veri tipini değiştirmeliyiz.\n",
    "print(type(b))"
   ]
  },
  {
   "cell_type": "code",
   "execution_count": 6,
   "id": "5c10a417",
   "metadata": {},
   "outputs": [
    {
     "name": "stdout",
     "output_type": "stream",
     "text": [
      "Lütfen bir sayı giriniz:5\n",
      "15\n"
     ]
    }
   ],
   "source": [
    "b=int(input(\"Lütfen bir sayı giriniz:\"))\n",
    "print(b*3)"
   ]
  },
  {
   "cell_type": "code",
   "execution_count": 7,
   "id": "389c7c0e",
   "metadata": {},
   "outputs": [
    {
     "name": "stdout",
     "output_type": "stream",
     "text": [
      "Sayı giriniz:5\n",
      "Sayı giriniz:10\n",
      "Sayı giriniz:15\n",
      "Girilen sayıların toplamı:30\n"
     ]
    }
   ],
   "source": [
    "a=int(input(\"Sayı giriniz:\"))\n",
    "b=int(input(\"Sayı giriniz:\"))\n",
    "c=int(input(\"Sayı giriniz:\"))\n",
    "print(\"Girilen sayıların toplamı:{}\".format(a+b+c))"
   ]
  },
  {
   "cell_type": "code",
   "execution_count": null,
   "id": "a2078167",
   "metadata": {},
   "outputs": [],
   "source": []
  }
 ],
 "metadata": {
  "kernelspec": {
   "display_name": "Python 3 (ipykernel)",
   "language": "python",
   "name": "python3"
  },
  "language_info": {
   "codemirror_mode": {
    "name": "ipython",
    "version": 3
   },
   "file_extension": ".py",
   "mimetype": "text/x-python",
   "name": "python",
   "nbconvert_exporter": "python",
   "pygments_lexer": "ipython3",
   "version": "3.9.12"
  }
 },
 "nbformat": 4,
 "nbformat_minor": 5
}
