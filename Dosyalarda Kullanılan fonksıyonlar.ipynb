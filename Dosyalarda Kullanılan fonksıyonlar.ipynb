{
 "cells": [
  {
   "cell_type": "markdown",
   "id": "b69f1320",
   "metadata": {},
   "source": [
    "Bazen programlarımızıda dosyalarımızı kapatmayı unutabılırz.Bu yuzden with as kalıbını kullanıcaz."
   ]
  },
  {
   "cell_type": "code",
   "execution_count": 3,
   "id": "76defd2c",
   "metadata": {},
   "outputs": [
    {
     "name": "stdout",
     "output_type": "stream",
     "text": [
      "İlkay Kutay\n",
      "\n",
      "MEHMET\n"
     ]
    }
   ],
   "source": [
    "with open(\"bilgiler.txt\",\"r\",encoding=\"utf-8\") as file:\n",
    "    for i in file:\n",
    "        print(i)# bu kalıpla dosya otomatık kapanıyor."
   ]
  },
  {
   "cell_type": "markdown",
   "id": "cdfe7f81",
   "metadata": {},
   "source": [
    "Biz dosya okuttugumuz zaman dosya ımlecımız okuma sonrası en sonda duruyordu.Ancak biz bu ımlecı ıstedıgımız yerde kullanabılırz.Bunu da seek() fonku ıle yaparız.Ancak bu ımlecın nerde oldugunu bılmemız lazım.Onun icinde tell() kullanılır.\n"
   ]
  },
  {
   "cell_type": "code",
   "execution_count": 11,
   "id": "f809123c",
   "metadata": {},
   "outputs": [],
   "source": [
    "with open(\"bilgiler1.txt\",\"w\",encoding=\"utf-8\") as file:\n",
    "    file.write(\"Java,Python,Php programlama dilleri.\")"
   ]
  },
  {
   "cell_type": "code",
   "execution_count": 13,
   "id": "010d791b",
   "metadata": {},
   "outputs": [
    {
     "name": "stdout",
     "output_type": "stream",
     "text": [
      "Java,Python,Php programlama dilleri.\n"
     ]
    }
   ],
   "source": [
    "with open(\"bilgiler1.txt\",\"r\",encoding=\"utf-8\") as file:\n",
    "    for i in file:\n",
    "        print(i)"
   ]
  },
  {
   "cell_type": "code",
   "execution_count": 14,
   "id": "f6640503",
   "metadata": {},
   "outputs": [
    {
     "name": "stdout",
     "output_type": "stream",
     "text": [
      "0\n"
     ]
    }
   ],
   "source": [
    "with open(\"bilgiler1.txt\",\"r\",encoding=\"utf-8\") as file:\n",
    "    print(file.tell())"
   ]
  },
  {
   "cell_type": "code",
   "execution_count": 16,
   "id": "e494ee61",
   "metadata": {},
   "outputs": [
    {
     "name": "stdout",
     "output_type": "stream",
     "text": [
      "Python,Php\n"
     ]
    }
   ],
   "source": [
    "with open(\"bilgiler1.txt\",\"r\",encoding=\"utf-8\") as file:\n",
    "    file.tell()\n",
    "    file.seek(5)\n",
    "    icerik=file.read(10)#10 baytlık yeri okuycam dıyoruz.\n",
    "    print(icerik)\n",
    "    "
   ]
  },
  {
   "cell_type": "code",
   "execution_count": 19,
   "id": "35c974e7",
   "metadata": {},
   "outputs": [
    {
     "name": "stdout",
     "output_type": "stream",
     "text": [
      "15\n",
      "Python,Php\n",
      "Java,Pytho\n"
     ]
    }
   ],
   "source": [
    "with open(\"bilgiler1.txt\",\"r\",encoding=\"utf-8\") as file:\n",
    "    file.seek(5)\n",
    "    icerik=file.read(10)\n",
    "    print(file.tell())\n",
    "    file.seek(0)\n",
    "    icerik2=file.read(10)\n",
    "    print(icerik)\n",
    "    print(icerik2)"
   ]
  },
  {
   "cell_type": "code",
   "execution_count": 25,
   "id": "e206d4a6",
   "metadata": {},
   "outputs": [
    {
     "name": "stdout",
     "output_type": "stream",
     "text": [
      "5\n",
      "Python,Php programlama dilleri.\n"
     ]
    }
   ],
   "source": [
    "with open(\"bilgiler1.txt\",\"r\",encoding=\"utf-8\") as file:\n",
    "    file.seek(5)\n",
    "    print(file.tell())\n",
    "    for i in file:\n",
    "        print(i)"
   ]
  },
  {
   "cell_type": "code",
   "execution_count": null,
   "id": "4b6801c8",
   "metadata": {},
   "outputs": [],
   "source": []
  }
 ],
 "metadata": {
  "kernelspec": {
   "display_name": "Python 3 (ipykernel)",
   "language": "python",
   "name": "python3"
  },
  "language_info": {
   "codemirror_mode": {
    "name": "ipython",
    "version": 3
   },
   "file_extension": ".py",
   "mimetype": "text/x-python",
   "name": "python",
   "nbconvert_exporter": "python",
   "pygments_lexer": "ipython3",
   "version": "3.9.13"
  }
 },
 "nbformat": 4,
 "nbformat_minor": 5
}
