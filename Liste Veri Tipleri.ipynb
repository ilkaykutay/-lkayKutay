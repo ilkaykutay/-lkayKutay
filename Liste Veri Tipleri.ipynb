{
 "cells": [
  {
   "cell_type": "markdown",
   "id": "18641982",
   "metadata": {},
   "source": [
    "Yapısı gereği stringlere benzer fakat stringlerden en büyük farkı değiştirilebilirler."
   ]
  },
  {
   "cell_type": "code",
   "execution_count": 5,
   "id": "d1186ef5",
   "metadata": {},
   "outputs": [],
   "source": [
    "liste=[\"elma\",1,\"Merhaba\",34,3.4]"
   ]
  },
  {
   "cell_type": "code",
   "execution_count": 2,
   "id": "ab494955",
   "metadata": {},
   "outputs": [
    {
     "data": {
      "text/plain": [
       "list"
      ]
     },
     "execution_count": 2,
     "metadata": {},
     "output_type": "execute_result"
    }
   ],
   "source": [
    "type(liste)"
   ]
  },
  {
   "cell_type": "code",
   "execution_count": 3,
   "id": "1bd4a502",
   "metadata": {},
   "outputs": [],
   "source": [
    "liste=[]# boş liste."
   ]
  },
  {
   "cell_type": "code",
   "execution_count": 4,
   "id": "279e8293",
   "metadata": {},
   "outputs": [],
   "source": [
    "liste=list() # boş liste."
   ]
  },
  {
   "cell_type": "code",
   "execution_count": 6,
   "id": "b12019d9",
   "metadata": {},
   "outputs": [
    {
     "data": {
      "text/plain": [
       "5"
      ]
     },
     "execution_count": 6,
     "metadata": {},
     "output_type": "execute_result"
    }
   ],
   "source": [
    "len(liste) # listedeki eleman sayısını len fonku ıle bulabılıyoruz."
   ]
  },
  {
   "cell_type": "code",
   "execution_count": 7,
   "id": "55831a40",
   "metadata": {},
   "outputs": [
    {
     "data": {
      "text/plain": [
       "['M', 'e', 'r', 'h', 'a', 'b', 'a']"
      ]
     },
     "execution_count": 7,
     "metadata": {},
     "output_type": "execute_result"
    }
   ],
   "source": [
    "liste1=list(\"Merhaba\")# bir degıskenı lıste halıne getırmek için list fonksıyonu kullanılır.\n",
    "liste1"
   ]
  },
  {
   "cell_type": "code",
   "execution_count": 9,
   "id": "6b67f862",
   "metadata": {},
   "outputs": [
    {
     "data": {
      "text/plain": [
       "7"
      ]
     },
     "execution_count": 9,
     "metadata": {},
     "output_type": "execute_result"
    }
   ],
   "source": [
    "len(liste1)"
   ]
  },
  {
   "cell_type": "code",
   "execution_count": 10,
   "id": "098a274c",
   "metadata": {},
   "outputs": [],
   "source": [
    "liste=[1,2,3,4,5,6,7,8,9]"
   ]
  },
  {
   "cell_type": "code",
   "execution_count": 11,
   "id": "267fdc9a",
   "metadata": {},
   "outputs": [
    {
     "data": {
      "text/plain": [
       "3"
      ]
     },
     "execution_count": 11,
     "metadata": {},
     "output_type": "execute_result"
    }
   ],
   "source": [
    "liste[2]"
   ]
  },
  {
   "cell_type": "code",
   "execution_count": 12,
   "id": "a55727ab",
   "metadata": {},
   "outputs": [
    {
     "data": {
      "text/plain": [
       "9"
      ]
     },
     "execution_count": 12,
     "metadata": {},
     "output_type": "execute_result"
    }
   ],
   "source": [
    "liste[-1]#tersten de bakabılırız."
   ]
  },
  {
   "cell_type": "code",
   "execution_count": 13,
   "id": "a7d80a70",
   "metadata": {},
   "outputs": [
    {
     "data": {
      "text/plain": [
       "9"
      ]
     },
     "execution_count": 13,
     "metadata": {},
     "output_type": "execute_result"
    }
   ],
   "source": [
    "len(liste)"
   ]
  },
  {
   "cell_type": "code",
   "execution_count": 14,
   "id": "bdbe1327",
   "metadata": {},
   "outputs": [
    {
     "data": {
      "text/plain": [
       "9"
      ]
     },
     "execution_count": 14,
     "metadata": {},
     "output_type": "execute_result"
    }
   ],
   "source": [
    "liste[len(liste)-1] # sondakı elemanı cagırmanın farklı bır yolu."
   ]
  },
  {
   "cell_type": "code",
   "execution_count": 15,
   "id": "a82b7e7c",
   "metadata": {},
   "outputs": [
    {
     "data": {
      "text/plain": [
       "[5, 6, 7, 8, 9]"
      ]
     },
     "execution_count": 15,
     "metadata": {},
     "output_type": "execute_result"
    }
   ],
   "source": [
    "liste[4:]"
   ]
  },
  {
   "cell_type": "code",
   "execution_count": 16,
   "id": "80fdc237",
   "metadata": {},
   "outputs": [
    {
     "data": {
      "text/plain": [
       "[1, 2, 3, 4, 5]"
      ]
     },
     "execution_count": 16,
     "metadata": {},
     "output_type": "execute_result"
    }
   ],
   "source": [
    "liste[:5]"
   ]
  },
  {
   "cell_type": "code",
   "execution_count": 17,
   "id": "99905f22",
   "metadata": {},
   "outputs": [
    {
     "data": {
      "text/plain": [
       "[1, 3, 5, 7, 9]"
      ]
     },
     "execution_count": 17,
     "metadata": {},
     "output_type": "execute_result"
    }
   ],
   "source": [
    "liste[::2]"
   ]
  },
  {
   "cell_type": "code",
   "execution_count": 18,
   "id": "c5eeac22",
   "metadata": {},
   "outputs": [
    {
     "data": {
      "text/plain": [
       "[9, 8, 7, 6, 5, 4, 3, 2, 1]"
      ]
     },
     "execution_count": 18,
     "metadata": {},
     "output_type": "execute_result"
    }
   ],
   "source": [
    "liste[::-1]\n"
   ]
  },
  {
   "cell_type": "markdown",
   "id": "820062c6",
   "metadata": {},
   "source": [
    "#Temel Liste İşlemleri:"
   ]
  },
  {
   "cell_type": "code",
   "execution_count": 20,
   "id": "6d185f0a",
   "metadata": {},
   "outputs": [
    {
     "data": {
      "text/plain": [
       "[1, 2, 3, 4, 5, 6, 7]"
      ]
     },
     "execution_count": 20,
     "metadata": {},
     "output_type": "execute_result"
    }
   ],
   "source": [
    "liste1=[1,2,3] #Listeler TIpkı strıngler gıbı toplanabılır\n",
    "liste2=[4,5,6,7]\n",
    "liste1+liste2"
   ]
  },
  {
   "cell_type": "code",
   "execution_count": 21,
   "id": "ef25cea8",
   "metadata": {},
   "outputs": [
    {
     "data": {
      "text/plain": [
       "[1, 2, 3, 1, 2, 3, 1, 2, 3]"
      ]
     },
     "execution_count": 21,
     "metadata": {},
     "output_type": "execute_result"
    }
   ],
   "source": [
    "liste1*3# eger bu degerın korunmasını ıstıyosan bu degerı ataman lazım"
   ]
  },
  {
   "cell_type": "code",
   "execution_count": 23,
   "id": "96f4008e",
   "metadata": {},
   "outputs": [],
   "source": [
    "liste1=liste1*3"
   ]
  },
  {
   "cell_type": "code",
   "execution_count": 24,
   "id": "1c413346",
   "metadata": {},
   "outputs": [
    {
     "data": {
      "text/plain": [
       "[1, 2, 3, 1, 2, 3, 1, 2, 3]"
      ]
     },
     "execution_count": 24,
     "metadata": {},
     "output_type": "execute_result"
    }
   ],
   "source": [
    "liste1"
   ]
  },
  {
   "cell_type": "code",
   "execution_count": 25,
   "id": "6546f968",
   "metadata": {},
   "outputs": [
    {
     "data": {
      "text/plain": [
       "[4, 5, 6, 7]"
      ]
     },
     "execution_count": 25,
     "metadata": {},
     "output_type": "execute_result"
    }
   ],
   "source": [
    "liste2"
   ]
  },
  {
   "cell_type": "code",
   "execution_count": 26,
   "id": "d417f1a2",
   "metadata": {},
   "outputs": [],
   "source": [
    "liste2[1]=9 # istedıgın ındekstekı elemanı degıstırebılırsın strınglerden farkı budur."
   ]
  },
  {
   "cell_type": "code",
   "execution_count": 27,
   "id": "98ef0420",
   "metadata": {},
   "outputs": [
    {
     "data": {
      "text/plain": [
       "[4, 9, 6, 7]"
      ]
     },
     "execution_count": 27,
     "metadata": {},
     "output_type": "execute_result"
    }
   ],
   "source": [
    "liste2"
   ]
  },
  {
   "cell_type": "code",
   "execution_count": 28,
   "id": "7ab51f38",
   "metadata": {},
   "outputs": [
    {
     "data": {
      "text/plain": [
       "[1, 2]"
      ]
     },
     "execution_count": 28,
     "metadata": {},
     "output_type": "execute_result"
    }
   ],
   "source": [
    "liste=[1,2,3,4,5,6]\n",
    "liste[:2]"
   ]
  },
  {
   "cell_type": "code",
   "execution_count": 29,
   "id": "322d7cb1",
   "metadata": {},
   "outputs": [
    {
     "data": {
      "text/plain": [
       "[10, 11, 3, 4, 5, 6]"
      ]
     },
     "execution_count": 29,
     "metadata": {},
     "output_type": "execute_result"
    }
   ],
   "source": [
    "liste[:2]=[10,11]\n",
    "liste"
   ]
  },
  {
   "cell_type": "code",
   "execution_count": 30,
   "id": "d0a9c265",
   "metadata": {},
   "outputs": [
    {
     "data": {
      "text/plain": [
       "[10, 11, 3, 4, 5, 6, 7]"
      ]
     },
     "execution_count": 30,
     "metadata": {},
     "output_type": "execute_result"
    }
   ],
   "source": [
    "liste.append(7)#append metodu gırdıgımız degerı lısteye gırmemızı saglar.\n",
    "liste"
   ]
  },
  {
   "cell_type": "code",
   "execution_count": 31,
   "id": "37c7d0c4",
   "metadata": {},
   "outputs": [
    {
     "data": {
      "text/plain": [
       "7"
      ]
     },
     "execution_count": 31,
     "metadata": {},
     "output_type": "execute_result"
    }
   ],
   "source": [
    "liste.pop()#pop metodunda eger ıcı bo iste lıstedekı son elemanı atar."
   ]
  },
  {
   "cell_type": "code",
   "execution_count": 32,
   "id": "9532c364",
   "metadata": {},
   "outputs": [
    {
     "data": {
      "text/plain": [
       "[10, 11, 3, 4, 5, 6]"
      ]
     },
     "execution_count": 32,
     "metadata": {},
     "output_type": "execute_result"
    }
   ],
   "source": [
    "liste"
   ]
  },
  {
   "cell_type": "code",
   "execution_count": 33,
   "id": "1de65a47",
   "metadata": {},
   "outputs": [
    {
     "data": {
      "text/plain": [
       "10"
      ]
     },
     "execution_count": 33,
     "metadata": {},
     "output_type": "execute_result"
    }
   ],
   "source": [
    "liste.pop(0)#eger atmak ıstedıgımız degerı yazmak ıstıyosak ıcıne o sayını ındeksını yazarız."
   ]
  },
  {
   "cell_type": "code",
   "execution_count": 34,
   "id": "2ddca8e1",
   "metadata": {},
   "outputs": [
    {
     "data": {
      "text/plain": [
       "[11, 3, 4, 5, 6]"
      ]
     },
     "execution_count": 34,
     "metadata": {},
     "output_type": "execute_result"
    }
   ],
   "source": [
    "liste"
   ]
  },
  {
   "cell_type": "code",
   "execution_count": 37,
   "id": "a38f1e87",
   "metadata": {},
   "outputs": [
    {
     "data": {
      "text/plain": [
       "[-2, 1, 6, 10, 15, 38]"
      ]
     },
     "execution_count": 37,
     "metadata": {},
     "output_type": "execute_result"
    }
   ],
   "source": [
    "liste=[1,6,-2,15,10,38]# sort metodu lıste ıcındekı elemanları sıralamamızı saglar.\n",
    "liste.sort()\n",
    "liste"
   ]
  },
  {
   "cell_type": "code",
   "execution_count": 38,
   "id": "7d8b3cd6",
   "metadata": {},
   "outputs": [
    {
     "data": {
      "text/plain": [
       "[38, 15, 10, 6, 1, -2]"
      ]
     },
     "execution_count": 38,
     "metadata": {},
     "output_type": "execute_result"
    }
   ],
   "source": [
    "liste.sort(reverse=True)#Bunda ıse tersten sıralar.\n",
    "liste"
   ]
  },
  {
   "cell_type": "code",
   "execution_count": 40,
   "id": "9837545b",
   "metadata": {},
   "outputs": [
    {
     "data": {
      "text/plain": [
       "['c', 'php', 'python']"
      ]
     },
     "execution_count": 40,
     "metadata": {},
     "output_type": "execute_result"
    }
   ],
   "source": [
    "liste=[\"php\",\"c\",\"python\"]#strınglerı ıse alfabetık olarak sıralar.\n",
    "liste.sort()\n",
    "liste"
   ]
  },
  {
   "cell_type": "code",
   "execution_count": 42,
   "id": "b35fa18e",
   "metadata": {},
   "outputs": [
    {
     "data": {
      "text/plain": [
       "['python', 'php', 'c']"
      ]
     },
     "execution_count": 42,
     "metadata": {},
     "output_type": "execute_result"
    }
   ],
   "source": [
    "liste.sort(reverse=True)\n",
    "liste"
   ]
  },
  {
   "cell_type": "markdown",
   "id": "7c4bea2d",
   "metadata": {},
   "source": [
    "İÇ İÇE LİSTELER:"
   ]
  },
  {
   "cell_type": "code",
   "execution_count": 43,
   "id": "12e2d2fb",
   "metadata": {},
   "outputs": [
    {
     "data": {
      "text/plain": [
       "[[1, 2], [3, 4], [5, 6]]"
      ]
     },
     "execution_count": 43,
     "metadata": {},
     "output_type": "execute_result"
    }
   ],
   "source": [
    "liste=[[1,2],[3,4],[5,6]]\n",
    "liste"
   ]
  },
  {
   "cell_type": "code",
   "execution_count": 44,
   "id": "a72288eb",
   "metadata": {},
   "outputs": [
    {
     "data": {
      "text/plain": [
       "4"
      ]
     },
     "execution_count": 44,
     "metadata": {},
     "output_type": "execute_result"
    }
   ],
   "source": [
    "liste[1][1]"
   ]
  },
  {
   "cell_type": "code",
   "execution_count": null,
   "id": "ed28c541",
   "metadata": {},
   "outputs": [],
   "source": []
  }
 ],
 "metadata": {
  "kernelspec": {
   "display_name": "Python 3 (ipykernel)",
   "language": "python",
   "name": "python3"
  },
  "language_info": {
   "codemirror_mode": {
    "name": "ipython",
    "version": 3
   },
   "file_extension": ".py",
   "mimetype": "text/x-python",
   "name": "python",
   "nbconvert_exporter": "python",
   "pygments_lexer": "ipython3",
   "version": "3.9.12"
  }
 },
 "nbformat": 4,
 "nbformat_minor": 5
}
