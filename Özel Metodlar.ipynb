{
 "cells": [
  {
   "cell_type": "markdown",
   "id": "0537053b",
   "metadata": {},
   "source": [
    "Özel metodlar:Özel olarak cagırmadıgımız halde her classın ıcınde python tarafından konulmus metodlardır.Ancak bu metodların\n",
    "bazılarını özel olarak bizim tanımlamamız gerekebilir."
   ]
  },
  {
   "cell_type": "code",
   "execution_count": 1,
   "id": "620480de",
   "metadata": {},
   "outputs": [],
   "source": [
    "class Kitap():\n",
    "    pass"
   ]
  },
  {
   "cell_type": "code",
   "execution_count": 2,
   "id": "dd1bcb4e",
   "metadata": {},
   "outputs": [],
   "source": [
    "kitap=Kitap()#__init__ metodu"
   ]
  },
  {
   "cell_type": "code",
   "execution_count": 3,
   "id": "f99436fc",
   "metadata": {},
   "outputs": [
    {
     "name": "stdout",
     "output_type": "stream",
     "text": [
      "<__main__.Kitap object at 0x000001724D54BEB0>\n"
     ]
    }
   ],
   "source": [
    "print(kitap)#__str__metodu"
   ]
  },
  {
   "cell_type": "code",
   "execution_count": 4,
   "id": "b3825d9c",
   "metadata": {},
   "outputs": [
    {
     "ename": "TypeError",
     "evalue": "object of type 'Kitap' has no len()",
     "output_type": "error",
     "traceback": [
      "\u001b[1;31m---------------------------------------------------------------------------\u001b[0m",
      "\u001b[1;31mTypeError\u001b[0m                                 Traceback (most recent call last)",
      "Input \u001b[1;32mIn [4]\u001b[0m, in \u001b[0;36m<cell line: 1>\u001b[1;34m()\u001b[0m\n\u001b[1;32m----> 1\u001b[0m \u001b[38;5;28;43mlen\u001b[39;49m\u001b[43m(\u001b[49m\u001b[43mkitap\u001b[49m\u001b[43m)\u001b[49m\n",
      "\u001b[1;31mTypeError\u001b[0m: object of type 'Kitap' has no len()"
     ]
    }
   ],
   "source": [
    "len(kitap)##__len__ metodu ama python nasıl cagırcagını bılmedıgı ıcın bızım tanımlamamızı ıstıyor."
   ]
  },
  {
   "cell_type": "code",
   "execution_count": 5,
   "id": "9057a0b8",
   "metadata": {},
   "outputs": [],
   "source": [
    "del kitap#__del__metodu del\"ın ozellıgı  bir tane objeyı sılmemıze yarar.Özel bir metoddur bunu bız kendımız degıstıremeyız\n",
    "#sadece yenı ozellıkler eklıyebılırız.Aşagıya bak"
   ]
  },
  {
   "cell_type": "code",
   "execution_count": 6,
   "id": "4b3769b6",
   "metadata": {},
   "outputs": [
    {
     "ename": "NameError",
     "evalue": "name 'kitap' is not defined",
     "output_type": "error",
     "traceback": [
      "\u001b[1;31m---------------------------------------------------------------------------\u001b[0m",
      "\u001b[1;31mNameError\u001b[0m                                 Traceback (most recent call last)",
      "Input \u001b[1;32mIn [6]\u001b[0m, in \u001b[0;36m<cell line: 1>\u001b[1;34m()\u001b[0m\n\u001b[1;32m----> 1\u001b[0m \u001b[43mkitap\u001b[49m\n",
      "\u001b[1;31mNameError\u001b[0m: name 'kitap' is not defined"
     ]
    }
   ],
   "source": [
    "kitap"
   ]
  },
  {
   "cell_type": "code",
   "execution_count": 9,
   "id": "1d8ea0b9",
   "metadata": {},
   "outputs": [],
   "source": [
    "class Kitap():\n",
    "    def __init__(self,isim,yazar,sayfa_sayısı,tür):\n",
    "        print(\"İnit fonksiyonu\")\n",
    "        self.isim=isim\n",
    "        self.yazar=yazar\n",
    "        self.sayfa_sayısı=sayfa_sayısı\n",
    "        self.tür=tür\n",
    "    def __str__(self):\n",
    "        return \"İsim: {}\\nYazar:{}\\nSayfa Sayısı:{}\\nTürü:{}\".format(self.isim,self.yazar,self.sayfa_sayısı,self.tür)"
   ]
  },
  {
   "cell_type": "code",
   "execution_count": 10,
   "id": "2348d268",
   "metadata": {},
   "outputs": [
    {
     "name": "stdout",
     "output_type": "stream",
     "text": [
      "İnit fonksiyonu\n"
     ]
    }
   ],
   "source": [
    "kitap=Kitap(\"İstanbul Hatırası\",\"Ahmet Ümit\",561,\"Polisiye\")"
   ]
  },
  {
   "cell_type": "code",
   "execution_count": 11,
   "id": "97e7bc8c",
   "metadata": {},
   "outputs": [
    {
     "name": "stdout",
     "output_type": "stream",
     "text": [
      "İsim: İstanbul Hatırası\n",
      "Yazar:Ahmet Ümit\n",
      "Sayfa Sayısı:561\n",
      "Türü:Polisiye\n"
     ]
    }
   ],
   "source": [
    "print(kitap)"
   ]
  },
  {
   "cell_type": "code",
   "execution_count": 18,
   "id": "b37babfe",
   "metadata": {},
   "outputs": [],
   "source": [
    "class Kitap():\n",
    "    def __init__(self,isim,yazar,sayfa_sayısı,tür):\n",
    "        print(\"İnit fonksiyonu\")\n",
    "        self.isim=isim\n",
    "        self.yazar=yazar\n",
    "        self.sayfa_sayısı=sayfa_sayısı\n",
    "        self.tür=tür\n",
    "    def __str__(self):\n",
    "        return \"İsim: {}\\nYazar:{}\\nSayfa Sayısı:{}\\nTürü:{}\".format(self.isim,self.yazar,self.sayfa_sayısı,self.tür)\n",
    "    def __len__(self):\n",
    "        return self.sayfa_sayısı"
   ]
  },
  {
   "cell_type": "code",
   "execution_count": 19,
   "id": "9c0d5ec8",
   "metadata": {},
   "outputs": [
    {
     "name": "stdout",
     "output_type": "stream",
     "text": [
      "İnit fonksiyonu\n"
     ]
    }
   ],
   "source": [
    "kitap=Kitap(\"İstanbul Hatırası\",\"Ahmet Ümit\",561,\"Polisiye\")"
   ]
  },
  {
   "cell_type": "code",
   "execution_count": 20,
   "id": "95e1a308",
   "metadata": {},
   "outputs": [
    {
     "data": {
      "text/plain": [
       "561"
      ]
     },
     "execution_count": 20,
     "metadata": {},
     "output_type": "execute_result"
    }
   ],
   "source": [
    "len(kitap)"
   ]
  },
  {
   "cell_type": "code",
   "execution_count": 21,
   "id": "02c4a1ed",
   "metadata": {},
   "outputs": [],
   "source": [
    "class Kitap():\n",
    "    def __init__(self,isim,yazar,sayfa_sayısı,tür):\n",
    "        print(\"İnit fonksiyonu\")\n",
    "        self.isim=isim\n",
    "        self.yazar=yazar\n",
    "        self.sayfa_sayısı=sayfa_sayısı\n",
    "        self.tür=tür\n",
    "    def __str__(self):\n",
    "        return \"İsim: {}\\nYazar:{}\\nSayfa Sayısı:{}\\nTürü:{}\".format(self.isim,self.yazar,self.sayfa_sayısı,self.tür)\n",
    "    def __len__(self):\n",
    "        return self.sayfa_sayısı\n",
    "    def __del__(self):\n",
    "        print(\"Kitap objesi siliniyor......\")#bu özellik eklendi."
   ]
  },
  {
   "cell_type": "code",
   "execution_count": 22,
   "id": "e3d2eac4",
   "metadata": {},
   "outputs": [
    {
     "name": "stdout",
     "output_type": "stream",
     "text": [
      "İnit fonksiyonu\n"
     ]
    }
   ],
   "source": [
    "kitap=Kitap(\"İstanbul Hatırası\",\"Ahmet Ümit\",561,\"Polisiye\")"
   ]
  },
  {
   "cell_type": "code",
   "execution_count": 23,
   "id": "649feae5",
   "metadata": {},
   "outputs": [
    {
     "name": "stdout",
     "output_type": "stream",
     "text": [
      "Kitap objesi siliniyor......\n"
     ]
    }
   ],
   "source": [
    "del kitap"
   ]
  },
  {
   "cell_type": "code",
   "execution_count": 24,
   "id": "ee446c32",
   "metadata": {},
   "outputs": [
    {
     "ename": "NameError",
     "evalue": "name 'kitap' is not defined",
     "output_type": "error",
     "traceback": [
      "\u001b[1;31m---------------------------------------------------------------------------\u001b[0m",
      "\u001b[1;31mNameError\u001b[0m                                 Traceback (most recent call last)",
      "Input \u001b[1;32mIn [24]\u001b[0m, in \u001b[0;36m<cell line: 1>\u001b[1;34m()\u001b[0m\n\u001b[1;32m----> 1\u001b[0m \u001b[43mkitap\u001b[49m\n",
      "\u001b[1;31mNameError\u001b[0m: name 'kitap' is not defined"
     ]
    }
   ],
   "source": [
    "kitap"
   ]
  },
  {
   "cell_type": "code",
   "execution_count": null,
   "id": "420f7b53",
   "metadata": {},
   "outputs": [],
   "source": []
  }
 ],
 "metadata": {
  "kernelspec": {
   "display_name": "Python 3 (ipykernel)",
   "language": "python",
   "name": "python3"
  },
  "language_info": {
   "codemirror_mode": {
    "name": "ipython",
    "version": 3
   },
   "file_extension": ".py",
   "mimetype": "text/x-python",
   "name": "python",
   "nbconvert_exporter": "python",
   "pygments_lexer": "ipython3",
   "version": "3.9.12"
  }
 },
 "nbformat": 4,
 "nbformat_minor": 5
}
