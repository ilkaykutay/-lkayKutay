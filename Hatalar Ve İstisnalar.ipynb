{
 "cells": [
  {
   "cell_type": "markdown",
   "id": "aaa54a98",
   "metadata": {},
   "source": [
    "Python programlarında bazen bir değişkenin tanımlanmadan kullanılmaya çalıştırılması,bazen de yapılamayacak bir aritmetik işlemin yapılması pythonda hatalara yol acar. "
   ]
  },
  {
   "cell_type": "code",
   "execution_count": 4,
   "id": "93e70a90",
   "metadata": {},
   "outputs": [
    {
     "ename": "NameError",
     "evalue": "name 'a' is not defined",
     "output_type": "error",
     "traceback": [
      "\u001b[1;31m---------------------------------------------------------------------------\u001b[0m",
      "\u001b[1;31mNameError\u001b[0m                                 Traceback (most recent call last)",
      "Input \u001b[1;32mIn [4]\u001b[0m, in \u001b[0;36m<cell line: 1>\u001b[1;34m()\u001b[0m\n\u001b[1;32m----> 1\u001b[0m \u001b[38;5;28mprint\u001b[39m(\u001b[43ma\u001b[49m)\n",
      "\u001b[1;31mNameError\u001b[0m: name 'a' is not defined"
     ]
    }
   ],
   "source": [
    "print(a)#Name-error hatası"
   ]
  },
  {
   "cell_type": "code",
   "execution_count": 5,
   "id": "0ccb3c39",
   "metadata": {},
   "outputs": [
    {
     "ename": "ValueError",
     "evalue": "invalid literal for int() with base 10: 'sdfgdfg'",
     "output_type": "error",
     "traceback": [
      "\u001b[1;31m---------------------------------------------------------------------------\u001b[0m",
      "\u001b[1;31mValueError\u001b[0m                                Traceback (most recent call last)",
      "Input \u001b[1;32mIn [5]\u001b[0m, in \u001b[0;36m<cell line: 1>\u001b[1;34m()\u001b[0m\n\u001b[1;32m----> 1\u001b[0m \u001b[38;5;28;43mint\u001b[39;49m\u001b[43m(\u001b[49m\u001b[38;5;124;43m\"\u001b[39;49m\u001b[38;5;124;43msdfgdfg\u001b[39;49m\u001b[38;5;124;43m\"\u001b[39;49m\u001b[43m)\u001b[49m\n",
      "\u001b[1;31mValueError\u001b[0m: invalid literal for int() with base 10: 'sdfgdfg'"
     ]
    }
   ],
   "source": [
    "int(\"sdfgdfg\")#Value error hatası"
   ]
  },
  {
   "cell_type": "code",
   "execution_count": 6,
   "id": "4dd9444d",
   "metadata": {},
   "outputs": [
    {
     "ename": "ZeroDivisionError",
     "evalue": "division by zero",
     "output_type": "error",
     "traceback": [
      "\u001b[1;31m---------------------------------------------------------------------------\u001b[0m",
      "\u001b[1;31mZeroDivisionError\u001b[0m                         Traceback (most recent call last)",
      "Input \u001b[1;32mIn [6]\u001b[0m, in \u001b[0;36m<cell line: 1>\u001b[1;34m()\u001b[0m\n\u001b[1;32m----> 1\u001b[0m \u001b[38;5;241;43m2\u001b[39;49m\u001b[38;5;241;43m/\u001b[39;49m\u001b[38;5;241;43m0\u001b[39;49m\n",
      "\u001b[1;31mZeroDivisionError\u001b[0m: division by zero"
     ]
    }
   ],
   "source": [
    "2/0#Bir sayı sıfıra bolunmez."
   ]
  },
  {
   "cell_type": "markdown",
   "id": "a12e2656",
   "metadata": {},
   "source": [
    "Hata yakalama-try,except,finally Nedir?"
   ]
  },
  {
   "cell_type": "code",
   "execution_count": 7,
   "id": "b063a74f",
   "metadata": {},
   "outputs": [
    {
     "ename": "ValueError",
     "evalue": "invalid literal for int() with base 10: 'sdfsdfsd'",
     "output_type": "error",
     "traceback": [
      "\u001b[1;31m---------------------------------------------------------------------------\u001b[0m",
      "\u001b[1;31mValueError\u001b[0m                                Traceback (most recent call last)",
      "Input \u001b[1;32mIn [7]\u001b[0m, in \u001b[0;36m<cell line: 1>\u001b[1;34m()\u001b[0m\n\u001b[1;32m----> 1\u001b[0m a\u001b[38;5;241m=\u001b[39m\u001b[38;5;28;43mint\u001b[39;49m\u001b[43m(\u001b[49m\u001b[38;5;124;43m\"\u001b[39;49m\u001b[38;5;124;43msdfsdfsd\u001b[39;49m\u001b[38;5;124;43m\"\u001b[39;49m\u001b[43m)\u001b[49m\n",
      "\u001b[1;31mValueError\u001b[0m: invalid literal for int() with base 10: 'sdfsdfsd'"
     ]
    }
   ],
   "source": [
    "a=int(\"sdfsdfsd\")"
   ]
  },
  {
   "cell_type": "code",
   "execution_count": 8,
   "id": "11ec0d22",
   "metadata": {},
   "outputs": [
    {
     "name": "stdout",
     "output_type": "stream",
     "text": [
      "Bir hata oluştu\n",
      "Bloklar sona erdi.\n"
     ]
    }
   ],
   "source": [
    "try:\n",
    "    a=int(\"sdfsdfsd\")\n",
    "    print(\"Program burada\")\n",
    "except:\n",
    "    print(\"Bir hata oluştu\")\n",
    "print(\"Bloklar sona erdi.\")"
   ]
  },
  {
   "cell_type": "code",
   "execution_count": 9,
   "id": "6700b24c",
   "metadata": {},
   "outputs": [
    {
     "name": "stdout",
     "output_type": "stream",
     "text": [
      "Program burada\n",
      "Bloklar sona erdi.\n"
     ]
    }
   ],
   "source": [
    "try:\n",
    "    a=int(\"23\")\n",
    "    print(\"Program burada\")\n",
    "except:\n",
    "    print(\"Bir hata oluştu\")\n",
    "print(\"Bloklar sona erdi.\")"
   ]
  },
  {
   "cell_type": "code",
   "execution_count": 10,
   "id": "fe41bc90",
   "metadata": {},
   "outputs": [
    {
     "name": "stdout",
     "output_type": "stream",
     "text": [
      "Bir hata oluştu\n",
      "Bloklar sona erdi.\n"
     ]
    }
   ],
   "source": [
    "try:\n",
    "    a=int(\"sdfsdfsd\")\n",
    "    print(\"Program burada\")\n",
    "except ValueError:\n",
    "    print(\"Bir hata oluştu\")\n",
    "print(\"Bloklar sona erdi.\")"
   ]
  },
  {
   "cell_type": "code",
   "execution_count": 11,
   "id": "d132e633",
   "metadata": {},
   "outputs": [
    {
     "ename": "ValueError",
     "evalue": "invalid literal for int() with base 10: 'slşdfkşlsdlş23'",
     "output_type": "error",
     "traceback": [
      "\u001b[1;31m---------------------------------------------------------------------------\u001b[0m",
      "\u001b[1;31mValueError\u001b[0m                                Traceback (most recent call last)",
      "Input \u001b[1;32mIn [11]\u001b[0m, in \u001b[0;36m<cell line: 1>\u001b[1;34m()\u001b[0m\n\u001b[1;32m----> 1\u001b[0m a\u001b[38;5;241m=\u001b[39m\u001b[38;5;28;43mint\u001b[39;49m\u001b[43m(\u001b[49m\u001b[38;5;124;43m\"\u001b[39;49m\u001b[38;5;124;43mslşdfkşlsdlş23\u001b[39;49m\u001b[38;5;124;43m\"\u001b[39;49m\u001b[43m)\u001b[49m\n",
      "\u001b[1;31mValueError\u001b[0m: invalid literal for int() with base 10: 'slşdfkşlsdlş23'"
     ]
    }
   ],
   "source": [
    "a=int(\"slşdfkşlsdlş23\")"
   ]
  },
  {
   "cell_type": "code",
   "execution_count": 12,
   "id": "16441c20",
   "metadata": {},
   "outputs": [
    {
     "ename": "ZeroDivisionError",
     "evalue": "division by zero",
     "output_type": "error",
     "traceback": [
      "\u001b[1;31m---------------------------------------------------------------------------\u001b[0m",
      "\u001b[1;31mZeroDivisionError\u001b[0m                         Traceback (most recent call last)",
      "Input \u001b[1;32mIn [12]\u001b[0m, in \u001b[0;36m<cell line: 1>\u001b[1;34m()\u001b[0m\n\u001b[1;32m----> 1\u001b[0m \u001b[38;5;28mprint\u001b[39m(\u001b[38;5;241;43m2\u001b[39;49m\u001b[38;5;241;43m/\u001b[39;49m\u001b[38;5;241;43m0\u001b[39;49m)\n",
      "\u001b[1;31mZeroDivisionError\u001b[0m: division by zero"
     ]
    }
   ],
   "source": [
    "print(2/0)"
   ]
  },
  {
   "cell_type": "code",
   "execution_count": null,
   "id": "32cfd9d6",
   "metadata": {},
   "outputs": [],
   "source": [
    "try:\n",
    "    a=int(input(\"sayı1:\"))\n",
    "    b=int(input(\"sayı2:\"))\n",
    "    print(a/b)\n",
    "except ValueError:\n",
    "    print(\"Lütfen inputu dogru gırın...\")\n",
    "except ZeroDivisionError:\n",
    "    print(\"Bir sayı sıfıra bölünemez...\")\n",
    "    "
   ]
  },
  {
   "cell_type": "code",
   "execution_count": null,
   "id": "5b1e7411",
   "metadata": {},
   "outputs": [],
   "source": [
    "try:#Hatalar birleştirilebilir.\n",
    "    a=int(input(\"sayı1:\"))\n",
    "    b=int(input(\"sayı2:\"))\n",
    "    print(a/b)\n",
    "except (ValueError,ZeroDivisionError):\n",
    "    print(\"ZeroDivisionError veya ValueError hatası\")\n",
    "print(\"Bloklar sona erdi..\")"
   ]
  },
  {
   "cell_type": "code",
   "execution_count": 21,
   "id": "6c148d51",
   "metadata": {},
   "outputs": [
    {
     "name": "stdout",
     "output_type": "stream",
     "text": [
      "sayı1:35\n",
      "sayı2:dsfds\n",
      "Lütfen inputu dogru gırın...\n",
      "Burası çalıştı\n",
      "Bloklar sona erdi....\n"
     ]
    }
   ],
   "source": [
    "#Finally blokları hatalı da olsa hatalı olmasa da calısır.\n",
    "try:\n",
    "    a=int(input(\"sayı1:\"))\n",
    "    b=int(input(\"sayı2:\"))\n",
    "    print(a/b)\n",
    "except ValueError:\n",
    "    print(\"Lütfen inputu dogru gırın...\")\n",
    "except ZeroDivisionError:\n",
    "    print(\"Bir sayı sıfıra bölünemez...\")\n",
    "finally:\n",
    "    print(\"Burası çalıştı\")\n",
    "print(\"Bloklar sona erdi....\")"
   ]
  },
  {
   "cell_type": "markdown",
   "id": "ad5367fc",
   "metadata": {},
   "source": [
    "Hata Fırlatmak:Bazen kendi yazdığımız fonksiyonlar yanlış kullanılırsa kendi hatalarımızı üretip pythonda bu hataları fırlatabiliriz.Bunun içinde raise anahtar kelimesini kullanıcagız."
   ]
  },
  {
   "cell_type": "code",
   "execution_count": 22,
   "id": "7cccfce1",
   "metadata": {},
   "outputs": [],
   "source": [
    "def terscevir(s):\n",
    "    if type(s)!=str:\n",
    "        raise ValueError(\"Lütfen string degerı gırın.\")\n",
    "    else:\n",
    "        return s[::-1]"
   ]
  },
  {
   "cell_type": "code",
   "execution_count": 23,
   "id": "d87108ce",
   "metadata": {},
   "outputs": [
    {
     "data": {
      "text/plain": [
       "'yaklİ'"
      ]
     },
     "execution_count": 23,
     "metadata": {},
     "output_type": "execute_result"
    }
   ],
   "source": [
    "terscevir(\"İlkay\")"
   ]
  },
  {
   "cell_type": "code",
   "execution_count": 24,
   "id": "658701e8",
   "metadata": {},
   "outputs": [
    {
     "ename": "ValueError",
     "evalue": "Lütfen string degerı gırın.",
     "output_type": "error",
     "traceback": [
      "\u001b[1;31m---------------------------------------------------------------------------\u001b[0m",
      "\u001b[1;31mValueError\u001b[0m                                Traceback (most recent call last)",
      "Input \u001b[1;32mIn [24]\u001b[0m, in \u001b[0;36m<cell line: 1>\u001b[1;34m()\u001b[0m\n\u001b[1;32m----> 1\u001b[0m \u001b[43mterscevir\u001b[49m\u001b[43m(\u001b[49m\u001b[38;5;241;43m343\u001b[39;49m\u001b[43m)\u001b[49m\n",
      "Input \u001b[1;32mIn [22]\u001b[0m, in \u001b[0;36mterscevir\u001b[1;34m(s)\u001b[0m\n\u001b[0;32m      1\u001b[0m \u001b[38;5;28;01mdef\u001b[39;00m \u001b[38;5;21mterscevir\u001b[39m(s):\n\u001b[0;32m      2\u001b[0m     \u001b[38;5;28;01mif\u001b[39;00m \u001b[38;5;28mtype\u001b[39m(s)\u001b[38;5;241m!=\u001b[39m\u001b[38;5;28mstr\u001b[39m:\n\u001b[1;32m----> 3\u001b[0m         \u001b[38;5;28;01mraise\u001b[39;00m \u001b[38;5;167;01mValueError\u001b[39;00m(\u001b[38;5;124m\"\u001b[39m\u001b[38;5;124mLütfen string degerı gırın.\u001b[39m\u001b[38;5;124m\"\u001b[39m)\n\u001b[0;32m      4\u001b[0m     \u001b[38;5;28;01melse\u001b[39;00m:\n\u001b[0;32m      5\u001b[0m         \u001b[38;5;28;01mreturn\u001b[39;00m s[::\u001b[38;5;241m-\u001b[39m\u001b[38;5;241m1\u001b[39m]\n",
      "\u001b[1;31mValueError\u001b[0m: Lütfen string degerı gırın."
     ]
    }
   ],
   "source": [
    "terscevir(343)"
   ]
  },
  {
   "cell_type": "code",
   "execution_count": 25,
   "id": "1dcb53a9",
   "metadata": {},
   "outputs": [
    {
     "name": "stdout",
     "output_type": "stream",
     "text": [
      "Fonksiyon hata verdi...\n"
     ]
    }
   ],
   "source": [
    "try:\n",
    "    print(terscevir(12))\n",
    "except ValueError:\n",
    "    print(\"Fonksiyon hata verdi...\")"
   ]
  },
  {
   "cell_type": "code",
   "execution_count": null,
   "id": "07682681",
   "metadata": {},
   "outputs": [],
   "source": []
  }
 ],
 "metadata": {
  "kernelspec": {
   "display_name": "Python 3 (ipykernel)",
   "language": "python",
   "name": "python3"
  },
  "language_info": {
   "codemirror_mode": {
    "name": "ipython",
    "version": 3
   },
   "file_extension": ".py",
   "mimetype": "text/x-python",
   "name": "python",
   "nbconvert_exporter": "python",
   "pygments_lexer": "ipython3",
   "version": "3.9.12"
  }
 },
 "nbformat": 4,
 "nbformat_minor": 5
}
