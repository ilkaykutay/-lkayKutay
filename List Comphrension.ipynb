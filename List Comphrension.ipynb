{
 "cells": [
  {
   "cell_type": "code",
   "execution_count": 1,
   "id": "73fbbb09",
   "metadata": {},
   "outputs": [
    {
     "name": "stdout",
     "output_type": "stream",
     "text": [
      "[1, 2, 3, 4, 5]\n"
     ]
    }
   ],
   "source": [
    "liste1=[1,2,3,4,5]# bu yontem cok uzun\n",
    "liste2=[]\n",
    "for i in liste1:\n",
    "    liste2.append(i)\n",
    "print(liste2)"
   ]
  },
  {
   "cell_type": "code",
   "execution_count": 3,
   "id": "e14078bb",
   "metadata": {},
   "outputs": [
    {
     "name": "stdout",
     "output_type": "stream",
     "text": [
      "[1, 2, 3, 4, 5]\n"
     ]
    }
   ],
   "source": [
    "liste3=[1,2,3,4,5] # usttekı yontem uzun oldugu ıcın lıst comphrensıonu kullanıyoruz.\n",
    "liste4=[i for i in liste3]\n",
    "print(liste4)"
   ]
  },
  {
   "cell_type": "code",
   "execution_count": 4,
   "id": "c1a92e40",
   "metadata": {},
   "outputs": [
    {
     "data": {
      "text/plain": [
       "[6, 8, 10]"
      ]
     },
     "execution_count": 4,
     "metadata": {},
     "output_type": "execute_result"
    }
   ],
   "source": [
    "liste=[3,4,5]\n",
    "liste1=[i*2 for i in liste]\n",
    "liste1"
   ]
  },
  {
   "cell_type": "code",
   "execution_count": 6,
   "id": "c831dae0",
   "metadata": {},
   "outputs": [
    {
     "data": {
      "text/plain": [
       "[2, 12, 30]"
      ]
     },
     "execution_count": 6,
     "metadata": {},
     "output_type": "execute_result"
    }
   ],
   "source": [
    "liste=[(1,2),(3,4),(5,6)]\n",
    "liste1=[i*j for i,j in liste]\n",
    "liste1"
   ]
  },
  {
   "cell_type": "code",
   "execution_count": 8,
   "id": "caf36b1c",
   "metadata": {},
   "outputs": [
    {
     "data": {
      "text/plain": [
       "['ppp', 'yyy', 'ttt', 'hhh', 'ooo', 'nnn']"
      ]
     },
     "execution_count": 8,
     "metadata": {},
     "output_type": "execute_result"
    }
   ],
   "source": [
    "s=\"python\"\n",
    "liste1=[i*3 for i in s]\n",
    "liste1"
   ]
  },
  {
   "cell_type": "code",
   "execution_count": 11,
   "id": "07cb84da",
   "metadata": {},
   "outputs": [
    {
     "data": {
      "text/plain": [
       "[1, 2, 3, 4, 5, 6, 7, 8, 9, 10, 11, 12, 13, 14, 15]"
      ]
     },
     "execution_count": 11,
     "metadata": {},
     "output_type": "execute_result"
    }
   ],
   "source": [
    "liste=[[1,2,3],[4,5,6,7,8],[9,10,11,12,13,14,15]]\n",
    "liste1=list()\n",
    "for i in liste:\n",
    "    for x in i :\n",
    "        liste1.append(x)\n",
    "liste1"
   ]
  },
  {
   "cell_type": "code",
   "execution_count": 13,
   "id": "e1eacc26",
   "metadata": {},
   "outputs": [
    {
     "data": {
      "text/plain": [
       "[1, 2, 3, 4, 5, 6, 7, 8, 9, 10, 11, 12, 13, 14, 15]"
      ]
     },
     "execution_count": 13,
     "metadata": {},
     "output_type": "execute_result"
    }
   ],
   "source": [
    "liste=[[1,2,3],[4,5,6,7,8],[9,10,11,12,13,14,15]]\n",
    "liste1=[x for i in liste for x in i ]\n",
    "liste1"
   ]
  },
  {
   "cell_type": "code",
   "execution_count": null,
   "id": "0b961ba0",
   "metadata": {},
   "outputs": [],
   "source": []
  }
 ],
 "metadata": {
  "kernelspec": {
   "display_name": "Python 3 (ipykernel)",
   "language": "python",
   "name": "python3"
  },
  "language_info": {
   "codemirror_mode": {
    "name": "ipython",
    "version": 3
   },
   "file_extension": ".py",
   "mimetype": "text/x-python",
   "name": "python",
   "nbconvert_exporter": "python",
   "pygments_lexer": "ipython3",
   "version": "3.9.12"
  }
 },
 "nbformat": 4,
 "nbformat_minor": 5
}
