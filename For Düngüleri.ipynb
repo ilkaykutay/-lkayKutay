{
 "cells": [
  {
   "cell_type": "markdown",
   "id": "b13a6514",
   "metadata": {},
   "source": [
    "İn operatörü:Pythondakı in operatoru bir elemanın baska bir listede veya demette veya stringte bulunup bulunmadıgını kontrol eder."
   ]
  },
  {
   "cell_type": "code",
   "execution_count": 1,
   "id": "5a270e23",
   "metadata": {},
   "outputs": [
    {
     "data": {
      "text/plain": [
       "True"
      ]
     },
     "execution_count": 1,
     "metadata": {},
     "output_type": "execute_result"
    }
   ],
   "source": [
    "\"a\" in \"Merhaba\""
   ]
  },
  {
   "cell_type": "code",
   "execution_count": 3,
   "id": "c86da171",
   "metadata": {},
   "outputs": [
    {
     "data": {
      "text/plain": [
       "False"
      ]
     },
     "execution_count": 3,
     "metadata": {},
     "output_type": "execute_result"
    }
   ],
   "source": [
    "\"f\"in \"MERHABA\""
   ]
  },
  {
   "cell_type": "code",
   "execution_count": 4,
   "id": "16b852d5",
   "metadata": {},
   "outputs": [
    {
     "data": {
      "text/plain": [
       "False"
      ]
     },
     "execution_count": 4,
     "metadata": {},
     "output_type": "execute_result"
    }
   ],
   "source": [
    "5 in [1,2,3,4] "
   ]
  },
  {
   "cell_type": "code",
   "execution_count": 6,
   "id": "cb82a0d7",
   "metadata": {},
   "outputs": [
    {
     "data": {
      "text/plain": [
       "True"
      ]
     },
     "execution_count": 6,
     "metadata": {},
     "output_type": "execute_result"
    }
   ],
   "source": [
    "5 in (1,2,3,4,5)"
   ]
  },
  {
   "cell_type": "code",
   "execution_count": 7,
   "id": "d502ae85",
   "metadata": {},
   "outputs": [
    {
     "data": {
      "text/plain": [
       "True"
      ]
     },
     "execution_count": 7,
     "metadata": {},
     "output_type": "execute_result"
    }
   ],
   "source": [
    "not 4 in (1,2,3)"
   ]
  },
  {
   "cell_type": "code",
   "execution_count": 9,
   "id": "638e829c",
   "metadata": {},
   "outputs": [
    {
     "name": "stdout",
     "output_type": "stream",
     "text": [
      "1\n",
      "2\n",
      "3\n",
      "4\n",
      "5\n",
      "6\n"
     ]
    }
   ],
   "source": [
    "liste=[1,2,3,4,5,6]\n",
    "for eleman in liste:\n",
    "    print(eleman)"
   ]
  },
  {
   "cell_type": "code",
   "execution_count": 10,
   "id": "490e8bd3",
   "metadata": {},
   "outputs": [
    {
     "name": "stdout",
     "output_type": "stream",
     "text": [
      "Elemanların toplamı 21\n"
     ]
    }
   ],
   "source": [
    "liste=[1,2,3,4,5,6]\n",
    "toplam=0\n",
    "for eleman in liste:\n",
    "    toplam=toplam+eleman\n",
    "print(\"Elemanların toplamı {}\".format(toplam))"
   ]
  },
  {
   "cell_type": "code",
   "execution_count": 13,
   "id": "0b939bce",
   "metadata": {},
   "outputs": [
    {
     "name": "stdout",
     "output_type": "stream",
     "text": [
      "1 Tek sayıdır\n",
      "2 Çift sayıdır\n",
      "3 Tek sayıdır\n",
      "4 Çift sayıdır\n",
      "34 Çift sayıdır\n",
      "54 Çift sayıdır\n",
      "63 Tek sayıdır\n",
      "78 Çift sayıdır\n"
     ]
    }
   ],
   "source": [
    "liste=[1,2,3,4,34,54,63,78]\n",
    "for a in liste:\n",
    "    if a%2 == 0:\n",
    "        print(\"{} Çift sayıdır\".format(a))\n",
    "    else:\n",
    "        print(\"{} Tek sayıdır\".format(a))\n"
   ]
  },
  {
   "cell_type": "code",
   "execution_count": 14,
   "id": "c88dc737",
   "metadata": {},
   "outputs": [
    {
     "name": "stdout",
     "output_type": "stream",
     "text": [
      "P\n",
      "y\n",
      "t\n",
      "h\n",
      "o\n",
      "n\n"
     ]
    }
   ],
   "source": [
    "s=\"Python\"\n",
    "for i in s :\n",
    "    print(i)"
   ]
  },
  {
   "cell_type": "code",
   "execution_count": 15,
   "id": "6d2c2de7",
   "metadata": {},
   "outputs": [
    {
     "name": "stdout",
     "output_type": "stream",
     "text": [
      "PPP\n",
      "yyy\n",
      "ttt\n",
      "hhh\n",
      "ooo\n",
      "nnn\n"
     ]
    }
   ],
   "source": [
    "s=\"Python\"\n",
    "for i in s :\n",
    "    print(i*3)"
   ]
  },
  {
   "cell_type": "code",
   "execution_count": 16,
   "id": "8502704b",
   "metadata": {},
   "outputs": [
    {
     "name": "stdout",
     "output_type": "stream",
     "text": [
      "[1, 2]\n",
      "[3, 4]\n",
      "[5, 6]\n",
      "[7, 8]\n"
     ]
    }
   ],
   "source": [
    "liste=[[1,2],[3,4],[5,6],[7,8]]\n",
    "for i in liste:\n",
    "    print(i)"
   ]
  },
  {
   "cell_type": "code",
   "execution_count": 19,
   "id": "ddff20ca",
   "metadata": {},
   "outputs": [
    {
     "name": "stdout",
     "output_type": "stream",
     "text": [
      "i:1 j:2\n",
      "i:3 j:4\n",
      "i:5 j:6\n",
      "i:7 j:8\n"
     ]
    }
   ],
   "source": [
    "liste=[[1,2],[3,4],[5,6],[7,8]]\n",
    "for [i,j] in liste:\n",
    "    print(\"i:{} j:{}\".format(i,j))"
   ]
  },
  {
   "cell_type": "code",
   "execution_count": 21,
   "id": "63911bc3",
   "metadata": {},
   "outputs": [
    {
     "name": "stdout",
     "output_type": "stream",
     "text": [
      "6\n",
      "120\n",
      "504\n"
     ]
    }
   ],
   "source": [
    "liste=[[1,2,3],[4,5,6],[7,8,9]]\n",
    "for [i,j,k] in liste:\n",
    "    print(i*j*k)"
   ]
  },
  {
   "cell_type": "code",
   "execution_count": 31,
   "id": "d1f5b1c2",
   "metadata": {},
   "outputs": [],
   "source": [
    "sözlük={\"bir\":1,\"iki\":2,\"üç\":3}"
   ]
  },
  {
   "cell_type": "code",
   "execution_count": 24,
   "id": "50abc0e0",
   "metadata": {},
   "outputs": [
    {
     "name": "stdout",
     "output_type": "stream",
     "text": [
      "bir\n",
      "iki\n",
      "üç\n"
     ]
    }
   ],
   "source": [
    "for eleman in sözlük:\n",
    "    print(eleman) #eger sozluk metodlarını kullanmazsak dırekt anahtar degerlerını yazdırır."
   ]
  },
  {
   "cell_type": "code",
   "execution_count": 26,
   "id": "0d720411",
   "metadata": {},
   "outputs": [
    {
     "name": "stdout",
     "output_type": "stream",
     "text": [
      "1\n",
      "2\n",
      "3\n"
     ]
    }
   ],
   "source": [
    "for eleman in sözlük.values():\n",
    "    print(eleman)"
   ]
  },
  {
   "cell_type": "code",
   "execution_count": 29,
   "id": "737b7bfd",
   "metadata": {},
   "outputs": [
    {
     "name": "stdout",
     "output_type": "stream",
     "text": [
      "('bir', 1)\n",
      "('iki', 2)\n",
      "('üç', 3)\n"
     ]
    }
   ],
   "source": [
    "for eleman in sözlük.items():\n",
    "    print(eleman)"
   ]
  },
  {
   "cell_type": "code",
   "execution_count": 33,
   "id": "5844f481",
   "metadata": {},
   "outputs": [
    {
     "name": "stdout",
     "output_type": "stream",
     "text": [
      "bir 1\n",
      "iki 2\n",
      "üç 3\n"
     ]
    }
   ],
   "source": [
    "for (i,j) in sözlük.items():\n",
    "    print(i,j)"
   ]
  },
  {
   "cell_type": "code",
   "execution_count": null,
   "id": "5ec73f8a",
   "metadata": {},
   "outputs": [],
   "source": []
  }
 ],
 "metadata": {
  "kernelspec": {
   "display_name": "Python 3 (ipykernel)",
   "language": "python",
   "name": "python3"
  },
  "language_info": {
   "codemirror_mode": {
    "name": "ipython",
    "version": 3
   },
   "file_extension": ".py",
   "mimetype": "text/x-python",
   "name": "python",
   "nbconvert_exporter": "python",
   "pygments_lexer": "ipython3",
   "version": "3.9.12"
  }
 },
 "nbformat": 4,
 "nbformat_minor": 5
}
