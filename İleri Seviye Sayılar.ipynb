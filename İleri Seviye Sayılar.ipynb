{
 "cells": [
  {
   "cell_type": "markdown",
   "id": "9b954d85",
   "metadata": {},
   "source": [
    "Bazen sayılarımızı 10luk taban yerıne 2lık veya 16lık tabanda kullanmamız gerekebılır.Bu yuzden bellı fonkları bılmemız lazım."
   ]
  },
  {
   "cell_type": "code",
   "execution_count": 3,
   "id": "9c8268bd",
   "metadata": {},
   "outputs": [
    {
     "data": {
      "text/plain": [
       "'0b100'"
      ]
     },
     "execution_count": 3,
     "metadata": {},
     "output_type": "execute_result"
    }
   ],
   "source": [
    "bin(4)# 4 sayısını ıkılık tabana gecırdı."
   ]
  },
  {
   "cell_type": "code",
   "execution_count": 2,
   "id": "7280b3c1",
   "metadata": {},
   "outputs": [
    {
     "data": {
      "text/plain": [
       "'0b10011'"
      ]
     },
     "execution_count": 2,
     "metadata": {},
     "output_type": "execute_result"
    }
   ],
   "source": [
    "bin(19)"
   ]
  },
  {
   "cell_type": "code",
   "execution_count": 5,
   "id": "08ad39b4",
   "metadata": {},
   "outputs": [
    {
     "data": {
      "text/plain": [
       "'0x14'"
      ]
     },
     "execution_count": 5,
     "metadata": {},
     "output_type": "execute_result"
    }
   ],
   "source": [
    "hex(20)#20 sayısını 16lık tabana gecırdı."
   ]
  },
  {
   "cell_type": "code",
   "execution_count": 6,
   "id": "2420d085",
   "metadata": {},
   "outputs": [
    {
     "data": {
      "text/plain": [
       "'0x200'"
      ]
     },
     "execution_count": 6,
     "metadata": {},
     "output_type": "execute_result"
    }
   ],
   "source": [
    "hex(512)"
   ]
  },
  {
   "cell_type": "markdown",
   "id": "1fcd15e9",
   "metadata": {},
   "source": [
    "abs fonksiyonu:Bır sayının mutlak degerını alır."
   ]
  },
  {
   "cell_type": "code",
   "execution_count": 7,
   "id": "4bff4eef",
   "metadata": {},
   "outputs": [
    {
     "data": {
      "text/plain": [
       "5"
      ]
     },
     "execution_count": 7,
     "metadata": {},
     "output_type": "execute_result"
    }
   ],
   "source": [
    "abs(-5)"
   ]
  },
  {
   "cell_type": "code",
   "execution_count": 8,
   "id": "0379d847",
   "metadata": {},
   "outputs": [
    {
     "data": {
      "text/plain": [
       "1.4"
      ]
     },
     "execution_count": 8,
     "metadata": {},
     "output_type": "execute_result"
    }
   ],
   "source": [
    "abs(-1.4)"
   ]
  },
  {
   "cell_type": "markdown",
   "id": "3faa0012",
   "metadata": {},
   "source": [
    "round fonksiyonu:Bir sayıyı alta veya üste yuvarlamamızı saglıyor."
   ]
  },
  {
   "cell_type": "code",
   "execution_count": 9,
   "id": "d63dc7d5",
   "metadata": {},
   "outputs": [
    {
     "data": {
      "text/plain": [
       "3"
      ]
     },
     "execution_count": 9,
     "metadata": {},
     "output_type": "execute_result"
    }
   ],
   "source": [
    "round(3.4)"
   ]
  },
  {
   "cell_type": "code",
   "execution_count": 11,
   "id": "d379ecb3",
   "metadata": {},
   "outputs": [
    {
     "data": {
      "text/plain": [
       "4"
      ]
     },
     "execution_count": 11,
     "metadata": {},
     "output_type": "execute_result"
    }
   ],
   "source": [
    "round(3.6)"
   ]
  },
  {
   "cell_type": "markdown",
   "id": "5db7f652",
   "metadata": {},
   "source": [
    "Max fonskiyonu:Bir sayının en büyüğünü döndürür.\n",
    "Min Fonksiyonu:Bir sayının en küçüğünü döndürür."
   ]
  },
  {
   "cell_type": "code",
   "execution_count": 12,
   "id": "b748c15e",
   "metadata": {},
   "outputs": [
    {
     "data": {
      "text/plain": [
       "7"
      ]
     },
     "execution_count": 12,
     "metadata": {},
     "output_type": "execute_result"
    }
   ],
   "source": [
    "max(5,6,3,5,6,7)#istedigin kadar sayı gırebılırsın."
   ]
  },
  {
   "cell_type": "code",
   "execution_count": 13,
   "id": "bebc0d66",
   "metadata": {},
   "outputs": [
    {
     "data": {
      "text/plain": [
       "3"
      ]
     },
     "execution_count": 13,
     "metadata": {},
     "output_type": "execute_result"
    }
   ],
   "source": [
    "min(5,6,3,51,7)"
   ]
  },
  {
   "cell_type": "markdown",
   "id": "6bafa916",
   "metadata": {},
   "source": [
    "Sum fonksiyonu:gırılen degerlerın toplamını verır.Ancak girilen degerler liste veya demet halında olmalı."
   ]
  },
  {
   "cell_type": "code",
   "execution_count": 14,
   "id": "8bffb4c8",
   "metadata": {},
   "outputs": [
    {
     "ename": "TypeError",
     "evalue": "'int' object is not iterable",
     "output_type": "error",
     "traceback": [
      "\u001b[1;31m---------------------------------------------------------------------------\u001b[0m",
      "\u001b[1;31mTypeError\u001b[0m                                 Traceback (most recent call last)",
      "\u001b[1;32m~\\AppData\\Local\\Temp\\ipykernel_8508\\3109718759.py\u001b[0m in \u001b[0;36m<module>\u001b[1;34m\u001b[0m\n\u001b[1;32m----> 1\u001b[1;33m \u001b[0msum\u001b[0m\u001b[1;33m(\u001b[0m\u001b[1;36m3\u001b[0m\u001b[1;33m,\u001b[0m\u001b[1;36m4\u001b[0m\u001b[1;33m)\u001b[0m\u001b[1;33m\u001b[0m\u001b[1;33m\u001b[0m\u001b[0m\n\u001b[0m",
      "\u001b[1;31mTypeError\u001b[0m: 'int' object is not iterable"
     ]
    }
   ],
   "source": [
    "sum(3,4)#liste veya demet degıl."
   ]
  },
  {
   "cell_type": "code",
   "execution_count": 15,
   "id": "0fcf0ad1",
   "metadata": {},
   "outputs": [
    {
     "data": {
      "text/plain": [
       "14"
      ]
     },
     "execution_count": 15,
     "metadata": {},
     "output_type": "execute_result"
    }
   ],
   "source": [
    "sum([3,4,7])"
   ]
  },
  {
   "cell_type": "code",
   "execution_count": 16,
   "id": "9faeb5d5",
   "metadata": {},
   "outputs": [
    {
     "ename": "TypeError",
     "evalue": "unsupported operand type(s) for +: 'int' and 'str'",
     "output_type": "error",
     "traceback": [
      "\u001b[1;31m---------------------------------------------------------------------------\u001b[0m",
      "\u001b[1;31mTypeError\u001b[0m                                 Traceback (most recent call last)",
      "\u001b[1;32m~\\AppData\\Local\\Temp\\ipykernel_8508\\4138602369.py\u001b[0m in \u001b[0;36m<module>\u001b[1;34m\u001b[0m\n\u001b[1;32m----> 1\u001b[1;33m \u001b[0msum\u001b[0m\u001b[1;33m(\u001b[0m\u001b[1;33m[\u001b[0m\u001b[1;34m\"Python\"\u001b[0m\u001b[1;33m,\u001b[0m\u001b[1;36m3\u001b[0m\u001b[1;33m,\u001b[0m\u001b[1;36m4\u001b[0m\u001b[1;33m,\u001b[0m\u001b[1;36m5\u001b[0m\u001b[1;33m]\u001b[0m\u001b[1;33m)\u001b[0m\u001b[1;33m\u001b[0m\u001b[1;33m\u001b[0m\u001b[0m\n\u001b[0m",
      "\u001b[1;31mTypeError\u001b[0m: unsupported operand type(s) for +: 'int' and 'str'"
     ]
    }
   ],
   "source": [
    "sum([\"Python\",3,4,5])#Girilen degeler mutlaka sayı olmalı."
   ]
  },
  {
   "cell_type": "markdown",
   "id": "5c39f17c",
   "metadata": {},
   "source": [
    "pow Fonksiyonu:Üs alma işlemini yapar."
   ]
  },
  {
   "cell_type": "code",
   "execution_count": 18,
   "id": "0fe40405",
   "metadata": {},
   "outputs": [
    {
     "data": {
      "text/plain": [
       "16"
      ]
     },
     "execution_count": 18,
     "metadata": {},
     "output_type": "execute_result"
    }
   ],
   "source": [
    "pow(2,4)"
   ]
  },
  {
   "cell_type": "code",
   "execution_count": 19,
   "id": "d3d964db",
   "metadata": {},
   "outputs": [
    {
     "data": {
      "text/plain": [
       "2.0"
      ]
     },
     "execution_count": 19,
     "metadata": {},
     "output_type": "execute_result"
    }
   ],
   "source": [
    "pow(4,0.5)"
   ]
  },
  {
   "cell_type": "code",
   "execution_count": null,
   "id": "51fe21ba",
   "metadata": {},
   "outputs": [],
   "source": []
  }
 ],
 "metadata": {
  "kernelspec": {
   "display_name": "Python 3 (ipykernel)",
   "language": "python",
   "name": "python3"
  },
  "language_info": {
   "codemirror_mode": {
    "name": "ipython",
    "version": 3
   },
   "file_extension": ".py",
   "mimetype": "text/x-python",
   "name": "python",
   "nbconvert_exporter": "python",
   "pygments_lexer": "ipython3",
   "version": "3.9.13"
  }
 },
 "nbformat": 4,
 "nbformat_minor": 5
}
