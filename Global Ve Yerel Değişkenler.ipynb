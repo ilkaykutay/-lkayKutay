{
 "cells": [
  {
   "cell_type": "markdown",
   "id": "1d868008",
   "metadata": {},
   "source": [
    "Pythonda fonksıyonlarda tanımlanan degıskenler yerel(local) değişkenler deniyor.Yani fonksiyon blogunda olusturulan değişkenler fonksiyona özgüdür ve fonskiyon calısmasını durdurdugu zaman bellekten sılınır.\n",
    "Global degıskenler ise tanımlandıgı andan ıtıbaren ulasabılırız."
   ]
  },
  {
   "cell_type": "code",
   "execution_count": 1,
   "id": "ab05d9f8",
   "metadata": {},
   "outputs": [],
   "source": [
    "def fonksiyon():\n",
    "    a=10\n",
    "    print(a)"
   ]
  },
  {
   "cell_type": "code",
   "execution_count": 3,
   "id": "ca612e98",
   "metadata": {},
   "outputs": [
    {
     "name": "stdout",
     "output_type": "stream",
     "text": [
      "10\n"
     ]
    },
    {
     "ename": "NameError",
     "evalue": "name 'a' is not defined",
     "output_type": "error",
     "traceback": [
      "\u001b[1;31m---------------------------------------------------------------------------\u001b[0m",
      "\u001b[1;31mNameError\u001b[0m                                 Traceback (most recent call last)",
      "Input \u001b[1;32mIn [3]\u001b[0m, in \u001b[0;36m<cell line: 2>\u001b[1;34m()\u001b[0m\n\u001b[0;32m      1\u001b[0m fonksiyon()\n\u001b[1;32m----> 2\u001b[0m \u001b[38;5;28mprint\u001b[39m(\u001b[43ma\u001b[49m)\n",
      "\u001b[1;31mNameError\u001b[0m: name 'a' is not defined"
     ]
    }
   ],
   "source": [
    "fonksiyon() #sadece fonkda tanımlı hata verdı.\n",
    "print(a)"
   ]
  },
  {
   "cell_type": "code",
   "execution_count": 5,
   "id": "f83ee01c",
   "metadata": {},
   "outputs": [
    {
     "name": "stdout",
     "output_type": "stream",
     "text": [
      "5\n"
     ]
    }
   ],
   "source": [
    "b=5 #b degıskenı global oldugu ıcın nerde ıstersem orda kullanabılırız ve sıkıntı cıkarmaz.\n",
    "def fonksiyon():\n",
    "    print(b)\n",
    "fonksiyon()"
   ]
  },
  {
   "cell_type": "code",
   "execution_count": 6,
   "id": "652498df",
   "metadata": {},
   "outputs": [
    {
     "ename": "NameError",
     "evalue": "name 's' is not defined",
     "output_type": "error",
     "traceback": [
      "\u001b[1;31m---------------------------------------------------------------------------\u001b[0m",
      "\u001b[1;31mNameError\u001b[0m                                 Traceback (most recent call last)",
      "Input \u001b[1;32mIn [6]\u001b[0m, in \u001b[0;36m<cell line: 3>\u001b[1;34m()\u001b[0m\n\u001b[0;32m      1\u001b[0m \u001b[38;5;28;01mdef\u001b[39;00m \u001b[38;5;21mfonksiyon\u001b[39m():\n\u001b[0;32m      2\u001b[0m     \u001b[38;5;28mprint\u001b[39m(s)\n\u001b[1;32m----> 3\u001b[0m \u001b[43mfonksiyon\u001b[49m\u001b[43m(\u001b[49m\u001b[43m)\u001b[49m\n\u001b[0;32m      4\u001b[0m s\u001b[38;5;241m=\u001b[39m\u001b[38;5;124m\"\u001b[39m\u001b[38;5;124mPython\u001b[39m\u001b[38;5;124m\"\u001b[39m\n",
      "Input \u001b[1;32mIn [6]\u001b[0m, in \u001b[0;36mfonksiyon\u001b[1;34m()\u001b[0m\n\u001b[0;32m      1\u001b[0m \u001b[38;5;28;01mdef\u001b[39;00m \u001b[38;5;21mfonksiyon\u001b[39m():\n\u001b[1;32m----> 2\u001b[0m     \u001b[38;5;28mprint\u001b[39m(\u001b[43ms\u001b[49m)\n",
      "\u001b[1;31mNameError\u001b[0m: name 's' is not defined"
     ]
    }
   ],
   "source": [
    "def fonksiyon():# fonksıyon tanımlandıgı sırada s degıskenı olmadıgı ıcın hata verdı.\n",
    "    print(s)\n",
    "fonksiyon()\n",
    "s=\"Python\""
   ]
  },
  {
   "cell_type": "code",
   "execution_count": 7,
   "id": "60ae6b28",
   "metadata": {},
   "outputs": [
    {
     "name": "stdout",
     "output_type": "stream",
     "text": [
      "2\n",
      "10\n"
     ]
    }
   ],
   "source": [
    "c=10\n",
    "def fonksiyon():\n",
    "    c=2\n",
    "    print(c)\n",
    "fonksiyon()\n",
    "print(c)"
   ]
  },
  {
   "cell_type": "code",
   "execution_count": 8,
   "id": "65bb7216",
   "metadata": {},
   "outputs": [
    {
     "name": "stdout",
     "output_type": "stream",
     "text": [
      "3\n",
      "3\n"
     ]
    }
   ],
   "source": [
    "d=5 # global d dıyınce d degıskenı globalde 3 degerını aldı ve 3 yazdırdı.\n",
    "def fonksiyon():\n",
    "    global d\n",
    "    d=3\n",
    "    print(d)\n",
    "fonksiyon()\n",
    "print(d)"
   ]
  },
  {
   "cell_type": "code",
   "execution_count": null,
   "id": "d880c6c2",
   "metadata": {},
   "outputs": [],
   "source": []
  }
 ],
 "metadata": {
  "kernelspec": {
   "display_name": "Python 3 (ipykernel)",
   "language": "python",
   "name": "python3"
  },
  "language_info": {
   "codemirror_mode": {
    "name": "ipython",
    "version": 3
   },
   "file_extension": ".py",
   "mimetype": "text/x-python",
   "name": "python",
   "nbconvert_exporter": "python",
   "pygments_lexer": "ipython3",
   "version": "3.9.12"
  }
 },
 "nbformat": 4,
 "nbformat_minor": 5
}
