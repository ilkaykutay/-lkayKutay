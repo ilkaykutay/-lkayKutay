{
 "cells": [
  {
   "cell_type": "markdown",
   "id": "9f27fa7b",
   "metadata": {},
   "source": [
    "Bir sınıfın bir sınıftan ozellıklerını mıras almasıdır."
   ]
  },
  {
   "cell_type": "code",
   "execution_count": 1,
   "id": "91d11548",
   "metadata": {},
   "outputs": [],
   "source": [
    "class çalışan():\n",
    "    def __init__(self,isim,maaş,departman):\n",
    "        print(\"Çalışan sınıfının init fonksiyonu.\")\n",
    "        self.isim=isim\n",
    "        self.maaş=maaş\n",
    "        self.departman=departman\n",
    "    def bilgilerigöster(self):\n",
    "        print(\"\"\"Çalışan sınıfının bilgileri:\n",
    "              İsim:{}\\nMaaş:{}\\nDepartman:{}\\n\"\"\".format(self.isim,self.maaş,self.departman))\n",
    "    def departman_değiş(self,yeni_departman):\n",
    "        print(\"Departman değiştirilyor.\")\n",
    "        self.departman=yeni_departman\n",
    "    "
   ]
  },
  {
   "cell_type": "code",
   "execution_count": 2,
   "id": "c2b870ca",
   "metadata": {},
   "outputs": [],
   "source": [
    "class Yönetici(çalışan):\n",
    "    pass #pythonda eger bır blogu sonradan tanımlıycaksan pass deyımı kullanılır."
   ]
  },
  {
   "cell_type": "code",
   "execution_count": 3,
   "id": "a976868c",
   "metadata": {},
   "outputs": [
    {
     "name": "stdout",
     "output_type": "stream",
     "text": [
      "Çalışan sınıfının init fonksiyonu.\n"
     ]
    }
   ],
   "source": [
    "yönetici=Yönetici(\"ilkay\",3000,\"Bilişim\")"
   ]
  },
  {
   "cell_type": "code",
   "execution_count": 4,
   "id": "17fe6ab5",
   "metadata": {},
   "outputs": [
    {
     "name": "stdout",
     "output_type": "stream",
     "text": [
      "Çalışan sınıfının bilgileri:\n",
      "              İsim:ilkay\n",
      "Maaş:3000\n",
      "Departman:Bilişim\n",
      "\n"
     ]
    }
   ],
   "source": [
    "yönetici.bilgilerigöster()"
   ]
  },
  {
   "cell_type": "code",
   "execution_count": 5,
   "id": "d6a8f791",
   "metadata": {},
   "outputs": [
    {
     "name": "stdout",
     "output_type": "stream",
     "text": [
      "Departman değiştirilyor.\n"
     ]
    }
   ],
   "source": [
    "yönetici.departman_değiş(\"İletişim\")"
   ]
  },
  {
   "cell_type": "code",
   "execution_count": 6,
   "id": "d9d8978d",
   "metadata": {},
   "outputs": [
    {
     "name": "stdout",
     "output_type": "stream",
     "text": [
      "Çalışan sınıfının bilgileri:\n",
      "              İsim:ilkay\n",
      "Maaş:3000\n",
      "Departman:İletişim\n",
      "\n"
     ]
    }
   ],
   "source": [
    "yönetici.bilgilerigöster()"
   ]
  },
  {
   "cell_type": "code",
   "execution_count": 7,
   "id": "a3617459",
   "metadata": {},
   "outputs": [],
   "source": [
    "class Yönetici(çalışan):\n",
    "    def zam_yap(self,zam_miktarı):\n",
    "        self.maaş+=zam_miktarı"
   ]
  },
  {
   "cell_type": "code",
   "execution_count": 8,
   "id": "2cfd9b53",
   "metadata": {},
   "outputs": [
    {
     "name": "stdout",
     "output_type": "stream",
     "text": [
      "Çalışan sınıfının init fonksiyonu.\n"
     ]
    }
   ],
   "source": [
    "yönetici=Yönetici(\"Kutay\",4000,\"Pazarlama\")"
   ]
  },
  {
   "cell_type": "code",
   "execution_count": 9,
   "id": "ca18254a",
   "metadata": {},
   "outputs": [],
   "source": [
    "yönetici.zam_yap(500)"
   ]
  },
  {
   "cell_type": "code",
   "execution_count": 10,
   "id": "adf13b28",
   "metadata": {},
   "outputs": [
    {
     "name": "stdout",
     "output_type": "stream",
     "text": [
      "Çalışan sınıfının bilgileri:\n",
      "              İsim:Kutay\n",
      "Maaş:4500\n",
      "Departman:Pazarlama\n",
      "\n"
     ]
    }
   ],
   "source": [
    "yönetici.bilgilerigöster()"
   ]
  },
  {
   "cell_type": "code",
   "execution_count": 11,
   "id": "5397dc7e",
   "metadata": {},
   "outputs": [],
   "source": [
    "class Yönetici(çalışan):\n",
    "    def __init__(self,isim,maaş,departman,kişi_sayısı):\n",
    "        print(\"Yönetici sınıfının init fonksiyonu.\")\n",
    "        self.isim=isim\n",
    "        self.maaş=maaş\n",
    "        self.departman=departman\n",
    "        self.kişi_sayısı=kişi_sayısı\n",
    "    def bilgilerigöster(self):\n",
    "        print(\"\"\"Yönetici sınıfının bilgileri:İsim:{}\\nMaaş:{}\\nDepartman:{}\\n Kişi Sayısı:{}\"\"\".format(self.isim,self.maaş,self.departman,self.kişi_sayısı))\n",
    "    def zam_yap(self,zam_miktarı):\n",
    "        self.maaş+=zam_miktarı"
   ]
  },
  {
   "cell_type": "code",
   "execution_count": 12,
   "id": "0843667a",
   "metadata": {},
   "outputs": [
    {
     "name": "stdout",
     "output_type": "stream",
     "text": [
      "Yönetici sınıfının init fonksiyonu.\n"
     ]
    }
   ],
   "source": [
    "yönetici=Yönetici(\"ilkay\",3000,\"iletişim\",10)"
   ]
  },
  {
   "cell_type": "code",
   "execution_count": 13,
   "id": "573b201d",
   "metadata": {},
   "outputs": [
    {
     "name": "stdout",
     "output_type": "stream",
     "text": [
      "Yönetici sınıfının bilgileri:İsim:ilkay\n",
      "Maaş:3000\n",
      "Departman:iletişim\n",
      " Kişi Sayısı:10\n"
     ]
    }
   ],
   "source": [
    "yönetici.bilgilerigöster()"
   ]
  },
  {
   "cell_type": "markdown",
   "id": "04b177d1",
   "metadata": {},
   "source": [
    "OVERRİDİNG(İPTAL ETME):Eger bız mıras aldıgımız metodları aynı ısımle kendı sınıfımızda tekrar tanımlarsak,artık metodu cagırdıgımız zaman miras aldıgımız değil kendi metodumuz çalışacaktır.Buna nesne tabanlı programlama da kodu overrıdıng etme denmektedır."
   ]
  },
  {
   "cell_type": "code",
   "execution_count": 14,
   "id": "3453f654",
   "metadata": {},
   "outputs": [],
   "source": [
    "class çalışan():\n",
    "    def __init__(self,isim,maaş,departman):\n",
    "        print(\"Çalışan sınıfının init fonksiyonu.\")\n",
    "        self.isim=isim\n",
    "        self.maaş=maaş\n",
    "        self.departman=departman\n",
    "    def bilgilerigöster(self):\n",
    "        print(\"\"\"Çalışan sınıfının bilgileri:\n",
    "              İsim:{}\\nMaaş:{}\\nDepartman:{}\\n\"\"\".format(self.isim,self.maaş,self.departman))\n",
    "    def departman_değiş(self,yeni_departman):\n",
    "        print(\"Departman değiştirilyor.\")\n",
    "        self.departman=yeni_departman"
   ]
  },
  {
   "cell_type": "code",
   "execution_count": 15,
   "id": "7c621654",
   "metadata": {},
   "outputs": [],
   "source": [
    "class Yönetici(çalışan):\n",
    "    def __init__(self,isim,maaş,departman,kişi_sayısı):\n",
    "        super().__init__(isim,maaş,departman)\n",
    "        print(\"Yönetici sınıfının init fonksiyonu.\")\n",
    "        self.kişi_sayısı=kişi_sayısı\n",
    "    def bilgilerigöster(self):\n",
    "        print(\"\"\"Yönetici sınıfının bilgileri:İsim:{}\\nMaaş:{}\\nDepartman:{}\\n Kişi Sayısı:{}\"\"\".format(self.isim,self.maaş,self.departman,self.kişi_sayısı))\n",
    "    def zam_yap(self,zam_miktarı):\n",
    "        self.maaş+=zam_miktarı"
   ]
  },
  {
   "cell_type": "code",
   "execution_count": 16,
   "id": "b6a54da5",
   "metadata": {},
   "outputs": [
    {
     "name": "stdout",
     "output_type": "stream",
     "text": [
      "Çalışan sınıfının init fonksiyonu.\n",
      "Yönetici sınıfının init fonksiyonu.\n"
     ]
    }
   ],
   "source": [
    "yönetici=Yönetici(\"İlkay\",3000,\"İletişim\",5)"
   ]
  },
  {
   "cell_type": "code",
   "execution_count": 17,
   "id": "c6af8ebd",
   "metadata": {},
   "outputs": [
    {
     "name": "stdout",
     "output_type": "stream",
     "text": [
      "Yönetici sınıfının bilgileri:İsim:İlkay\n",
      "Maaş:3000\n",
      "Departman:İletişim\n",
      " Kişi Sayısı:5\n"
     ]
    }
   ],
   "source": [
    "yönetici.bilgilerigöster()"
   ]
  },
  {
   "cell_type": "code",
   "execution_count": null,
   "id": "ff6d94fc",
   "metadata": {},
   "outputs": [],
   "source": []
  }
 ],
 "metadata": {
  "kernelspec": {
   "display_name": "Python 3 (ipykernel)",
   "language": "python",
   "name": "python3"
  },
  "language_info": {
   "codemirror_mode": {
    "name": "ipython",
    "version": 3
   },
   "file_extension": ".py",
   "mimetype": "text/x-python",
   "name": "python",
   "nbconvert_exporter": "python",
   "pygments_lexer": "ipython3",
   "version": "3.9.12"
  }
 },
 "nbformat": 4,
 "nbformat_minor": 5
}
