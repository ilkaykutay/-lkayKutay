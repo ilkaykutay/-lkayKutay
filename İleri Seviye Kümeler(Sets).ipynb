{
 "cells": [
  {
   "cell_type": "markdown",
   "id": "d58bb1be",
   "metadata": {},
   "source": [
    "Kümeler, matematikte olduğu gibi bir elemandan sadece bir adet tutan bir veritipidir. Bu açıdan kullanıldıkları yerlerde çok önemli bir veritipi olmaktadırlar. İsterseniz hemen bir küme oluşturalım."
   ]
  },
  {
   "cell_type": "code",
   "execution_count": 3,
   "id": "0581426c",
   "metadata": {},
   "outputs": [],
   "source": [
    "x=set()#bos kume"
   ]
  },
  {
   "cell_type": "code",
   "execution_count": 2,
   "id": "2b8de3af",
   "metadata": {},
   "outputs": [
    {
     "data": {
      "text/plain": [
       "set"
      ]
     },
     "execution_count": 2,
     "metadata": {},
     "output_type": "execute_result"
    }
   ],
   "source": [
    "type(x)"
   ]
  },
  {
   "cell_type": "code",
   "execution_count": 6,
   "id": "71d3abe8",
   "metadata": {},
   "outputs": [],
   "source": [
    "x={1,2,3}#Küme tanımlama\n"
   ]
  },
  {
   "cell_type": "code",
   "execution_count": 7,
   "id": "0511bb77",
   "metadata": {},
   "outputs": [
    {
     "data": {
      "text/plain": [
       "set"
      ]
     },
     "execution_count": 7,
     "metadata": {},
     "output_type": "execute_result"
    }
   ],
   "source": [
    "type(x)"
   ]
  },
  {
   "cell_type": "code",
   "execution_count": 8,
   "id": "d9719ab6",
   "metadata": {},
   "outputs": [
    {
     "data": {
      "text/plain": [
       "{1, 2, 3}"
      ]
     },
     "execution_count": 8,
     "metadata": {},
     "output_type": "execute_result"
    }
   ],
   "source": [
    "liste = [1,2,3,3,1,1,2,2,2]\n",
    "set(liste)"
   ]
  },
  {
   "cell_type": "code",
   "execution_count": 9,
   "id": "08c30a47",
   "metadata": {},
   "outputs": [],
   "source": [
    "x = set(\"Python Programlama Dili\")"
   ]
  },
  {
   "cell_type": "code",
   "execution_count": 10,
   "id": "7ef238bf",
   "metadata": {},
   "outputs": [
    {
     "data": {
      "text/plain": [
       "{' ', 'D', 'P', 'a', 'g', 'h', 'i', 'l', 'm', 'n', 'o', 'r', 't', 'y'}"
      ]
     },
     "execution_count": 10,
     "metadata": {},
     "output_type": "execute_result"
    }
   ],
   "source": [
    "x"
   ]
  },
  {
   "cell_type": "code",
   "execution_count": 11,
   "id": "fc5cc190",
   "metadata": {},
   "outputs": [
    {
     "data": {
      "text/plain": [
       "{'Php', 'Python'}"
      ]
     },
     "execution_count": 11,
     "metadata": {},
     "output_type": "execute_result"
    }
   ],
   "source": [
    "x = {\"Python\",\"Php\",\"Python\"}\n",
    "x"
   ]
  },
  {
   "cell_type": "code",
   "execution_count": 14,
   "id": "f4c3efa5",
   "metadata": {},
   "outputs": [
    {
     "data": {
      "text/plain": [
       "{'Kiraz', 'Muz', 'armut', 'elma'}"
      ]
     },
     "execution_count": 14,
     "metadata": {},
     "output_type": "execute_result"
    }
   ],
   "source": [
    "x={\"elma\",\"armut\",\"Kiraz\",\"Muz\"}#Sırasız bır verıtıpıdır.\n",
    "x"
   ]
  },
  {
   "cell_type": "code",
   "execution_count": 15,
   "id": "b7e831e8",
   "metadata": {},
   "outputs": [
    {
     "name": "stdout",
     "output_type": "stream",
     "text": [
      "elma\n",
      "armut\n",
      "Muz\n",
      "Kiraz\n"
     ]
    }
   ],
   "source": [
    "for i in x:\n",
    "    print(i)"
   ]
  },
  {
   "cell_type": "code",
   "execution_count": 16,
   "id": "2ba8af3b",
   "metadata": {},
   "outputs": [],
   "source": [
    "x = {\"Python\",\"Php\",\"Java\",\"C\",\"Javascript\"}"
   ]
  },
  {
   "cell_type": "code",
   "execution_count": 17,
   "id": "874ca167",
   "metadata": {},
   "outputs": [
    {
     "ename": "TypeError",
     "evalue": "'set' object is not subscriptable",
     "output_type": "error",
     "traceback": [
      "\u001b[1;31m---------------------------------------------------------------------------\u001b[0m",
      "\u001b[1;31mTypeError\u001b[0m                                 Traceback (most recent call last)",
      "\u001b[1;32m~\\AppData\\Local\\Temp\\ipykernel_6932\\3629782281.py\u001b[0m in \u001b[0;36m<module>\u001b[1;34m\u001b[0m\n\u001b[1;32m----> 1\u001b[1;33m \u001b[0mx\u001b[0m\u001b[1;33m[\u001b[0m\u001b[1;36m0\u001b[0m\u001b[1;33m]\u001b[0m\u001b[1;33m\u001b[0m\u001b[1;33m\u001b[0m\u001b[0m\n\u001b[0m",
      "\u001b[1;31mTypeError\u001b[0m: 'set' object is not subscriptable"
     ]
    }
   ],
   "source": [
    "x[0]"
   ]
  },
  {
   "cell_type": "code",
   "execution_count": 21,
   "id": "7a3cd827",
   "metadata": {},
   "outputs": [
    {
     "ename": "TypeError",
     "evalue": "'set' object is not subscriptable",
     "output_type": "error",
     "traceback": [
      "\u001b[1;31m---------------------------------------------------------------------------\u001b[0m",
      "\u001b[1;31mTypeError\u001b[0m                                 Traceback (most recent call last)",
      "\u001b[1;32m~\\AppData\\Local\\Temp\\ipykernel_6932\\2864367258.py\u001b[0m in \u001b[0;36m<module>\u001b[1;34m\u001b[0m\n\u001b[1;32m----> 1\u001b[1;33m \u001b[0mx\u001b[0m\u001b[1;33m[\u001b[0m\u001b[1;34m\"Python\"\u001b[0m\u001b[1;33m]\u001b[0m\u001b[1;31m#Yani kumedekı elemanlara direkt ulaşamıyoruz.Eger erısmek ıstıyorsak veritpi donusumu yapmamız lazım.\u001b[0m\u001b[1;33m\u001b[0m\u001b[1;33m\u001b[0m\u001b[0m\n\u001b[0m",
      "\u001b[1;31mTypeError\u001b[0m: 'set' object is not subscriptable"
     ]
    }
   ],
   "source": [
    "x[\"Python\"]#Yani kumedekı elemanlara direkt ulaşamıyoruz.Eger erısmek ıstıyorsak veritpi donusumu yapmamız lazım."
   ]
  },
  {
   "cell_type": "code",
   "execution_count": 22,
   "id": "e2ed0779",
   "metadata": {},
   "outputs": [
    {
     "data": {
      "text/plain": [
       "1"
      ]
     },
     "execution_count": 22,
     "metadata": {},
     "output_type": "execute_result"
    }
   ],
   "source": [
    "liste = list({1,2,3,4,5})\n",
    "liste[0]"
   ]
  },
  {
   "cell_type": "markdown",
   "id": "371bdbfd",
   "metadata": {},
   "source": [
    "add metodu:Bir kumeye olmayan eleman eklememızı saglar."
   ]
  },
  {
   "cell_type": "code",
   "execution_count": 23,
   "id": "25c155d8",
   "metadata": {},
   "outputs": [],
   "source": [
    "x={1,2,3}\n",
    "x.add(4)"
   ]
  },
  {
   "cell_type": "code",
   "execution_count": 24,
   "id": "5a05605a",
   "metadata": {},
   "outputs": [
    {
     "data": {
      "text/plain": [
       "{1, 2, 3, 4}"
      ]
     },
     "execution_count": 24,
     "metadata": {},
     "output_type": "execute_result"
    }
   ],
   "source": [
    "x"
   ]
  },
  {
   "cell_type": "code",
   "execution_count": 26,
   "id": "b5c0802d",
   "metadata": {},
   "outputs": [
    {
     "data": {
      "text/plain": [
       "{1, 2, 3, 4}"
      ]
     },
     "execution_count": 26,
     "metadata": {},
     "output_type": "execute_result"
    }
   ],
   "source": [
    "x.add(2)#2 oldugu ıcın hıcbırsey olmadı.\n",
    "x"
   ]
  },
  {
   "cell_type": "markdown",
   "id": "2555464a",
   "metadata": {},
   "source": [
    "difference metodu:Bu metod birinci kümede olup ıkıncı kumede olmayan elemanları döner."
   ]
  },
  {
   "cell_type": "code",
   "execution_count": 27,
   "id": "8fb77e12",
   "metadata": {},
   "outputs": [],
   "source": [
    "küme1 = {1,2,3,10,34,100,-2}\n",
    "küme2 = {1,2,23,34,-1}"
   ]
  },
  {
   "cell_type": "code",
   "execution_count": 28,
   "id": "85f2e1e8",
   "metadata": {},
   "outputs": [
    {
     "data": {
      "text/plain": [
       "{-2, 3, 10, 100}"
      ]
     },
     "execution_count": 28,
     "metadata": {},
     "output_type": "execute_result"
    }
   ],
   "source": [
    "küme1.difference(küme2)"
   ]
  },
  {
   "cell_type": "code",
   "execution_count": 29,
   "id": "834114a7",
   "metadata": {},
   "outputs": [
    {
     "data": {
      "text/plain": [
       "{-1, 23}"
      ]
     },
     "execution_count": 29,
     "metadata": {},
     "output_type": "execute_result"
    }
   ],
   "source": [
    "küme2.difference(küme1)"
   ]
  },
  {
   "cell_type": "markdown",
   "id": "e5bfca21",
   "metadata": {},
   "source": [
    "difference_update metodu:Bu metod birinci kümede olup ikinci kümede olmayan elemanları döner ve birinci kümeyi buna gore gunceller."
   ]
  },
  {
   "cell_type": "code",
   "execution_count": 30,
   "id": "35b5b363",
   "metadata": {},
   "outputs": [],
   "source": [
    "küme1 = {1,2,3,10,34,100,-2}\n",
    "küme2 = {1,2,23,34,-1}"
   ]
  },
  {
   "cell_type": "code",
   "execution_count": 31,
   "id": "48bfa8af",
   "metadata": {},
   "outputs": [],
   "source": [
    "küme1.difference_update(küme2)"
   ]
  },
  {
   "cell_type": "code",
   "execution_count": 32,
   "id": "40f1d116",
   "metadata": {},
   "outputs": [
    {
     "data": {
      "text/plain": [
       "{-2, 3, 10, 100}"
      ]
     },
     "execution_count": 32,
     "metadata": {},
     "output_type": "execute_result"
    }
   ],
   "source": [
    "küme1"
   ]
  },
  {
   "cell_type": "markdown",
   "id": "5b4e947a",
   "metadata": {},
   "source": [
    "discard metodu:İçine verilen değeri kümeden çıkartır. Eğer kümede öyle bir değer yoksa, bu metod hiçbir şey yapmaz(Hata vermez)."
   ]
  },
  {
   "cell_type": "code",
   "execution_count": 33,
   "id": "d687e2d9",
   "metadata": {},
   "outputs": [],
   "source": [
    "x={1,2,3,4,6}"
   ]
  },
  {
   "cell_type": "code",
   "execution_count": 34,
   "id": "4637b880",
   "metadata": {},
   "outputs": [],
   "source": [
    "x.discard(2)"
   ]
  },
  {
   "cell_type": "code",
   "execution_count": 35,
   "id": "067f1bba",
   "metadata": {},
   "outputs": [
    {
     "data": {
      "text/plain": [
       "{1, 3, 4, 6}"
      ]
     },
     "execution_count": 35,
     "metadata": {},
     "output_type": "execute_result"
    }
   ],
   "source": [
    "x"
   ]
  },
  {
   "cell_type": "code",
   "execution_count": 36,
   "id": "77d0fd6b",
   "metadata": {},
   "outputs": [],
   "source": [
    "x.discard(7)"
   ]
  },
  {
   "cell_type": "code",
   "execution_count": 37,
   "id": "94ca376e",
   "metadata": {},
   "outputs": [
    {
     "data": {
      "text/plain": [
       "{1, 3, 4, 6}"
      ]
     },
     "execution_count": 37,
     "metadata": {},
     "output_type": "execute_result"
    }
   ],
   "source": [
    "x"
   ]
  },
  {
   "cell_type": "markdown",
   "id": "8dfd6882",
   "metadata": {},
   "source": [
    "intersection metodu:Bu metod iki kümenin kesişimleri bulmamızı sağlar."
   ]
  },
  {
   "cell_type": "code",
   "execution_count": 38,
   "id": "ae219628",
   "metadata": {},
   "outputs": [],
   "source": [
    "küme1 = {1,2,3,10,34,100,-2}\n",
    "küme2 = {1,2,23,34,-1}"
   ]
  },
  {
   "cell_type": "code",
   "execution_count": 39,
   "id": "9ddbae2a",
   "metadata": {},
   "outputs": [
    {
     "data": {
      "text/plain": [
       "{1, 2, 34}"
      ]
     },
     "execution_count": 39,
     "metadata": {},
     "output_type": "execute_result"
    }
   ],
   "source": [
    "küme1.intersection(küme2)"
   ]
  },
  {
   "cell_type": "markdown",
   "id": "228cb280",
   "metadata": {},
   "source": [
    "intersection_update metodu:Bu metod birinci kümeyle ikinci kümenin kesişimlerini bulur ve birinci kümeyi bu kesişime göre günceller."
   ]
  },
  {
   "cell_type": "code",
   "execution_count": 40,
   "id": "7d53b480",
   "metadata": {},
   "outputs": [],
   "source": [
    "küme1 = {1,2,3,10,34,100,-2}\n",
    "küme2 = {1,2,23,34,-1}"
   ]
  },
  {
   "cell_type": "code",
   "execution_count": 41,
   "id": "77144100",
   "metadata": {},
   "outputs": [],
   "source": [
    "küme1.intersection_update(küme2)"
   ]
  },
  {
   "cell_type": "code",
   "execution_count": 42,
   "id": "1647c62f",
   "metadata": {},
   "outputs": [
    {
     "data": {
      "text/plain": [
       "{1, 2, 34}"
      ]
     },
     "execution_count": 42,
     "metadata": {},
     "output_type": "execute_result"
    }
   ],
   "source": [
    "küme1"
   ]
  },
  {
   "cell_type": "markdown",
   "id": "a6975454",
   "metadata": {},
   "source": [
    "isdisjoint metodu:Bu metod, eğer iki kümenin kesişim kümesi boş ise True, değilse False döner."
   ]
  },
  {
   "cell_type": "code",
   "execution_count": 43,
   "id": "89a5be98",
   "metadata": {},
   "outputs": [],
   "source": [
    "küme1 = {1,2,3,10,34,100,-2}\n",
    "küme2 = {1,2,23,34,-1}\n",
    "küme3 = {30,40,50}"
   ]
  },
  {
   "cell_type": "code",
   "execution_count": 44,
   "id": "b7449d59",
   "metadata": {},
   "outputs": [
    {
     "data": {
      "text/plain": [
       "False"
      ]
     },
     "execution_count": 44,
     "metadata": {},
     "output_type": "execute_result"
    }
   ],
   "source": [
    "küme1.isdisjoint(küme2)"
   ]
  },
  {
   "cell_type": "code",
   "execution_count": 45,
   "id": "b2a1196a",
   "metadata": {},
   "outputs": [
    {
     "data": {
      "text/plain": [
       "True"
      ]
     },
     "execution_count": 45,
     "metadata": {},
     "output_type": "execute_result"
    }
   ],
   "source": [
    "küme1.isdisjoint(küme3)"
   ]
  },
  {
   "cell_type": "markdown",
   "id": "0a03be63",
   "metadata": {},
   "source": [
    "issubset metodu:Bu metod , birinci küme ikinci kümenin alt kümesiyse True, değilse False döner."
   ]
  },
  {
   "cell_type": "code",
   "execution_count": 46,
   "id": "7616dcce",
   "metadata": {},
   "outputs": [],
   "source": [
    "küme1 = {1,2,3}\n",
    "küme2 = {1,2,3,4}\n",
    "küme3 = {5,6,7}\n"
   ]
  },
  {
   "cell_type": "code",
   "execution_count": 47,
   "id": "bccb4c2d",
   "metadata": {},
   "outputs": [
    {
     "data": {
      "text/plain": [
       "True"
      ]
     },
     "execution_count": 47,
     "metadata": {},
     "output_type": "execute_result"
    }
   ],
   "source": [
    "küme1.issubset(küme2)"
   ]
  },
  {
   "cell_type": "code",
   "execution_count": 48,
   "id": "2c68c24f",
   "metadata": {},
   "outputs": [
    {
     "data": {
      "text/plain": [
       "False"
      ]
     },
     "execution_count": 48,
     "metadata": {},
     "output_type": "execute_result"
    }
   ],
   "source": [
    "küme1.issubset(küme3)"
   ]
  },
  {
   "cell_type": "markdown",
   "id": "34fdaed7",
   "metadata": {},
   "source": [
    "union metodu:Bu metod, iki kümenin birleşim kümesini döner."
   ]
  },
  {
   "cell_type": "code",
   "execution_count": 49,
   "id": "15bb5fe2",
   "metadata": {},
   "outputs": [],
   "source": [
    "küme1 = {1,2,3,10,34,100,-2}\n",
    "küme2 = {1,2,23,34,-1}"
   ]
  },
  {
   "cell_type": "code",
   "execution_count": 50,
   "id": "a0abf2d7",
   "metadata": {},
   "outputs": [
    {
     "data": {
      "text/plain": [
       "{-2, -1, 1, 2, 3, 10, 23, 34, 100}"
      ]
     },
     "execution_count": 50,
     "metadata": {},
     "output_type": "execute_result"
    }
   ],
   "source": [
    "küme1.union(küme2)"
   ]
  },
  {
   "cell_type": "markdown",
   "id": "9d8d86d1",
   "metadata": {},
   "source": [
    "update metodu:Bu birinci kümeyle ikinci kümenin birleşim kümesini döner ve birinci kümeyi buna göre günceller."
   ]
  },
  {
   "cell_type": "code",
   "execution_count": 51,
   "id": "e283e672",
   "metadata": {},
   "outputs": [],
   "source": [
    "küme1 = {1,2,3,10,34,100,-2}\n",
    "küme2 = {1,2,23,34,-1}"
   ]
  },
  {
   "cell_type": "code",
   "execution_count": 52,
   "id": "f341aeca",
   "metadata": {},
   "outputs": [],
   "source": [
    "küme1.update(küme2)"
   ]
  },
  {
   "cell_type": "code",
   "execution_count": 53,
   "id": "be8858c1",
   "metadata": {},
   "outputs": [
    {
     "data": {
      "text/plain": [
       "{-2, -1, 1, 2, 3, 10, 23, 34, 100}"
      ]
     },
     "execution_count": 53,
     "metadata": {},
     "output_type": "execute_result"
    }
   ],
   "source": [
    "küme1\n"
   ]
  },
  {
   "cell_type": "code",
   "execution_count": null,
   "id": "bcb65de1",
   "metadata": {},
   "outputs": [],
   "source": []
  }
 ],
 "metadata": {
  "kernelspec": {
   "display_name": "Python 3 (ipykernel)",
   "language": "python",
   "name": "python3"
  },
  "language_info": {
   "codemirror_mode": {
    "name": "ipython",
    "version": 3
   },
   "file_extension": ".py",
   "mimetype": "text/x-python",
   "name": "python",
   "nbconvert_exporter": "python",
   "pygments_lexer": "ipython3",
   "version": "3.9.13"
  }
 },
 "nbformat": 4,
 "nbformat_minor": 5
}
