{
 "cells": [
  {
   "cell_type": "code",
   "execution_count": 5,
   "id": "84f8e5c7",
   "metadata": {},
   "outputs": [],
   "source": [
    "class yazılımcı():\n",
    "    def __init__(self,isim,soyisim,numara,maaş,diller):\n",
    "        self.isim=isim\n",
    "        self.soyisim=soyisim\n",
    "        self.numara=numara\n",
    "        self.maaş=maaş\n",
    "        self.diller=diller\n",
    "    def bilgilerigöster(self):\n",
    "        print(\"\"\" \n",
    "        İsim:{}\n",
    "        \n",
    "        Soyisim:{}\n",
    "        \n",
    "        Numara:{}\n",
    "        \n",
    "        Maaş:{}\n",
    "        \n",
    "        Diller:{}\n",
    "        \n",
    "        \"\"\".format(self.isim,self.soyisim,self.numara,self.maaş,self.diller))"
   ]
  },
  {
   "cell_type": "code",
   "execution_count": 6,
   "id": "e27cdfbb",
   "metadata": {},
   "outputs": [],
   "source": [
    "yazılımcı1=yazılımcı(\"ilkay\",\"kutay\",12345,3000,[\"python\",\"C\",\"Java\"])"
   ]
  },
  {
   "cell_type": "code",
   "execution_count": 9,
   "id": "b93340bb",
   "metadata": {},
   "outputs": [
    {
     "name": "stdout",
     "output_type": "stream",
     "text": [
      " \n",
      "        İsim:ilkay\n",
      "        \n",
      "        Soyisim:kutay\n",
      "        \n",
      "        Numara:12345\n",
      "        \n",
      "        Maaş:3000\n",
      "        \n",
      "        Diller:['python', 'C', 'Java']\n",
      "        \n",
      "        \n"
     ]
    }
   ],
   "source": [
    "yazılımcı1.bilgilerigöster()#Burda bilgilerigosterın cıkmasının nedenı yenı bır metod eklıyoruz."
   ]
  },
  {
   "cell_type": "code",
   "execution_count": 18,
   "id": "78b9d243",
   "metadata": {},
   "outputs": [],
   "source": [
    "class yazılımcı():\n",
    "    def __init__(self,isim,soyisim,numara,maaş,diller):\n",
    "        self.isim=isim\n",
    "        self.soyisim=soyisim\n",
    "        self.numara=numara\n",
    "        self.maaş=maaş\n",
    "        self.diller=diller\n",
    "    def bilgilerigöster(self):\n",
    "        print(\"\"\" \n",
    "        İsim:{}\n",
    "        \n",
    "        Soyisim:{}\n",
    "        \n",
    "        Numara:{}\n",
    "        \n",
    "        Maaş:{}\n",
    "        \n",
    "        Diller:{}\n",
    "        \n",
    "        \"\"\".format(self.isim,self.soyisim,self.numara,self.maaş,self.diller))\n",
    "    def zam_yap(self,zam_miktarı):\n",
    "        print(\"Zam Yapılıyor...\")\n",
    "        self.maaş+=zam_miktarı\n",
    "    def dil_ekle(self,yeni_dil):\n",
    "        print(\"Dil Ekleniyor...\")\n",
    "        self.diller.append(yeni_dil)"
   ]
  },
  {
   "cell_type": "code",
   "execution_count": 19,
   "id": "ca215603",
   "metadata": {},
   "outputs": [],
   "source": [
    "yazılımcı1=yazılımcı(\"ilkay\",\"kutay\",12345,3000,[\"python\",\"C\",\"Java\"])"
   ]
  },
  {
   "cell_type": "code",
   "execution_count": 21,
   "id": "02ef5c4d",
   "metadata": {},
   "outputs": [
    {
     "name": "stdout",
     "output_type": "stream",
     "text": [
      " \n",
      "        İsim:ilkay\n",
      "        \n",
      "        Soyisim:kutay\n",
      "        \n",
      "        Numara:12345\n",
      "        \n",
      "        Maaş:3000\n",
      "        \n",
      "        Diller:['python', 'C', 'Java']\n",
      "        \n",
      "        \n"
     ]
    }
   ],
   "source": [
    "yazılımcı1.bilgilerigöster()"
   ]
  },
  {
   "cell_type": "code",
   "execution_count": 22,
   "id": "6dca71aa",
   "metadata": {},
   "outputs": [
    {
     "name": "stdout",
     "output_type": "stream",
     "text": [
      "Dil Ekleniyor...\n"
     ]
    }
   ],
   "source": [
    "yazılımcı1.dil_ekle(\"GO\")"
   ]
  },
  {
   "cell_type": "code",
   "execution_count": 23,
   "id": "3794ce10",
   "metadata": {},
   "outputs": [
    {
     "name": "stdout",
     "output_type": "stream",
     "text": [
      " \n",
      "        İsim:ilkay\n",
      "        \n",
      "        Soyisim:kutay\n",
      "        \n",
      "        Numara:12345\n",
      "        \n",
      "        Maaş:3000\n",
      "        \n",
      "        Diller:['python', 'C', 'Java', 'GO']\n",
      "        \n",
      "        \n"
     ]
    }
   ],
   "source": [
    "yazılımcı1.bilgilerigöster()"
   ]
  },
  {
   "cell_type": "code",
   "execution_count": 24,
   "id": "035398ab",
   "metadata": {},
   "outputs": [
    {
     "name": "stdout",
     "output_type": "stream",
     "text": [
      "Zam Yapılıyor...\n"
     ]
    }
   ],
   "source": [
    "yazılımcı1.zam_yap(1000)"
   ]
  },
  {
   "cell_type": "code",
   "execution_count": 25,
   "id": "e552876e",
   "metadata": {},
   "outputs": [
    {
     "name": "stdout",
     "output_type": "stream",
     "text": [
      " \n",
      "        İsim:ilkay\n",
      "        \n",
      "        Soyisim:kutay\n",
      "        \n",
      "        Numara:12345\n",
      "        \n",
      "        Maaş:4000\n",
      "        \n",
      "        Diller:['python', 'C', 'Java', 'GO']\n",
      "        \n",
      "        \n"
     ]
    }
   ],
   "source": [
    "yazılımcı1.bilgilerigöster()"
   ]
  },
  {
   "cell_type": "code",
   "execution_count": 50,
   "id": "f459e97b",
   "metadata": {},
   "outputs": [],
   "source": [
    "class futbolcu():\n",
    "    def __init__(self,isim,soyisim,boy,kilo,yag_oranı):\n",
    "        self.isim=isim\n",
    "        self.soyisim=soyisim\n",
    "        self.boy=boy\n",
    "        self.kilo=kilo\n",
    "        self.yag_oranı=yag_oranı\n",
    "    def bilgileri(self):\n",
    "        print(\"\"\"\n",
    "        İsim:{}\n",
    "        Soyisim:{}\n",
    "        Boy:{}\n",
    "        Kilo:{}\n",
    "        Yağ Oranı:{}\n",
    "        \"\"\".format(self.isim,self.soyisim,self.boy,self.kilo,self.yag_oranı))\n",
    "    def olmalı(self,yag):\n",
    "        print(\"Yag oranı hesaplanıyor...\")\n",
    "        self.yag_oranı=yag\n",
    "    def isim_değişme(self,değiş):\n",
    "        print(\"İsim Değiştiriliyor.\")\n",
    "        self.isim=değiş"
   ]
  },
  {
   "cell_type": "code",
   "execution_count": 51,
   "id": "6ca37fcb",
   "metadata": {},
   "outputs": [],
   "source": [
    "futbolcu1=futbolcu(\"İlkay\",\"Kutay\",\"180 cm\",\"83 kg\",23)"
   ]
  },
  {
   "cell_type": "code",
   "execution_count": 52,
   "id": "2e8e079b",
   "metadata": {},
   "outputs": [
    {
     "name": "stdout",
     "output_type": "stream",
     "text": [
      "\n",
      "        İsim:İlkay\n",
      "        Soyisim:Kutay\n",
      "        Boy:180 cm\n",
      "        Kilo:83 kg\n",
      "        Yağ Oranı:23\n",
      "        \n"
     ]
    }
   ],
   "source": [
    "futbolcu1.bilgileri()"
   ]
  },
  {
   "cell_type": "code",
   "execution_count": 53,
   "id": "13106c08",
   "metadata": {},
   "outputs": [
    {
     "name": "stdout",
     "output_type": "stream",
     "text": [
      "Yag oranı hesaplanıyor...\n"
     ]
    }
   ],
   "source": [
    "futbolcu1.olmalı(13)"
   ]
  },
  {
   "cell_type": "code",
   "execution_count": 54,
   "id": "42026baf",
   "metadata": {},
   "outputs": [
    {
     "name": "stdout",
     "output_type": "stream",
     "text": [
      "\n",
      "        İsim:İlkay\n",
      "        Soyisim:Kutay\n",
      "        Boy:180 cm\n",
      "        Kilo:83 kg\n",
      "        Yağ Oranı:13\n",
      "        \n"
     ]
    }
   ],
   "source": [
    "futbolcu1.bilgileri()"
   ]
  },
  {
   "cell_type": "code",
   "execution_count": 55,
   "id": "298865ae",
   "metadata": {},
   "outputs": [
    {
     "name": "stdout",
     "output_type": "stream",
     "text": [
      "İsim Değiştiriliyor.\n"
     ]
    }
   ],
   "source": [
    "futbolcu1.isim_değişme(\"Leo\")"
   ]
  },
  {
   "cell_type": "code",
   "execution_count": 56,
   "id": "8ccea3c5",
   "metadata": {},
   "outputs": [
    {
     "name": "stdout",
     "output_type": "stream",
     "text": [
      "\n",
      "        İsim:Leo\n",
      "        Soyisim:Kutay\n",
      "        Boy:180 cm\n",
      "        Kilo:83 kg\n",
      "        Yağ Oranı:13\n",
      "        \n"
     ]
    }
   ],
   "source": [
    "futbolcu1.bilgileri()"
   ]
  },
  {
   "cell_type": "code",
   "execution_count": null,
   "id": "99c3a3d7",
   "metadata": {},
   "outputs": [],
   "source": []
  }
 ],
 "metadata": {
  "kernelspec": {
   "display_name": "Python 3 (ipykernel)",
   "language": "python",
   "name": "python3"
  },
  "language_info": {
   "codemirror_mode": {
    "name": "ipython",
    "version": 3
   },
   "file_extension": ".py",
   "mimetype": "text/x-python",
   "name": "python",
   "nbconvert_exporter": "python",
   "pygments_lexer": "ipython3",
   "version": "3.9.12"
  }
 },
 "nbformat": 4,
 "nbformat_minor": 5
}
