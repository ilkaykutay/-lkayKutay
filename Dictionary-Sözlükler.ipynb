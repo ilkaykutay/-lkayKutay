{
 "cells": [
  {
   "cell_type": "markdown",
   "id": "f4675c2f",
   "metadata": {},
   "source": [
    "Sözlükler(Dictionary):Sözlüğün içindeki herbir eleman indeks ile değil,anahtar(key),değer(value) olarak tutulur.Bu anlamda gercek hayattakı sozluklere oldukca benzerler."
   ]
  },
  {
   "cell_type": "code",
   "execution_count": 13,
   "id": "0546c399",
   "metadata": {},
   "outputs": [],
   "source": [
    "sözlük1 ={\"bir\":1,\"iki\":2,\"üç\":3,\"dört\":4}"
   ]
  },
  {
   "cell_type": "code",
   "execution_count": 2,
   "id": "e4dc16f8",
   "metadata": {},
   "outputs": [
    {
     "data": {
      "text/plain": [
       "dict"
      ]
     },
     "execution_count": 2,
     "metadata": {},
     "output_type": "execute_result"
    }
   ],
   "source": [
    "type(sözlük1)"
   ]
  },
  {
   "cell_type": "code",
   "execution_count": 3,
   "id": "13500f94",
   "metadata": {},
   "outputs": [],
   "source": [
    "sözlük2={}"
   ]
  },
  {
   "cell_type": "code",
   "execution_count": 4,
   "id": "01f2f8a0",
   "metadata": {},
   "outputs": [
    {
     "data": {
      "text/plain": [
       "{}"
      ]
     },
     "execution_count": 4,
     "metadata": {},
     "output_type": "execute_result"
    }
   ],
   "source": [
    "sözlük2"
   ]
  },
  {
   "cell_type": "code",
   "execution_count": 5,
   "id": "7cc8d03a",
   "metadata": {},
   "outputs": [],
   "source": [
    "sözlük2 = dict()#veya"
   ]
  },
  {
   "cell_type": "code",
   "execution_count": 6,
   "id": "d48d7036",
   "metadata": {},
   "outputs": [
    {
     "data": {
      "text/plain": [
       "{}"
      ]
     },
     "execution_count": 6,
     "metadata": {},
     "output_type": "execute_result"
    }
   ],
   "source": [
    "sözlük2"
   ]
  },
  {
   "cell_type": "code",
   "execution_count": 7,
   "id": "c6833dac",
   "metadata": {},
   "outputs": [
    {
     "data": {
      "text/plain": [
       "{'bir': 1, 'iki': 2, 'üç': 3, 'dört': 4}"
      ]
     },
     "execution_count": 7,
     "metadata": {},
     "output_type": "execute_result"
    }
   ],
   "source": [
    "sözlük1"
   ]
  },
  {
   "cell_type": "code",
   "execution_count": 8,
   "id": "fd8c0c59",
   "metadata": {},
   "outputs": [
    {
     "data": {
      "text/plain": [
       "1"
      ]
     },
     "execution_count": 8,
     "metadata": {},
     "output_type": "execute_result"
    }
   ],
   "source": [
    "sözlük1[\"bir\"]"
   ]
  },
  {
   "cell_type": "code",
   "execution_count": 9,
   "id": "c1e58cb3",
   "metadata": {},
   "outputs": [
    {
     "data": {
      "text/plain": [
       "2"
      ]
     },
     "execution_count": 9,
     "metadata": {},
     "output_type": "execute_result"
    }
   ],
   "source": [
    "sözlük1[\"iki\"]"
   ]
  },
  {
   "cell_type": "code",
   "execution_count": 10,
   "id": "c4404e75",
   "metadata": {},
   "outputs": [
    {
     "ename": "KeyError",
     "evalue": "'Beş'",
     "output_type": "error",
     "traceback": [
      "\u001b[1;31m---------------------------------------------------------------------------\u001b[0m",
      "\u001b[1;31mKeyError\u001b[0m                                  Traceback (most recent call last)",
      "Input \u001b[1;32mIn [10]\u001b[0m, in \u001b[0;36m<cell line: 1>\u001b[1;34m()\u001b[0m\n\u001b[1;32m----> 1\u001b[0m \u001b[43msözlük1\u001b[49m\u001b[43m[\u001b[49m\u001b[38;5;124;43m\"\u001b[39;49m\u001b[38;5;124;43mBeş\u001b[39;49m\u001b[38;5;124;43m\"\u001b[39;49m\u001b[43m]\u001b[49m\n",
      "\u001b[1;31mKeyError\u001b[0m: 'Beş'"
     ]
    }
   ],
   "source": [
    "sözlük1[\"Beş\"] #sozlukte olmayan bir key degerı gırersen hata verır."
   ]
  },
  {
   "cell_type": "code",
   "execution_count": 15,
   "id": "93c15834",
   "metadata": {},
   "outputs": [],
   "source": [
    "sözlük1[\"Beş\"]=5 #istediğimiz zaman da eleman eklıyebılıriz."
   ]
  },
  {
   "cell_type": "code",
   "execution_count": 16,
   "id": "6adf8bba",
   "metadata": {},
   "outputs": [
    {
     "data": {
      "text/plain": [
       "{'bir': 1, 'iki': 2, 'üç': 3, 'dört': 4, 'Beş': 5}"
      ]
     },
     "execution_count": 16,
     "metadata": {},
     "output_type": "execute_result"
    }
   ],
   "source": [
    "sözlük1"
   ]
  },
  {
   "cell_type": "code",
   "execution_count": 17,
   "id": "f39f2565",
   "metadata": {},
   "outputs": [],
   "source": [
    "a={\"bir\":[1,2,3,4],\"iki\":[[1,2],[3,4],[5,6]],\"üç\":[12,345]}"
   ]
  },
  {
   "cell_type": "code",
   "execution_count": 18,
   "id": "3e9e108e",
   "metadata": {},
   "outputs": [
    {
     "data": {
      "text/plain": [
       "{'bir': [1, 2, 3, 4], 'iki': [[1, 2], [3, 4], [5, 6]], 'üç': [12, 345]}"
      ]
     },
     "execution_count": 18,
     "metadata": {},
     "output_type": "execute_result"
    }
   ],
   "source": [
    "a"
   ]
  },
  {
   "cell_type": "code",
   "execution_count": 21,
   "id": "5beb8063",
   "metadata": {},
   "outputs": [
    {
     "data": {
      "text/plain": [
       "[1, 2, 3, 4]"
      ]
     },
     "execution_count": 21,
     "metadata": {},
     "output_type": "execute_result"
    }
   ],
   "source": [
    "a[\"bir\"]"
   ]
  },
  {
   "cell_type": "code",
   "execution_count": 22,
   "id": "ab4fc258",
   "metadata": {},
   "outputs": [
    {
     "data": {
      "text/plain": [
       "[3, 4]"
      ]
     },
     "execution_count": 22,
     "metadata": {},
     "output_type": "execute_result"
    }
   ],
   "source": [
    "a[\"iki\"][1]"
   ]
  },
  {
   "cell_type": "code",
   "execution_count": 23,
   "id": "854c0173",
   "metadata": {},
   "outputs": [
    {
     "data": {
      "text/plain": [
       "4"
      ]
     },
     "execution_count": 23,
     "metadata": {},
     "output_type": "execute_result"
    }
   ],
   "source": [
    "a[\"iki\"][1][1]"
   ]
  },
  {
   "cell_type": "code",
   "execution_count": 24,
   "id": "35e33b11",
   "metadata": {},
   "outputs": [],
   "source": [
    "sözlük1[\"Beş\"]=10#sozluktekı degerı degıstırmek ıstıyosan direkt degerı degıstırebılırsın."
   ]
  },
  {
   "cell_type": "code",
   "execution_count": 25,
   "id": "f14776a2",
   "metadata": {},
   "outputs": [
    {
     "data": {
      "text/plain": [
       "{'bir': 1, 'iki': 2, 'üç': 3, 'dört': 4, 'Beş': 10}"
      ]
     },
     "execution_count": 25,
     "metadata": {},
     "output_type": "execute_result"
    }
   ],
   "source": [
    "sözlük1"
   ]
  },
  {
   "cell_type": "code",
   "execution_count": 26,
   "id": "ec2786ae",
   "metadata": {},
   "outputs": [],
   "source": [
    "sözlük1[\"Beş\"]+=1#sözlüktekı herhangı bır degerı arttırmak ıcın bunu uygula."
   ]
  },
  {
   "cell_type": "code",
   "execution_count": 28,
   "id": "4fc1337e",
   "metadata": {},
   "outputs": [
    {
     "data": {
      "text/plain": [
       "11"
      ]
     },
     "execution_count": 28,
     "metadata": {},
     "output_type": "execute_result"
    }
   ],
   "source": [
    "sözlük1[\"Beş\"]"
   ]
  },
  {
   "cell_type": "code",
   "execution_count": 29,
   "id": "8990581c",
   "metadata": {},
   "outputs": [],
   "source": [
    "sözlük1[\"dört\"]*=2"
   ]
  },
  {
   "cell_type": "code",
   "execution_count": 30,
   "id": "1638fe4d",
   "metadata": {},
   "outputs": [
    {
     "data": {
      "text/plain": [
       "8"
      ]
     },
     "execution_count": 30,
     "metadata": {},
     "output_type": "execute_result"
    }
   ],
   "source": [
    "sözlük1[\"dört\"]"
   ]
  },
  {
   "cell_type": "markdown",
   "id": "656ffd52",
   "metadata": {},
   "source": [
    "İÇ İÇE SÖZLÜK OLUŞTURMA\n"
   ]
  },
  {
   "cell_type": "code",
   "execution_count": 31,
   "id": "741d48ec",
   "metadata": {},
   "outputs": [],
   "source": [
    "b={\"Sayılar\":{\"bir\":1,\"iki\":2,\"üç\":3},\"Meyveler\":{\"erik\":\"Yaz\",\"portakal\":\"Kış\"}}"
   ]
  },
  {
   "cell_type": "code",
   "execution_count": 32,
   "id": "6d538bb1",
   "metadata": {},
   "outputs": [
    {
     "data": {
      "text/plain": [
       "{'Sayılar': {'bir': 1, 'iki': 2, 'üç': 3},\n",
       " 'Meyveler': {'erik': 'Yaz', 'portakal': 'Kış'}}"
      ]
     },
     "execution_count": 32,
     "metadata": {},
     "output_type": "execute_result"
    }
   ],
   "source": [
    "b"
   ]
  },
  {
   "cell_type": "code",
   "execution_count": 33,
   "id": "e46d9383",
   "metadata": {},
   "outputs": [
    {
     "data": {
      "text/plain": [
       "{'bir': 1, 'iki': 2, 'üç': 3}"
      ]
     },
     "execution_count": 33,
     "metadata": {},
     "output_type": "execute_result"
    }
   ],
   "source": [
    "b[\"Sayılar\"]"
   ]
  },
  {
   "cell_type": "code",
   "execution_count": 34,
   "id": "1a37f707",
   "metadata": {},
   "outputs": [
    {
     "data": {
      "text/plain": [
       "1"
      ]
     },
     "execution_count": 34,
     "metadata": {},
     "output_type": "execute_result"
    }
   ],
   "source": [
    "b[\"Sayılar\"][\"bir\"]"
   ]
  },
  {
   "cell_type": "code",
   "execution_count": 35,
   "id": "1e4f88bf",
   "metadata": {},
   "outputs": [
    {
     "data": {
      "text/plain": [
       "{'bir': 1, 'iki': 2, 'üç': 3, 'dört': 8, 'Beş': 11}"
      ]
     },
     "execution_count": 35,
     "metadata": {},
     "output_type": "execute_result"
    }
   ],
   "source": [
    "sözlük1"
   ]
  },
  {
   "cell_type": "code",
   "execution_count": 36,
   "id": "502cd0f2",
   "metadata": {},
   "outputs": [
    {
     "data": {
      "text/plain": [
       "dict_keys(['bir', 'iki', 'üç', 'dört', 'Beş'])"
      ]
     },
     "execution_count": 36,
     "metadata": {},
     "output_type": "execute_result"
    }
   ],
   "source": [
    "sözlük1.keys() # Bu metod sadece anahtarları yazdırmayı saglar."
   ]
  },
  {
   "cell_type": "code",
   "execution_count": 37,
   "id": "59bdd818",
   "metadata": {},
   "outputs": [
    {
     "data": {
      "text/plain": [
       "dict_values([1, 2, 3, 8, 11])"
      ]
     },
     "execution_count": 37,
     "metadata": {},
     "output_type": "execute_result"
    }
   ],
   "source": [
    "sözlük1.values() #Bu metod sadece değerleri yazdırır."
   ]
  },
  {
   "cell_type": "code",
   "execution_count": 38,
   "id": "85ee8160",
   "metadata": {},
   "outputs": [
    {
     "data": {
      "text/plain": [
       "dict_items([('bir', 1), ('iki', 2), ('üç', 3), ('dört', 8), ('Beş', 11)])"
      ]
     },
     "execution_count": 38,
     "metadata": {},
     "output_type": "execute_result"
    }
   ],
   "source": [
    "sözlük1.items() # Tuple seklınde yazdırıyor."
   ]
  },
  {
   "cell_type": "code",
   "execution_count": null,
   "id": "add0c583",
   "metadata": {},
   "outputs": [],
   "source": [
    "for k,v in sözlük1"
   ]
  }
 ],
 "metadata": {
  "kernelspec": {
   "display_name": "Python 3 (ipykernel)",
   "language": "python",
   "name": "python3"
  },
  "language_info": {
   "codemirror_mode": {
    "name": "ipython",
    "version": 3
   },
   "file_extension": ".py",
   "mimetype": "text/x-python",
   "name": "python",
   "nbconvert_exporter": "python",
   "pygments_lexer": "ipython3",
   "version": "3.9.12"
  }
 },
 "nbformat": 4,
 "nbformat_minor": 5
}
